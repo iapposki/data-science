{
 "cells": [
  {
   "cell_type": "markdown",
   "id": "1848f4a4",
   "metadata": {
    "papermill": {
     "duration": 0.00696,
     "end_time": "2023-10-23T11:48:17.978364",
     "exception": false,
     "start_time": "2023-10-23T11:48:17.971404",
     "status": "completed"
    },
    "tags": []
   },
   "source": [
    "**This notebook is an exercise in the [Pandas](https://www.kaggle.com/learn/pandas) course.  You can reference the tutorial at [this link](https://www.kaggle.com/residentmario/renaming-and-combining).**\n",
    "\n",
    "---\n"
   ]
  },
  {
   "cell_type": "markdown",
   "id": "f2732ac7",
   "metadata": {
    "papermill": {
     "duration": 0.004119,
     "end_time": "2023-10-23T11:48:17.987177",
     "exception": false,
     "start_time": "2023-10-23T11:48:17.983058",
     "status": "completed"
    },
    "tags": []
   },
   "source": [
    "# Introduction\n",
    "\n",
    "Run the following cell to load your data and some utility functions."
   ]
  },
  {
   "cell_type": "code",
   "execution_count": 1,
   "id": "bb568302",
   "metadata": {
    "execution": {
     "iopub.execute_input": "2023-10-23T11:48:17.997727Z",
     "iopub.status.busy": "2023-10-23T11:48:17.997350Z",
     "iopub.status.idle": "2023-10-23T11:48:22.583087Z",
     "shell.execute_reply": "2023-10-23T11:48:22.582049Z"
    },
    "papermill": {
     "duration": 4.594311,
     "end_time": "2023-10-23T11:48:22.585906",
     "exception": false,
     "start_time": "2023-10-23T11:48:17.991595",
     "status": "completed"
    },
    "tags": []
   },
   "outputs": [
    {
     "name": "stdout",
     "output_type": "stream",
     "text": [
      "Setup complete.\n"
     ]
    }
   ],
   "source": [
    "import pandas as pd\n",
    "\n",
    "reviews = pd.read_csv(\"../input/wine-reviews/winemag-data-130k-v2.csv\", index_col=0)\n",
    "\n",
    "from learntools.core import binder; binder.bind(globals())\n",
    "from learntools.pandas.renaming_and_combining import *\n",
    "print(\"Setup complete.\")"
   ]
  },
  {
   "cell_type": "markdown",
   "id": "e5a3214b",
   "metadata": {
    "papermill": {
     "duration": 0.004453,
     "end_time": "2023-10-23T11:48:22.595222",
     "exception": false,
     "start_time": "2023-10-23T11:48:22.590769",
     "status": "completed"
    },
    "tags": []
   },
   "source": [
    "# Exercises\n",
    "\n",
    "View the first several lines of your data by running the cell below:"
   ]
  },
  {
   "cell_type": "code",
   "execution_count": 2,
   "id": "6c772d17",
   "metadata": {
    "execution": {
     "iopub.execute_input": "2023-10-23T11:48:22.606168Z",
     "iopub.status.busy": "2023-10-23T11:48:22.605556Z",
     "iopub.status.idle": "2023-10-23T11:48:22.627869Z",
     "shell.execute_reply": "2023-10-23T11:48:22.626779Z"
    },
    "papermill": {
     "duration": 0.03018,
     "end_time": "2023-10-23T11:48:22.630166",
     "exception": false,
     "start_time": "2023-10-23T11:48:22.599986",
     "status": "completed"
    },
    "tags": []
   },
   "outputs": [
    {
     "data": {
      "text/html": [
       "<div>\n",
       "<style scoped>\n",
       "    .dataframe tbody tr th:only-of-type {\n",
       "        vertical-align: middle;\n",
       "    }\n",
       "\n",
       "    .dataframe tbody tr th {\n",
       "        vertical-align: top;\n",
       "    }\n",
       "\n",
       "    .dataframe thead th {\n",
       "        text-align: right;\n",
       "    }\n",
       "</style>\n",
       "<table border=\"1\" class=\"dataframe\">\n",
       "  <thead>\n",
       "    <tr style=\"text-align: right;\">\n",
       "      <th></th>\n",
       "      <th>country</th>\n",
       "      <th>description</th>\n",
       "      <th>designation</th>\n",
       "      <th>points</th>\n",
       "      <th>price</th>\n",
       "      <th>province</th>\n",
       "      <th>region_1</th>\n",
       "      <th>region_2</th>\n",
       "      <th>taster_name</th>\n",
       "      <th>taster_twitter_handle</th>\n",
       "      <th>title</th>\n",
       "      <th>variety</th>\n",
       "      <th>winery</th>\n",
       "    </tr>\n",
       "  </thead>\n",
       "  <tbody>\n",
       "    <tr>\n",
       "      <th>0</th>\n",
       "      <td>Italy</td>\n",
       "      <td>Aromas include tropical fruit, broom, brimston...</td>\n",
       "      <td>Vulkà Bianco</td>\n",
       "      <td>87</td>\n",
       "      <td>NaN</td>\n",
       "      <td>Sicily &amp; Sardinia</td>\n",
       "      <td>Etna</td>\n",
       "      <td>NaN</td>\n",
       "      <td>Kerin O’Keefe</td>\n",
       "      <td>@kerinokeefe</td>\n",
       "      <td>Nicosia 2013 Vulkà Bianco  (Etna)</td>\n",
       "      <td>White Blend</td>\n",
       "      <td>Nicosia</td>\n",
       "    </tr>\n",
       "    <tr>\n",
       "      <th>1</th>\n",
       "      <td>Portugal</td>\n",
       "      <td>This is ripe and fruity, a wine that is smooth...</td>\n",
       "      <td>Avidagos</td>\n",
       "      <td>87</td>\n",
       "      <td>15.0</td>\n",
       "      <td>Douro</td>\n",
       "      <td>NaN</td>\n",
       "      <td>NaN</td>\n",
       "      <td>Roger Voss</td>\n",
       "      <td>@vossroger</td>\n",
       "      <td>Quinta dos Avidagos 2011 Avidagos Red (Douro)</td>\n",
       "      <td>Portuguese Red</td>\n",
       "      <td>Quinta dos Avidagos</td>\n",
       "    </tr>\n",
       "    <tr>\n",
       "      <th>2</th>\n",
       "      <td>US</td>\n",
       "      <td>Tart and snappy, the flavors of lime flesh and...</td>\n",
       "      <td>NaN</td>\n",
       "      <td>87</td>\n",
       "      <td>14.0</td>\n",
       "      <td>Oregon</td>\n",
       "      <td>Willamette Valley</td>\n",
       "      <td>Willamette Valley</td>\n",
       "      <td>Paul Gregutt</td>\n",
       "      <td>@paulgwine</td>\n",
       "      <td>Rainstorm 2013 Pinot Gris (Willamette Valley)</td>\n",
       "      <td>Pinot Gris</td>\n",
       "      <td>Rainstorm</td>\n",
       "    </tr>\n",
       "    <tr>\n",
       "      <th>3</th>\n",
       "      <td>US</td>\n",
       "      <td>Pineapple rind, lemon pith and orange blossom ...</td>\n",
       "      <td>Reserve Late Harvest</td>\n",
       "      <td>87</td>\n",
       "      <td>13.0</td>\n",
       "      <td>Michigan</td>\n",
       "      <td>Lake Michigan Shore</td>\n",
       "      <td>NaN</td>\n",
       "      <td>Alexander Peartree</td>\n",
       "      <td>NaN</td>\n",
       "      <td>St. Julian 2013 Reserve Late Harvest Riesling ...</td>\n",
       "      <td>Riesling</td>\n",
       "      <td>St. Julian</td>\n",
       "    </tr>\n",
       "    <tr>\n",
       "      <th>4</th>\n",
       "      <td>US</td>\n",
       "      <td>Much like the regular bottling from 2012, this...</td>\n",
       "      <td>Vintner's Reserve Wild Child Block</td>\n",
       "      <td>87</td>\n",
       "      <td>65.0</td>\n",
       "      <td>Oregon</td>\n",
       "      <td>Willamette Valley</td>\n",
       "      <td>Willamette Valley</td>\n",
       "      <td>Paul Gregutt</td>\n",
       "      <td>@paulgwine</td>\n",
       "      <td>Sweet Cheeks 2012 Vintner's Reserve Wild Child...</td>\n",
       "      <td>Pinot Noir</td>\n",
       "      <td>Sweet Cheeks</td>\n",
       "    </tr>\n",
       "  </tbody>\n",
       "</table>\n",
       "</div>"
      ],
      "text/plain": [
       "    country                                        description  \\\n",
       "0     Italy  Aromas include tropical fruit, broom, brimston...   \n",
       "1  Portugal  This is ripe and fruity, a wine that is smooth...   \n",
       "2        US  Tart and snappy, the flavors of lime flesh and...   \n",
       "3        US  Pineapple rind, lemon pith and orange blossom ...   \n",
       "4        US  Much like the regular bottling from 2012, this...   \n",
       "\n",
       "                          designation  points  price           province  \\\n",
       "0                        Vulkà Bianco      87    NaN  Sicily & Sardinia   \n",
       "1                            Avidagos      87   15.0              Douro   \n",
       "2                                 NaN      87   14.0             Oregon   \n",
       "3                Reserve Late Harvest      87   13.0           Michigan   \n",
       "4  Vintner's Reserve Wild Child Block      87   65.0             Oregon   \n",
       "\n",
       "              region_1           region_2         taster_name  \\\n",
       "0                 Etna                NaN       Kerin O’Keefe   \n",
       "1                  NaN                NaN          Roger Voss   \n",
       "2    Willamette Valley  Willamette Valley        Paul Gregutt   \n",
       "3  Lake Michigan Shore                NaN  Alexander Peartree   \n",
       "4    Willamette Valley  Willamette Valley        Paul Gregutt   \n",
       "\n",
       "  taster_twitter_handle                                              title  \\\n",
       "0          @kerinokeefe                  Nicosia 2013 Vulkà Bianco  (Etna)   \n",
       "1            @vossroger      Quinta dos Avidagos 2011 Avidagos Red (Douro)   \n",
       "2           @paulgwine       Rainstorm 2013 Pinot Gris (Willamette Valley)   \n",
       "3                   NaN  St. Julian 2013 Reserve Late Harvest Riesling ...   \n",
       "4           @paulgwine   Sweet Cheeks 2012 Vintner's Reserve Wild Child...   \n",
       "\n",
       "          variety               winery  \n",
       "0     White Blend              Nicosia  \n",
       "1  Portuguese Red  Quinta dos Avidagos  \n",
       "2      Pinot Gris            Rainstorm  \n",
       "3        Riesling           St. Julian  \n",
       "4      Pinot Noir         Sweet Cheeks  "
      ]
     },
     "execution_count": 2,
     "metadata": {},
     "output_type": "execute_result"
    }
   ],
   "source": [
    "reviews.head()"
   ]
  },
  {
   "cell_type": "markdown",
   "id": "351344c5",
   "metadata": {
    "papermill": {
     "duration": 0.004733,
     "end_time": "2023-10-23T11:48:22.639918",
     "exception": false,
     "start_time": "2023-10-23T11:48:22.635185",
     "status": "completed"
    },
    "tags": []
   },
   "source": [
    "## 1.\n",
    "`region_1` and `region_2` are pretty uninformative names for locale columns in the dataset. Create a copy of `reviews` with these columns renamed to `region` and `locale`, respectively."
   ]
  },
  {
   "cell_type": "code",
   "execution_count": 3,
   "id": "919991a8",
   "metadata": {
    "execution": {
     "iopub.execute_input": "2023-10-23T11:48:22.651070Z",
     "iopub.status.busy": "2023-10-23T11:48:22.650674Z",
     "iopub.status.idle": "2023-10-23T11:48:22.672673Z",
     "shell.execute_reply": "2023-10-23T11:48:22.671683Z"
    },
    "papermill": {
     "duration": 0.030336,
     "end_time": "2023-10-23T11:48:22.675022",
     "exception": false,
     "start_time": "2023-10-23T11:48:22.644686",
     "status": "completed"
    },
    "tags": []
   },
   "outputs": [
    {
     "data": {
      "application/javascript": [
       "parent.postMessage({\"jupyterEvent\": \"custom.exercise_interaction\", \"data\": {\"outcomeType\": 1, \"valueTowardsCompletion\": 0.25, \"interactionType\": 1, \"questionType\": 1, \"questionId\": \"1_RenameCols\", \"learnToolsVersion\": \"0.3.4\", \"failureMessage\": \"\", \"exceptionClass\": \"\", \"trace\": \"\"}}, \"*\")"
      ],
      "text/plain": [
       "<IPython.core.display.Javascript object>"
      ]
     },
     "metadata": {},
     "output_type": "display_data"
    },
    {
     "data": {
      "text/markdown": [
       "<span style=\"color:#33cc33\">Correct</span>"
      ],
      "text/plain": [
       "Correct"
      ]
     },
     "metadata": {},
     "output_type": "display_data"
    }
   ],
   "source": [
    "# Your code here\n",
    "renamed = reviews.rename(columns={'region_1': 'region', 'region_2':'locale'})\n",
    "\n",
    "# Check your answer\n",
    "q1.check()"
   ]
  },
  {
   "cell_type": "code",
   "execution_count": 4,
   "id": "f4485f8a",
   "metadata": {
    "execution": {
     "iopub.execute_input": "2023-10-23T11:48:22.687469Z",
     "iopub.status.busy": "2023-10-23T11:48:22.686805Z",
     "iopub.status.idle": "2023-10-23T11:48:22.690221Z",
     "shell.execute_reply": "2023-10-23T11:48:22.689574Z"
    },
    "papermill": {
     "duration": 0.011796,
     "end_time": "2023-10-23T11:48:22.692169",
     "exception": false,
     "start_time": "2023-10-23T11:48:22.680373",
     "status": "completed"
    },
    "tags": []
   },
   "outputs": [],
   "source": [
    "#q1.hint()\n",
    "#q1.solution()"
   ]
  },
  {
   "cell_type": "markdown",
   "id": "c6ea1144",
   "metadata": {
    "papermill": {
     "duration": 0.005064,
     "end_time": "2023-10-23T11:48:22.702537",
     "exception": false,
     "start_time": "2023-10-23T11:48:22.697473",
     "status": "completed"
    },
    "tags": []
   },
   "source": [
    "## 2.\n",
    "Set the index name in the dataset to `wines`."
   ]
  },
  {
   "cell_type": "code",
   "execution_count": 5,
   "id": "4c2691d3",
   "metadata": {
    "execution": {
     "iopub.execute_input": "2023-10-23T11:48:22.714992Z",
     "iopub.status.busy": "2023-10-23T11:48:22.714327Z",
     "iopub.status.idle": "2023-10-23T11:48:22.732336Z",
     "shell.execute_reply": "2023-10-23T11:48:22.731385Z"
    },
    "papermill": {
     "duration": 0.026568,
     "end_time": "2023-10-23T11:48:22.734570",
     "exception": false,
     "start_time": "2023-10-23T11:48:22.708002",
     "status": "completed"
    },
    "tags": []
   },
   "outputs": [
    {
     "data": {
      "application/javascript": [
       "parent.postMessage({\"jupyterEvent\": \"custom.exercise_interaction\", \"data\": {\"outcomeType\": 1, \"valueTowardsCompletion\": 0.25, \"interactionType\": 1, \"questionType\": 1, \"questionId\": \"2_RenameIndex\", \"learnToolsVersion\": \"0.3.4\", \"failureMessage\": \"\", \"exceptionClass\": \"\", \"trace\": \"\"}}, \"*\")"
      ],
      "text/plain": [
       "<IPython.core.display.Javascript object>"
      ]
     },
     "metadata": {},
     "output_type": "display_data"
    },
    {
     "data": {
      "text/markdown": [
       "<span style=\"color:#33cc33\">Correct</span>"
      ],
      "text/plain": [
       "Correct"
      ]
     },
     "metadata": {},
     "output_type": "display_data"
    }
   ],
   "source": [
    "reindexed = reviews.rename_axis('wines', axis='rows')\n",
    "\n",
    "# Check your answer\n",
    "q2.check()"
   ]
  },
  {
   "cell_type": "code",
   "execution_count": 6,
   "id": "fea6a5cd",
   "metadata": {
    "execution": {
     "iopub.execute_input": "2023-10-23T11:48:22.746956Z",
     "iopub.status.busy": "2023-10-23T11:48:22.746583Z",
     "iopub.status.idle": "2023-10-23T11:48:22.750493Z",
     "shell.execute_reply": "2023-10-23T11:48:22.749611Z"
    },
    "papermill": {
     "duration": 0.01238,
     "end_time": "2023-10-23T11:48:22.752529",
     "exception": false,
     "start_time": "2023-10-23T11:48:22.740149",
     "status": "completed"
    },
    "tags": []
   },
   "outputs": [],
   "source": [
    "#q2.hint()\n",
    "#q2.solution()"
   ]
  },
  {
   "cell_type": "markdown",
   "id": "c0cd6a88",
   "metadata": {
    "papermill": {
     "duration": 0.00524,
     "end_time": "2023-10-23T11:48:22.763222",
     "exception": false,
     "start_time": "2023-10-23T11:48:22.757982",
     "status": "completed"
    },
    "tags": []
   },
   "source": [
    "## 3.\n",
    "The [Things on Reddit](https://www.kaggle.com/residentmario/things-on-reddit/data) dataset includes product links from a selection of top-ranked forums (\"subreddits\") on reddit.com. Run the cell below to load a dataframe of products mentioned on the */r/gaming* subreddit and another dataframe for products mentioned on the *r//movies* subreddit."
   ]
  },
  {
   "cell_type": "code",
   "execution_count": 7,
   "id": "93d55e6f",
   "metadata": {
    "execution": {
     "iopub.execute_input": "2023-10-23T11:48:22.775768Z",
     "iopub.status.busy": "2023-10-23T11:48:22.775149Z",
     "iopub.status.idle": "2023-10-23T11:48:22.788037Z",
     "shell.execute_reply": "2023-10-23T11:48:22.787320Z"
    },
    "papermill": {
     "duration": 0.021491,
     "end_time": "2023-10-23T11:48:22.790046",
     "exception": false,
     "start_time": "2023-10-23T11:48:22.768555",
     "status": "completed"
    },
    "tags": []
   },
   "outputs": [],
   "source": [
    "gaming_products = pd.read_csv(\"../input/things-on-reddit/top-things/top-things/reddits/g/gaming.csv\")\n",
    "gaming_products['subreddit'] = \"r/gaming\"\n",
    "movie_products = pd.read_csv(\"../input/things-on-reddit/top-things/top-things/reddits/m/movies.csv\")\n",
    "movie_products['subreddit'] = \"r/movies\""
   ]
  },
  {
   "cell_type": "markdown",
   "id": "a5df7da0",
   "metadata": {
    "papermill": {
     "duration": 0.005466,
     "end_time": "2023-10-23T11:48:22.801183",
     "exception": false,
     "start_time": "2023-10-23T11:48:22.795717",
     "status": "completed"
    },
    "tags": []
   },
   "source": [
    "Create a `DataFrame` of products mentioned on *either* subreddit."
   ]
  },
  {
   "cell_type": "code",
   "execution_count": 8,
   "id": "edc8995a",
   "metadata": {
    "execution": {
     "iopub.execute_input": "2023-10-23T11:48:22.814367Z",
     "iopub.status.busy": "2023-10-23T11:48:22.813737Z",
     "iopub.status.idle": "2023-10-23T11:48:22.821274Z",
     "shell.execute_reply": "2023-10-23T11:48:22.820202Z"
    },
    "papermill": {
     "duration": 0.016402,
     "end_time": "2023-10-23T11:48:22.823333",
     "exception": false,
     "start_time": "2023-10-23T11:48:22.806931",
     "status": "completed"
    },
    "tags": []
   },
   "outputs": [
    {
     "data": {
      "application/javascript": [
       "parent.postMessage({\"jupyterEvent\": \"custom.exercise_interaction\", \"data\": {\"outcomeType\": 4, \"interactionType\": 1, \"questionType\": 2, \"questionId\": \"3_ConcatReddit\", \"learnToolsVersion\": \"0.3.4\", \"valueTowardsCompletion\": 0.0, \"failureMessage\": \"\", \"exceptionClass\": \"\", \"trace\": \"\"}}, \"*\")"
      ],
      "text/plain": [
       "<IPython.core.display.Javascript object>"
      ]
     },
     "metadata": {},
     "output_type": "display_data"
    },
    {
     "data": {
      "text/markdown": [
       "<span style=\"color:#ccaa33\">Check:</span> When you've updated the starter code, `check()` will tell you whether your code is correct. You need to update the code that creates variable `combined_products`"
      ],
      "text/plain": [
       "Check: When you've updated the starter code, `check()` will tell you whether your code is correct. You need to update the code that creates variable `combined_products`"
      ]
     },
     "metadata": {},
     "output_type": "display_data"
    }
   ],
   "source": [
    "combined_products = ____\n",
    "\n",
    "# Check your answer\n",
    "q3.check()"
   ]
  },
  {
   "cell_type": "code",
   "execution_count": 9,
   "id": "d0b72ed0",
   "metadata": {
    "execution": {
     "iopub.execute_input": "2023-10-23T11:48:22.836808Z",
     "iopub.status.busy": "2023-10-23T11:48:22.836150Z",
     "iopub.status.idle": "2023-10-23T11:48:22.840173Z",
     "shell.execute_reply": "2023-10-23T11:48:22.839489Z"
    },
    "papermill": {
     "duration": 0.012971,
     "end_time": "2023-10-23T11:48:22.842120",
     "exception": false,
     "start_time": "2023-10-23T11:48:22.829149",
     "status": "completed"
    },
    "tags": []
   },
   "outputs": [],
   "source": [
    "#q3.hint()\n",
    "#q3.solution()"
   ]
  },
  {
   "cell_type": "markdown",
   "id": "afc61929",
   "metadata": {
    "papermill": {
     "duration": 0.005595,
     "end_time": "2023-10-23T11:48:22.853506",
     "exception": false,
     "start_time": "2023-10-23T11:48:22.847911",
     "status": "completed"
    },
    "tags": []
   },
   "source": [
    "## 4.\n",
    "The [Powerlifting Database](https://www.kaggle.com/open-powerlifting/powerlifting-database) dataset on Kaggle includes one CSV table for powerlifting meets and a separate one for powerlifting competitors. Run the cell below to load these datasets into dataframes:"
   ]
  },
  {
   "cell_type": "code",
   "execution_count": 10,
   "id": "e91ec735",
   "metadata": {
    "execution": {
     "iopub.execute_input": "2023-10-23T11:48:22.867148Z",
     "iopub.status.busy": "2023-10-23T11:48:22.866485Z",
     "iopub.status.idle": "2023-10-23T11:48:23.669558Z",
     "shell.execute_reply": "2023-10-23T11:48:23.668650Z"
    },
    "papermill": {
     "duration": 0.812741,
     "end_time": "2023-10-23T11:48:23.672011",
     "exception": false,
     "start_time": "2023-10-23T11:48:22.859270",
     "status": "completed"
    },
    "tags": []
   },
   "outputs": [],
   "source": [
    "powerlifting_meets = pd.read_csv(\"../input/powerlifting-database/meets.csv\")\n",
    "powerlifting_competitors = pd.read_csv(\"../input/powerlifting-database/openpowerlifting.csv\")"
   ]
  },
  {
   "cell_type": "markdown",
   "id": "94dc9830",
   "metadata": {
    "papermill": {
     "duration": 0.005646,
     "end_time": "2023-10-23T11:48:23.684108",
     "exception": false,
     "start_time": "2023-10-23T11:48:23.678462",
     "status": "completed"
    },
    "tags": []
   },
   "source": [
    "Both tables include references to a `MeetID`, a unique key for each meet (competition) included in the database. Using this, generate a dataset combining the two tables into one."
   ]
  },
  {
   "cell_type": "code",
   "execution_count": 11,
   "id": "ee959388",
   "metadata": {
    "execution": {
     "iopub.execute_input": "2023-10-23T11:48:23.697497Z",
     "iopub.status.busy": "2023-10-23T11:48:23.697141Z",
     "iopub.status.idle": "2023-10-23T11:48:23.704038Z",
     "shell.execute_reply": "2023-10-23T11:48:23.703108Z"
    },
    "papermill": {
     "duration": 0.015962,
     "end_time": "2023-10-23T11:48:23.706084",
     "exception": false,
     "start_time": "2023-10-23T11:48:23.690122",
     "status": "completed"
    },
    "tags": []
   },
   "outputs": [
    {
     "data": {
      "application/javascript": [
       "parent.postMessage({\"jupyterEvent\": \"custom.exercise_interaction\", \"data\": {\"outcomeType\": 4, \"interactionType\": 1, \"questionType\": 2, \"questionId\": \"4_JoinLifting\", \"learnToolsVersion\": \"0.3.4\", \"valueTowardsCompletion\": 0.0, \"failureMessage\": \"\", \"exceptionClass\": \"\", \"trace\": \"\"}}, \"*\")"
      ],
      "text/plain": [
       "<IPython.core.display.Javascript object>"
      ]
     },
     "metadata": {},
     "output_type": "display_data"
    },
    {
     "data": {
      "text/markdown": [
       "<span style=\"color:#ccaa33\">Check:</span> When you've updated the starter code, `check()` will tell you whether your code is correct. You need to update the code that creates variable `powerlifting_combined`"
      ],
      "text/plain": [
       "Check: When you've updated the starter code, `check()` will tell you whether your code is correct. You need to update the code that creates variable `powerlifting_combined`"
      ]
     },
     "metadata": {},
     "output_type": "display_data"
    }
   ],
   "source": [
    "powerlifting_combined = ____\n",
    "\n",
    "# Check your answer\n",
    "q4.check()"
   ]
  },
  {
   "cell_type": "code",
   "execution_count": 12,
   "id": "7b0a77f9",
   "metadata": {
    "execution": {
     "iopub.execute_input": "2023-10-23T11:48:23.720652Z",
     "iopub.status.busy": "2023-10-23T11:48:23.719548Z",
     "iopub.status.idle": "2023-10-23T11:48:23.724256Z",
     "shell.execute_reply": "2023-10-23T11:48:23.723525Z"
    },
    "papermill": {
     "duration": 0.014178,
     "end_time": "2023-10-23T11:48:23.726408",
     "exception": false,
     "start_time": "2023-10-23T11:48:23.712230",
     "status": "completed"
    },
    "tags": []
   },
   "outputs": [],
   "source": [
    "#q4.hint()\n",
    "#q4.solution()"
   ]
  },
  {
   "cell_type": "markdown",
   "id": "2d1ac108",
   "metadata": {
    "papermill": {
     "duration": 0.006027,
     "end_time": "2023-10-23T11:48:23.738905",
     "exception": false,
     "start_time": "2023-10-23T11:48:23.732878",
     "status": "completed"
    },
    "tags": []
   },
   "source": [
    "# Congratulations!\n",
    "\n",
    "You've finished the Pandas micro-course.  Many data scientists feel efficiency with Pandas is the most useful and practical skill they have, because it allows you to progress quickly in any project you have.\n",
    "\n",
    "If you'd like to apply your new skills to examining geospatial data, you're encouraged to check out our **[Geospatial Analysis](https://www.kaggle.com/learn/geospatial-analysis)** micro-course.\n",
    "\n",
    "You can also take advantage of your Pandas skills by entering a **[Kaggle Competition](https://www.kaggle.com/competitions)** or by answering a question you find interesting using **[Kaggle Datasets](https://www.kaggle.com/datasets)**."
   ]
  },
  {
   "cell_type": "markdown",
   "id": "c7b923bf",
   "metadata": {
    "papermill": {
     "duration": 0.005884,
     "end_time": "2023-10-23T11:48:23.750973",
     "exception": false,
     "start_time": "2023-10-23T11:48:23.745089",
     "status": "completed"
    },
    "tags": []
   },
   "source": [
    "---\n",
    "\n",
    "\n",
    "\n",
    "\n",
    "*Have questions or comments? Visit the [course discussion forum](https://www.kaggle.com/learn/pandas/discussion) to chat with other learners.*"
   ]
  }
 ],
 "metadata": {
  "kernelspec": {
   "display_name": "Python 3",
   "language": "python",
   "name": "python3"
  },
  "language_info": {
   "codemirror_mode": {
    "name": "ipython",
    "version": 3
   },
   "file_extension": ".py",
   "mimetype": "text/x-python",
   "name": "python",
   "nbconvert_exporter": "python",
   "pygments_lexer": "ipython3",
   "version": "3.10.12"
  },
  "papermill": {
   "default_parameters": {},
   "duration": 9.388921,
   "end_time": "2023-10-23T11:48:24.276585",
   "environment_variables": {},
   "exception": null,
   "input_path": "__notebook__.ipynb",
   "output_path": "__notebook__.ipynb",
   "parameters": {},
   "start_time": "2023-10-23T11:48:14.887664",
   "version": "2.4.0"
  }
 },
 "nbformat": 4,
 "nbformat_minor": 5
}

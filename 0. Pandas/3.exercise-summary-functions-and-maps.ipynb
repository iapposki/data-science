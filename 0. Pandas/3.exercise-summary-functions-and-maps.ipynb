{
 "cells": [
  {
   "cell_type": "markdown",
   "id": "b628ac6c",
   "metadata": {
    "papermill": {
     "duration": 0.006462,
     "end_time": "2023-10-13T12:16:04.923536",
     "exception": false,
     "start_time": "2023-10-13T12:16:04.917074",
     "status": "completed"
    },
    "tags": []
   },
   "source": [
    "**This notebook is an exercise in the [Pandas](https://www.kaggle.com/learn/pandas) course.  You can reference the tutorial at [this link](https://www.kaggle.com/residentmario/summary-functions-and-maps).**\n",
    "\n",
    "---\n"
   ]
  },
  {
   "cell_type": "markdown",
   "id": "5cacaaa5",
   "metadata": {
    "papermill": {
     "duration": 0.005714,
     "end_time": "2023-10-13T12:16:04.934444",
     "exception": false,
     "start_time": "2023-10-13T12:16:04.928730",
     "status": "completed"
    },
    "tags": []
   },
   "source": [
    "# Introduction\n",
    "\n",
    "Now you are ready to get a deeper understanding of your data.\n",
    "\n",
    "Run the following cell to load your data and some utility functions (including code to check your answers)."
   ]
  },
  {
   "cell_type": "code",
   "execution_count": 1,
   "id": "b5a7bc63",
   "metadata": {
    "execution": {
     "iopub.execute_input": "2023-10-13T12:16:04.948101Z",
     "iopub.status.busy": "2023-10-13T12:16:04.946382Z",
     "iopub.status.idle": "2023-10-13T12:16:11.788722Z",
     "shell.execute_reply": "2023-10-13T12:16:11.787916Z"
    },
    "papermill": {
     "duration": 6.851474,
     "end_time": "2023-10-13T12:16:11.790978",
     "exception": false,
     "start_time": "2023-10-13T12:16:04.939504",
     "status": "completed"
    },
    "tags": []
   },
   "outputs": [
    {
     "name": "stdout",
     "output_type": "stream",
     "text": [
      "Setup complete.\n"
     ]
    },
    {
     "data": {
      "text/html": [
       "<div>\n",
       "<style scoped>\n",
       "    .dataframe tbody tr th:only-of-type {\n",
       "        vertical-align: middle;\n",
       "    }\n",
       "\n",
       "    .dataframe tbody tr th {\n",
       "        vertical-align: top;\n",
       "    }\n",
       "\n",
       "    .dataframe thead th {\n",
       "        text-align: right;\n",
       "    }\n",
       "</style>\n",
       "<table border=\"1\" class=\"dataframe\">\n",
       "  <thead>\n",
       "    <tr style=\"text-align: right;\">\n",
       "      <th></th>\n",
       "      <th>country</th>\n",
       "      <th>description</th>\n",
       "      <th>designation</th>\n",
       "      <th>points</th>\n",
       "      <th>price</th>\n",
       "      <th>province</th>\n",
       "      <th>region_1</th>\n",
       "      <th>region_2</th>\n",
       "      <th>taster_name</th>\n",
       "      <th>taster_twitter_handle</th>\n",
       "      <th>title</th>\n",
       "      <th>variety</th>\n",
       "      <th>winery</th>\n",
       "    </tr>\n",
       "  </thead>\n",
       "  <tbody>\n",
       "    <tr>\n",
       "      <th>0</th>\n",
       "      <td>Italy</td>\n",
       "      <td>Aromas include tropical fruit, broom, brimston...</td>\n",
       "      <td>Vulkà Bianco</td>\n",
       "      <td>87</td>\n",
       "      <td>NaN</td>\n",
       "      <td>Sicily &amp; Sardinia</td>\n",
       "      <td>Etna</td>\n",
       "      <td>NaN</td>\n",
       "      <td>Kerin O’Keefe</td>\n",
       "      <td>@kerinokeefe</td>\n",
       "      <td>Nicosia 2013 Vulkà Bianco  (Etna)</td>\n",
       "      <td>White Blend</td>\n",
       "      <td>Nicosia</td>\n",
       "    </tr>\n",
       "    <tr>\n",
       "      <th>1</th>\n",
       "      <td>Portugal</td>\n",
       "      <td>This is ripe and fruity, a wine that is smooth...</td>\n",
       "      <td>Avidagos</td>\n",
       "      <td>87</td>\n",
       "      <td>15.0</td>\n",
       "      <td>Douro</td>\n",
       "      <td>NaN</td>\n",
       "      <td>NaN</td>\n",
       "      <td>Roger Voss</td>\n",
       "      <td>@vossroger</td>\n",
       "      <td>Quinta dos Avidagos 2011 Avidagos Red (Douro)</td>\n",
       "      <td>Portuguese Red</td>\n",
       "      <td>Quinta dos Avidagos</td>\n",
       "    </tr>\n",
       "    <tr>\n",
       "      <th>2</th>\n",
       "      <td>US</td>\n",
       "      <td>Tart and snappy, the flavors of lime flesh and...</td>\n",
       "      <td>NaN</td>\n",
       "      <td>87</td>\n",
       "      <td>14.0</td>\n",
       "      <td>Oregon</td>\n",
       "      <td>Willamette Valley</td>\n",
       "      <td>Willamette Valley</td>\n",
       "      <td>Paul Gregutt</td>\n",
       "      <td>@paulgwine</td>\n",
       "      <td>Rainstorm 2013 Pinot Gris (Willamette Valley)</td>\n",
       "      <td>Pinot Gris</td>\n",
       "      <td>Rainstorm</td>\n",
       "    </tr>\n",
       "    <tr>\n",
       "      <th>3</th>\n",
       "      <td>US</td>\n",
       "      <td>Pineapple rind, lemon pith and orange blossom ...</td>\n",
       "      <td>Reserve Late Harvest</td>\n",
       "      <td>87</td>\n",
       "      <td>13.0</td>\n",
       "      <td>Michigan</td>\n",
       "      <td>Lake Michigan Shore</td>\n",
       "      <td>NaN</td>\n",
       "      <td>Alexander Peartree</td>\n",
       "      <td>NaN</td>\n",
       "      <td>St. Julian 2013 Reserve Late Harvest Riesling ...</td>\n",
       "      <td>Riesling</td>\n",
       "      <td>St. Julian</td>\n",
       "    </tr>\n",
       "    <tr>\n",
       "      <th>4</th>\n",
       "      <td>US</td>\n",
       "      <td>Much like the regular bottling from 2012, this...</td>\n",
       "      <td>Vintner's Reserve Wild Child Block</td>\n",
       "      <td>87</td>\n",
       "      <td>65.0</td>\n",
       "      <td>Oregon</td>\n",
       "      <td>Willamette Valley</td>\n",
       "      <td>Willamette Valley</td>\n",
       "      <td>Paul Gregutt</td>\n",
       "      <td>@paulgwine</td>\n",
       "      <td>Sweet Cheeks 2012 Vintner's Reserve Wild Child...</td>\n",
       "      <td>Pinot Noir</td>\n",
       "      <td>Sweet Cheeks</td>\n",
       "    </tr>\n",
       "  </tbody>\n",
       "</table>\n",
       "</div>"
      ],
      "text/plain": [
       "    country                                        description  \\\n",
       "0     Italy  Aromas include tropical fruit, broom, brimston...   \n",
       "1  Portugal  This is ripe and fruity, a wine that is smooth...   \n",
       "2        US  Tart and snappy, the flavors of lime flesh and...   \n",
       "3        US  Pineapple rind, lemon pith and orange blossom ...   \n",
       "4        US  Much like the regular bottling from 2012, this...   \n",
       "\n",
       "                          designation  points  price           province  \\\n",
       "0                        Vulkà Bianco      87    NaN  Sicily & Sardinia   \n",
       "1                            Avidagos      87   15.0              Douro   \n",
       "2                                 NaN      87   14.0             Oregon   \n",
       "3                Reserve Late Harvest      87   13.0           Michigan   \n",
       "4  Vintner's Reserve Wild Child Block      87   65.0             Oregon   \n",
       "\n",
       "              region_1           region_2         taster_name  \\\n",
       "0                 Etna                NaN       Kerin O’Keefe   \n",
       "1                  NaN                NaN          Roger Voss   \n",
       "2    Willamette Valley  Willamette Valley        Paul Gregutt   \n",
       "3  Lake Michigan Shore                NaN  Alexander Peartree   \n",
       "4    Willamette Valley  Willamette Valley        Paul Gregutt   \n",
       "\n",
       "  taster_twitter_handle                                              title  \\\n",
       "0          @kerinokeefe                  Nicosia 2013 Vulkà Bianco  (Etna)   \n",
       "1            @vossroger      Quinta dos Avidagos 2011 Avidagos Red (Douro)   \n",
       "2           @paulgwine       Rainstorm 2013 Pinot Gris (Willamette Valley)   \n",
       "3                   NaN  St. Julian 2013 Reserve Late Harvest Riesling ...   \n",
       "4           @paulgwine   Sweet Cheeks 2012 Vintner's Reserve Wild Child...   \n",
       "\n",
       "          variety               winery  \n",
       "0     White Blend              Nicosia  \n",
       "1  Portuguese Red  Quinta dos Avidagos  \n",
       "2      Pinot Gris            Rainstorm  \n",
       "3        Riesling           St. Julian  \n",
       "4      Pinot Noir         Sweet Cheeks  "
      ]
     },
     "execution_count": 1,
     "metadata": {},
     "output_type": "execute_result"
    }
   ],
   "source": [
    "import pandas as pd\n",
    "pd.set_option(\"display.max_rows\", 5)\n",
    "reviews = pd.read_csv(\"../input/wine-reviews/winemag-data-130k-v2.csv\", index_col=0)\n",
    "\n",
    "from learntools.core import binder; binder.bind(globals())\n",
    "from learntools.pandas.summary_functions_and_maps import *\n",
    "print(\"Setup complete.\")\n",
    "\n",
    "reviews.head()"
   ]
  },
  {
   "cell_type": "markdown",
   "id": "71040873",
   "metadata": {
    "papermill": {
     "duration": 0.005678,
     "end_time": "2023-10-13T12:16:11.803072",
     "exception": false,
     "start_time": "2023-10-13T12:16:11.797394",
     "status": "completed"
    },
    "tags": []
   },
   "source": [
    "# Exercises"
   ]
  },
  {
   "cell_type": "markdown",
   "id": "9855b148",
   "metadata": {
    "papermill": {
     "duration": 0.0061,
     "end_time": "2023-10-13T12:16:11.815634",
     "exception": false,
     "start_time": "2023-10-13T12:16:11.809534",
     "status": "completed"
    },
    "tags": []
   },
   "source": [
    "## 1.\n",
    "\n",
    "What is the median of the `points` column in the `reviews` DataFrame?"
   ]
  },
  {
   "cell_type": "code",
   "execution_count": 2,
   "id": "cf7004f5",
   "metadata": {
    "execution": {
     "iopub.execute_input": "2023-10-13T12:16:11.831855Z",
     "iopub.status.busy": "2023-10-13T12:16:11.830621Z",
     "iopub.status.idle": "2023-10-13T12:16:11.841082Z",
     "shell.execute_reply": "2023-10-13T12:16:11.840390Z"
    },
    "papermill": {
     "duration": 0.02138,
     "end_time": "2023-10-13T12:16:11.843841",
     "exception": false,
     "start_time": "2023-10-13T12:16:11.822461",
     "status": "completed"
    },
    "tags": []
   },
   "outputs": [
    {
     "data": {
      "application/javascript": [
       "parent.postMessage({\"jupyterEvent\": \"custom.exercise_interaction\", \"data\": {\"outcomeType\": 1, \"valueTowardsCompletion\": 0.14285714285714285, \"interactionType\": 1, \"questionType\": 1, \"questionId\": \"1_MedianPoints\", \"learnToolsVersion\": \"0.3.4\", \"failureMessage\": \"\", \"exceptionClass\": \"\", \"trace\": \"\"}}, \"*\")"
      ],
      "text/plain": [
       "<IPython.core.display.Javascript object>"
      ]
     },
     "metadata": {},
     "output_type": "display_data"
    },
    {
     "data": {
      "text/markdown": [
       "<span style=\"color:#33cc33\">Correct</span>"
      ],
      "text/plain": [
       "Correct"
      ]
     },
     "metadata": {},
     "output_type": "display_data"
    }
   ],
   "source": [
    "median_points = reviews.points.median()\n",
    "\n",
    "\n",
    "# Check your answer\n",
    "q1.check()"
   ]
  },
  {
   "cell_type": "code",
   "execution_count": 3,
   "id": "3720f3f2",
   "metadata": {
    "execution": {
     "iopub.execute_input": "2023-10-13T12:16:11.858677Z",
     "iopub.status.busy": "2023-10-13T12:16:11.858225Z",
     "iopub.status.idle": "2023-10-13T12:16:11.863757Z",
     "shell.execute_reply": "2023-10-13T12:16:11.862230Z"
    },
    "papermill": {
     "duration": 0.016551,
     "end_time": "2023-10-13T12:16:11.866388",
     "exception": false,
     "start_time": "2023-10-13T12:16:11.849837",
     "status": "completed"
    },
    "tags": []
   },
   "outputs": [],
   "source": [
    "#q1.hint()\n",
    "#q1.solution()"
   ]
  },
  {
   "cell_type": "markdown",
   "id": "f21cc084",
   "metadata": {
    "papermill": {
     "duration": 0.006773,
     "end_time": "2023-10-13T12:16:11.879099",
     "exception": false,
     "start_time": "2023-10-13T12:16:11.872326",
     "status": "completed"
    },
    "tags": []
   },
   "source": [
    "## 2. \n",
    "What countries are represented in the dataset? (Your answer should not include any duplicates.)"
   ]
  },
  {
   "cell_type": "code",
   "execution_count": 4,
   "id": "b515d4a4",
   "metadata": {
    "execution": {
     "iopub.execute_input": "2023-10-13T12:16:11.895440Z",
     "iopub.status.busy": "2023-10-13T12:16:11.893958Z",
     "iopub.status.idle": "2023-10-13T12:16:11.911850Z",
     "shell.execute_reply": "2023-10-13T12:16:11.910265Z"
    },
    "papermill": {
     "duration": 0.031986,
     "end_time": "2023-10-13T12:16:11.918030",
     "exception": false,
     "start_time": "2023-10-13T12:16:11.886044",
     "status": "completed"
    },
    "tags": []
   },
   "outputs": [
    {
     "data": {
      "application/javascript": [
       "parent.postMessage({\"jupyterEvent\": \"custom.exercise_interaction\", \"data\": {\"outcomeType\": 1, \"valueTowardsCompletion\": 0.14285714285714285, \"interactionType\": 1, \"questionType\": 2, \"questionId\": \"2_UniqueCountries\", \"learnToolsVersion\": \"0.3.4\", \"failureMessage\": \"\", \"exceptionClass\": \"\", \"trace\": \"\"}}, \"*\")"
      ],
      "text/plain": [
       "<IPython.core.display.Javascript object>"
      ]
     },
     "metadata": {},
     "output_type": "display_data"
    },
    {
     "data": {
      "text/markdown": [
       "<span style=\"color:#33cc33\">Correct</span>"
      ],
      "text/plain": [
       "Correct"
      ]
     },
     "metadata": {},
     "output_type": "display_data"
    }
   ],
   "source": [
    "countries = reviews.country.unique()\n",
    "\n",
    "# Check your answer\n",
    "q2.check()"
   ]
  },
  {
   "cell_type": "code",
   "execution_count": 5,
   "id": "99ee0482",
   "metadata": {
    "execution": {
     "iopub.execute_input": "2023-10-13T12:16:11.933029Z",
     "iopub.status.busy": "2023-10-13T12:16:11.932372Z",
     "iopub.status.idle": "2023-10-13T12:16:11.936172Z",
     "shell.execute_reply": "2023-10-13T12:16:11.935411Z"
    },
    "papermill": {
     "duration": 0.014747,
     "end_time": "2023-10-13T12:16:11.939593",
     "exception": false,
     "start_time": "2023-10-13T12:16:11.924846",
     "status": "completed"
    },
    "tags": []
   },
   "outputs": [],
   "source": [
    "#q2.hint()\n",
    "#q2.solution()"
   ]
  },
  {
   "cell_type": "markdown",
   "id": "e804dcd3",
   "metadata": {
    "papermill": {
     "duration": 0.005706,
     "end_time": "2023-10-13T12:16:11.952864",
     "exception": false,
     "start_time": "2023-10-13T12:16:11.947158",
     "status": "completed"
    },
    "tags": []
   },
   "source": [
    "## 3.\n",
    "How often does each country appear in the dataset? Create a Series `reviews_per_country` mapping countries to the count of reviews of wines from that country."
   ]
  },
  {
   "cell_type": "code",
   "execution_count": 6,
   "id": "6ed7f07f",
   "metadata": {
    "execution": {
     "iopub.execute_input": "2023-10-13T12:16:11.970647Z",
     "iopub.status.busy": "2023-10-13T12:16:11.969990Z",
     "iopub.status.idle": "2023-10-13T12:16:11.989475Z",
     "shell.execute_reply": "2023-10-13T12:16:11.988311Z"
    },
    "papermill": {
     "duration": 0.031981,
     "end_time": "2023-10-13T12:16:11.991794",
     "exception": false,
     "start_time": "2023-10-13T12:16:11.959813",
     "status": "completed"
    },
    "tags": []
   },
   "outputs": [
    {
     "data": {
      "application/javascript": [
       "parent.postMessage({\"jupyterEvent\": \"custom.exercise_interaction\", \"data\": {\"outcomeType\": 1, \"valueTowardsCompletion\": 0.14285714285714285, \"interactionType\": 1, \"questionType\": 1, \"questionId\": \"3_ReviewsPerCountry\", \"learnToolsVersion\": \"0.3.4\", \"failureMessage\": \"\", \"exceptionClass\": \"\", \"trace\": \"\"}}, \"*\")"
      ],
      "text/plain": [
       "<IPython.core.display.Javascript object>"
      ]
     },
     "metadata": {},
     "output_type": "display_data"
    },
    {
     "data": {
      "text/markdown": [
       "<span style=\"color:#33cc33\">Correct</span>"
      ],
      "text/plain": [
       "Correct"
      ]
     },
     "metadata": {},
     "output_type": "display_data"
    }
   ],
   "source": [
    "reviews_per_country = reviews.country.value_counts()\n",
    "\n",
    "# Check your answer\n",
    "q3.check()"
   ]
  },
  {
   "cell_type": "code",
   "execution_count": 7,
   "id": "439aa8f3",
   "metadata": {
    "execution": {
     "iopub.execute_input": "2023-10-13T12:16:12.009142Z",
     "iopub.status.busy": "2023-10-13T12:16:12.008591Z",
     "iopub.status.idle": "2023-10-13T12:16:12.013926Z",
     "shell.execute_reply": "2023-10-13T12:16:12.012548Z"
    },
    "papermill": {
     "duration": 0.018301,
     "end_time": "2023-10-13T12:16:12.017026",
     "exception": false,
     "start_time": "2023-10-13T12:16:11.998725",
     "status": "completed"
    },
    "tags": []
   },
   "outputs": [],
   "source": [
    "#q3.hint()\n",
    "#q3.solution()"
   ]
  },
  {
   "cell_type": "markdown",
   "id": "5c923654",
   "metadata": {
    "papermill": {
     "duration": 0.005799,
     "end_time": "2023-10-13T12:16:12.029494",
     "exception": false,
     "start_time": "2023-10-13T12:16:12.023695",
     "status": "completed"
    },
    "tags": []
   },
   "source": [
    "## 4.\n",
    "Create variable `centered_price` containing a version of the `price` column with the mean price subtracted.\n",
    "\n",
    "(Note: this 'centering' transformation is a common preprocessing step before applying various machine learning algorithms.) "
   ]
  },
  {
   "cell_type": "code",
   "execution_count": 8,
   "id": "09e65f1a",
   "metadata": {
    "execution": {
     "iopub.execute_input": "2023-10-13T12:16:12.047067Z",
     "iopub.status.busy": "2023-10-13T12:16:12.046396Z",
     "iopub.status.idle": "2023-10-13T12:16:12.058502Z",
     "shell.execute_reply": "2023-10-13T12:16:12.056075Z"
    },
    "papermill": {
     "duration": 0.027393,
     "end_time": "2023-10-13T12:16:12.063867",
     "exception": false,
     "start_time": "2023-10-13T12:16:12.036474",
     "status": "completed"
    },
    "tags": []
   },
   "outputs": [
    {
     "data": {
      "application/javascript": [
       "parent.postMessage({\"jupyterEvent\": \"custom.exercise_interaction\", \"data\": {\"outcomeType\": 1, \"valueTowardsCompletion\": 0.14285714285714285, \"interactionType\": 1, \"questionType\": 1, \"questionId\": \"4_CenteredPrice\", \"learnToolsVersion\": \"0.3.4\", \"failureMessage\": \"\", \"exceptionClass\": \"\", \"trace\": \"\"}}, \"*\")"
      ],
      "text/plain": [
       "<IPython.core.display.Javascript object>"
      ]
     },
     "metadata": {},
     "output_type": "display_data"
    },
    {
     "data": {
      "text/markdown": [
       "<span style=\"color:#33cc33\">Correct</span>"
      ],
      "text/plain": [
       "Correct"
      ]
     },
     "metadata": {},
     "output_type": "display_data"
    }
   ],
   "source": [
    "centered_price = reviews.price - reviews.price.mean()\n",
    "\n",
    "# Check your answer\n",
    "q4.check()"
   ]
  },
  {
   "cell_type": "code",
   "execution_count": 9,
   "id": "8de3b733",
   "metadata": {
    "execution": {
     "iopub.execute_input": "2023-10-13T12:16:12.078793Z",
     "iopub.status.busy": "2023-10-13T12:16:12.078412Z",
     "iopub.status.idle": "2023-10-13T12:16:12.084860Z",
     "shell.execute_reply": "2023-10-13T12:16:12.082939Z"
    },
    "papermill": {
     "duration": 0.017137,
     "end_time": "2023-10-13T12:16:12.087571",
     "exception": false,
     "start_time": "2023-10-13T12:16:12.070434",
     "status": "completed"
    },
    "tags": []
   },
   "outputs": [],
   "source": [
    "#q4.hint()\n",
    "#q4.solution()"
   ]
  },
  {
   "cell_type": "markdown",
   "id": "3ef426f3",
   "metadata": {
    "papermill": {
     "duration": 0.006884,
     "end_time": "2023-10-13T12:16:12.100717",
     "exception": false,
     "start_time": "2023-10-13T12:16:12.093833",
     "status": "completed"
    },
    "tags": []
   },
   "source": [
    "## 5.\n",
    "I'm an economical wine buyer. Which wine is the \"best bargain\"? Create a variable `bargain_wine` with the title of the wine with the highest points-to-price ratio in the dataset."
   ]
  },
  {
   "cell_type": "code",
   "execution_count": 10,
   "id": "18812286",
   "metadata": {
    "execution": {
     "iopub.execute_input": "2023-10-13T12:16:12.115672Z",
     "iopub.status.busy": "2023-10-13T12:16:12.115268Z",
     "iopub.status.idle": "2023-10-13T12:16:12.130341Z",
     "shell.execute_reply": "2023-10-13T12:16:12.129170Z"
    },
    "papermill": {
     "duration": 0.025102,
     "end_time": "2023-10-13T12:16:12.132528",
     "exception": false,
     "start_time": "2023-10-13T12:16:12.107426",
     "status": "completed"
    },
    "tags": []
   },
   "outputs": [
    {
     "data": {
      "application/javascript": [
       "parent.postMessage({\"jupyterEvent\": \"custom.exercise_interaction\", \"data\": {\"outcomeType\": 1, \"valueTowardsCompletion\": 0.14285714285714285, \"interactionType\": 1, \"questionType\": 2, \"questionId\": \"5_BargainWine\", \"learnToolsVersion\": \"0.3.4\", \"failureMessage\": \"\", \"exceptionClass\": \"\", \"trace\": \"\"}}, \"*\")"
      ],
      "text/plain": [
       "<IPython.core.display.Javascript object>"
      ]
     },
     "metadata": {},
     "output_type": "display_data"
    },
    {
     "data": {
      "text/markdown": [
       "<span style=\"color:#33cc33\">Correct</span>"
      ],
      "text/plain": [
       "Correct"
      ]
     },
     "metadata": {},
     "output_type": "display_data"
    }
   ],
   "source": [
    "bargain_idx = (reviews.points/reviews.price).idxmax()\n",
    "bargain_wine = reviews.loc[bargain_idx, 'title']\n",
    "\n",
    "# Check your answer\n",
    "q5.check()"
   ]
  },
  {
   "cell_type": "code",
   "execution_count": 11,
   "id": "4067e7fe",
   "metadata": {
    "execution": {
     "iopub.execute_input": "2023-10-13T12:16:12.147641Z",
     "iopub.status.busy": "2023-10-13T12:16:12.146898Z",
     "iopub.status.idle": "2023-10-13T12:16:12.151814Z",
     "shell.execute_reply": "2023-10-13T12:16:12.150857Z"
    },
    "papermill": {
     "duration": 0.01508,
     "end_time": "2023-10-13T12:16:12.154061",
     "exception": false,
     "start_time": "2023-10-13T12:16:12.138981",
     "status": "completed"
    },
    "tags": []
   },
   "outputs": [],
   "source": [
    "# q5.hint()\n",
    "# q5.solution()"
   ]
  },
  {
   "cell_type": "markdown",
   "id": "3d4de1d1",
   "metadata": {
    "papermill": {
     "duration": 0.006026,
     "end_time": "2023-10-13T12:16:12.166797",
     "exception": false,
     "start_time": "2023-10-13T12:16:12.160771",
     "status": "completed"
    },
    "tags": []
   },
   "source": [
    "## 6.\n",
    "There are only so many words you can use when describing a bottle of wine. Is a wine more likely to be \"tropical\" or \"fruity\"? Create a Series `descriptor_counts` counting how many times each of these two words appears in the `description` column in the dataset. (For simplicity, let's ignore the capitalized versions of these words.)"
   ]
  },
  {
   "cell_type": "code",
   "execution_count": 12,
   "id": "4d60d0da",
   "metadata": {
    "execution": {
     "iopub.execute_input": "2023-10-13T12:16:12.181101Z",
     "iopub.status.busy": "2023-10-13T12:16:12.180709Z",
     "iopub.status.idle": "2023-10-13T12:16:12.315149Z",
     "shell.execute_reply": "2023-10-13T12:16:12.313551Z"
    },
    "papermill": {
     "duration": 0.146149,
     "end_time": "2023-10-13T12:16:12.319271",
     "exception": false,
     "start_time": "2023-10-13T12:16:12.173122",
     "status": "completed"
    },
    "tags": []
   },
   "outputs": [
    {
     "data": {
      "application/javascript": [
       "parent.postMessage({\"jupyterEvent\": \"custom.exercise_interaction\", \"data\": {\"outcomeType\": 1, \"valueTowardsCompletion\": 0.14285714285714285, \"interactionType\": 1, \"questionType\": 1, \"questionId\": \"6_DescriptorCounts\", \"learnToolsVersion\": \"0.3.4\", \"failureMessage\": \"\", \"exceptionClass\": \"\", \"trace\": \"\"}}, \"*\")"
      ],
      "text/plain": [
       "<IPython.core.display.Javascript object>"
      ]
     },
     "metadata": {},
     "output_type": "display_data"
    },
    {
     "data": {
      "text/markdown": [
       "<span style=\"color:#33cc33\">Correct</span>"
      ],
      "text/plain": [
       "Correct"
      ]
     },
     "metadata": {},
     "output_type": "display_data"
    }
   ],
   "source": [
    "tropical = reviews['description'].map(lambda description: 'tropical' in description).sum()\n",
    "fruity = reviews['description'].map(lambda description: 'fruity' in description).sum()\n",
    "descriptor_counts = pd.Series([tropical, fruity], index = ['tropical', 'fruity'])\n",
    "# descriptor_counts\n",
    "# Check your answer\n",
    "q6.check()"
   ]
  },
  {
   "cell_type": "code",
   "execution_count": 13,
   "id": "523ab930",
   "metadata": {
    "execution": {
     "iopub.execute_input": "2023-10-13T12:16:12.336990Z",
     "iopub.status.busy": "2023-10-13T12:16:12.336547Z",
     "iopub.status.idle": "2023-10-13T12:16:12.341862Z",
     "shell.execute_reply": "2023-10-13T12:16:12.340131Z"
    },
    "papermill": {
     "duration": 0.017883,
     "end_time": "2023-10-13T12:16:12.344718",
     "exception": false,
     "start_time": "2023-10-13T12:16:12.326835",
     "status": "completed"
    },
    "tags": []
   },
   "outputs": [],
   "source": [
    "# q6.hint()\n",
    "# q6.solution()"
   ]
  },
  {
   "cell_type": "markdown",
   "id": "d865b0f6",
   "metadata": {
    "papermill": {
     "duration": 0.006882,
     "end_time": "2023-10-13T12:16:12.359658",
     "exception": false,
     "start_time": "2023-10-13T12:16:12.352776",
     "status": "completed"
    },
    "tags": []
   },
   "source": [
    "## 7.\n",
    "We'd like to host these wine reviews on our website, but a rating system ranging from 80 to 100 points is too hard to understand - we'd like to translate them into simple star ratings. A score of 95 or higher counts as 3 stars, a score of at least 85 but less than 95 is 2 stars. Any other score is 1 star.\n",
    "\n",
    "Also, the Canadian Vintners Association bought a lot of ads on the site, so any wines from Canada should automatically get 3 stars, regardless of points.\n",
    "\n",
    "Create a series `star_ratings` with the number of stars corresponding to each review in the dataset."
   ]
  },
  {
   "cell_type": "code",
   "execution_count": 14,
   "id": "628d37ba",
   "metadata": {
    "execution": {
     "iopub.execute_input": "2023-10-13T12:16:12.378043Z",
     "iopub.status.busy": "2023-10-13T12:16:12.377543Z",
     "iopub.status.idle": "2023-10-13T12:16:15.149370Z",
     "shell.execute_reply": "2023-10-13T12:16:15.148154Z"
    },
    "papermill": {
     "duration": 2.784607,
     "end_time": "2023-10-13T12:16:15.151842",
     "exception": false,
     "start_time": "2023-10-13T12:16:12.367235",
     "status": "completed"
    },
    "tags": []
   },
   "outputs": [
    {
     "data": {
      "application/javascript": [
       "parent.postMessage({\"jupyterEvent\": \"custom.exercise_interaction\", \"data\": {\"outcomeType\": 1, \"valueTowardsCompletion\": 0.14285714285714285, \"interactionType\": 1, \"questionType\": 1, \"questionId\": \"7_StarRatings\", \"learnToolsVersion\": \"0.3.4\", \"failureMessage\": \"\", \"exceptionClass\": \"\", \"trace\": \"\"}}, \"*\")"
      ],
      "text/plain": [
       "<IPython.core.display.Javascript object>"
      ]
     },
     "metadata": {},
     "output_type": "display_data"
    },
    {
     "data": {
      "text/markdown": [
       "<span style=\"color:#33cc33\">Correct</span>"
      ],
      "text/plain": [
       "Correct"
      ]
     },
     "metadata": {},
     "output_type": "display_data"
    }
   ],
   "source": [
    "def func(row):\n",
    "    if row.country == 'Canada':\n",
    "        return 3\n",
    "    elif row.points >= 95:\n",
    "        return 3\n",
    "    elif row.points >= 85:\n",
    "        return 2\n",
    "    else:\n",
    "        return 1\n",
    "\n",
    "star_ratings = reviews.apply(func, axis='columns')\n",
    "# star_ratings = pd.Series([])\n",
    "\n",
    "# Check your answer\n",
    "q7.check()"
   ]
  },
  {
   "cell_type": "code",
   "execution_count": 15,
   "id": "bbcb27f6",
   "metadata": {
    "execution": {
     "iopub.execute_input": "2023-10-13T12:16:15.171972Z",
     "iopub.status.busy": "2023-10-13T12:16:15.170270Z",
     "iopub.status.idle": "2023-10-13T12:16:15.180740Z",
     "shell.execute_reply": "2023-10-13T12:16:15.179622Z"
    },
    "papermill": {
     "duration": 0.023314,
     "end_time": "2023-10-13T12:16:15.183328",
     "exception": false,
     "start_time": "2023-10-13T12:16:15.160014",
     "status": "completed"
    },
    "tags": []
   },
   "outputs": [
    {
     "data": {
      "application/javascript": [
       "parent.postMessage({\"jupyterEvent\": \"custom.exercise_interaction\", \"data\": {\"interactionType\": 3, \"questionType\": 1, \"questionId\": \"7_StarRatings\", \"learnToolsVersion\": \"0.3.4\", \"valueTowardsCompletion\": 0.0, \"failureMessage\": \"\", \"exceptionClass\": \"\", \"trace\": \"\", \"outcomeType\": 4}}, \"*\")"
      ],
      "text/plain": [
       "<IPython.core.display.Javascript object>"
      ]
     },
     "metadata": {},
     "output_type": "display_data"
    },
    {
     "data": {
      "text/markdown": [
       "<span style=\"color:#33cc99\">Solution:</span> \n",
       "```python\n",
       "def stars(row):\n",
       "    if row.country == 'Canada':\n",
       "        return 3\n",
       "    elif row.points >= 95:\n",
       "        return 3\n",
       "    elif row.points >= 85:\n",
       "        return 2\n",
       "    else:\n",
       "        return 1\n",
       "    \n",
       "star_ratings = reviews.apply(stars, axis='columns')\n",
       "```"
      ],
      "text/plain": [
       "Solution: \n",
       "```python\n",
       "def stars(row):\n",
       "    if row.country == 'Canada':\n",
       "        return 3\n",
       "    elif row.points >= 95:\n",
       "        return 3\n",
       "    elif row.points >= 85:\n",
       "        return 2\n",
       "    else:\n",
       "        return 1\n",
       "    \n",
       "star_ratings = reviews.apply(stars, axis='columns')\n",
       "```"
      ]
     },
     "metadata": {},
     "output_type": "display_data"
    }
   ],
   "source": [
    "#q7.hint()\n",
    "q7.solution()"
   ]
  },
  {
   "cell_type": "markdown",
   "id": "174fafb6",
   "metadata": {
    "papermill": {
     "duration": 0.009508,
     "end_time": "2023-10-13T12:16:15.201602",
     "exception": false,
     "start_time": "2023-10-13T12:16:15.192094",
     "status": "completed"
    },
    "tags": []
   },
   "source": [
    "# Keep going\n",
    "Continue to **[grouping and sorting](https://www.kaggle.com/residentmario/grouping-and-sorting)**."
   ]
  },
  {
   "cell_type": "markdown",
   "id": "60d74b5c",
   "metadata": {
    "papermill": {
     "duration": 0.008979,
     "end_time": "2023-10-13T12:16:15.218663",
     "exception": false,
     "start_time": "2023-10-13T12:16:15.209684",
     "status": "completed"
    },
    "tags": []
   },
   "source": [
    "---\n",
    "\n",
    "\n",
    "\n",
    "\n",
    "*Have questions or comments? Visit the [course discussion forum](https://www.kaggle.com/learn/pandas/discussion) to chat with other learners.*"
   ]
  }
 ],
 "metadata": {
  "kernelspec": {
   "display_name": "Python 3",
   "language": "python",
   "name": "python3"
  },
  "language_info": {
   "codemirror_mode": {
    "name": "ipython",
    "version": 3
   },
   "file_extension": ".py",
   "mimetype": "text/x-python",
   "name": "python",
   "nbconvert_exporter": "python",
   "pygments_lexer": "ipython3",
   "version": "3.10.12"
  },
  "papermill": {
   "default_parameters": {},
   "duration": 14.601235,
   "end_time": "2023-10-13T12:16:15.954396",
   "environment_variables": {},
   "exception": null,
   "input_path": "__notebook__.ipynb",
   "output_path": "__notebook__.ipynb",
   "parameters": {},
   "start_time": "2023-10-13T12:16:01.353161",
   "version": "2.4.0"
  }
 },
 "nbformat": 4,
 "nbformat_minor": 5
}

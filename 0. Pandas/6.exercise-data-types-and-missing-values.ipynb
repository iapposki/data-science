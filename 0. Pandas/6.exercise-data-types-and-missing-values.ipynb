{
 "cells": [
  {
   "cell_type": "markdown",
   "id": "2e001ceb",
   "metadata": {
    "papermill": {
     "duration": 0.006089,
     "end_time": "2023-10-23T10:39:11.703011",
     "exception": false,
     "start_time": "2023-10-23T10:39:11.696922",
     "status": "completed"
    },
    "tags": []
   },
   "source": [
    "**This notebook is an exercise in the [Pandas](https://www.kaggle.com/learn/pandas) course.  You can reference the tutorial at [this link](https://www.kaggle.com/residentmario/data-types-and-missing-values).**\n",
    "\n",
    "---\n"
   ]
  },
  {
   "cell_type": "markdown",
   "id": "fbf37c11",
   "metadata": {
    "papermill": {
     "duration": 0.005289,
     "end_time": "2023-10-23T10:39:11.715876",
     "exception": false,
     "start_time": "2023-10-23T10:39:11.710587",
     "status": "completed"
    },
    "tags": []
   },
   "source": [
    "# Introduction\n",
    "\n",
    "Run the following cell to load your data and some utility functions."
   ]
  },
  {
   "cell_type": "code",
   "execution_count": 1,
   "id": "b4ea07bc",
   "metadata": {
    "execution": {
     "iopub.execute_input": "2023-10-23T10:39:11.728687Z",
     "iopub.status.busy": "2023-10-23T10:39:11.728216Z",
     "iopub.status.idle": "2023-10-23T10:39:15.371836Z",
     "shell.execute_reply": "2023-10-23T10:39:15.370666Z"
    },
    "papermill": {
     "duration": 3.653108,
     "end_time": "2023-10-23T10:39:15.374483",
     "exception": false,
     "start_time": "2023-10-23T10:39:11.721375",
     "status": "completed"
    },
    "tags": []
   },
   "outputs": [
    {
     "name": "stdout",
     "output_type": "stream",
     "text": [
      "Setup complete.\n"
     ]
    }
   ],
   "source": [
    "import pandas as pd\n",
    "\n",
    "reviews = pd.read_csv(\"../input/wine-reviews/winemag-data-130k-v2.csv\", index_col=0)\n",
    "\n",
    "from learntools.core import binder; binder.bind(globals())\n",
    "from learntools.pandas.data_types_and_missing_data import *\n",
    "print(\"Setup complete.\")"
   ]
  },
  {
   "cell_type": "markdown",
   "id": "d2f44501",
   "metadata": {
    "papermill": {
     "duration": 0.005458,
     "end_time": "2023-10-23T10:39:15.385829",
     "exception": false,
     "start_time": "2023-10-23T10:39:15.380371",
     "status": "completed"
    },
    "tags": []
   },
   "source": [
    "# Exercises"
   ]
  },
  {
   "cell_type": "markdown",
   "id": "6e9d394f",
   "metadata": {
    "papermill": {
     "duration": 0.005258,
     "end_time": "2023-10-23T10:39:15.396692",
     "exception": false,
     "start_time": "2023-10-23T10:39:15.391434",
     "status": "completed"
    },
    "tags": []
   },
   "source": [
    "## 1. \n",
    "What is the data type of the `points` column in the dataset?"
   ]
  },
  {
   "cell_type": "code",
   "execution_count": 2,
   "id": "c04d3a18",
   "metadata": {
    "execution": {
     "iopub.execute_input": "2023-10-23T10:39:15.409962Z",
     "iopub.status.busy": "2023-10-23T10:39:15.409548Z",
     "iopub.status.idle": "2023-10-23T10:39:15.418627Z",
     "shell.execute_reply": "2023-10-23T10:39:15.417857Z"
    },
    "papermill": {
     "duration": 0.018599,
     "end_time": "2023-10-23T10:39:15.420946",
     "exception": false,
     "start_time": "2023-10-23T10:39:15.402347",
     "status": "completed"
    },
    "tags": []
   },
   "outputs": [
    {
     "data": {
      "application/javascript": [
       "parent.postMessage({\"jupyterEvent\": \"custom.exercise_interaction\", \"data\": {\"outcomeType\": 1, \"valueTowardsCompletion\": 0.25, \"interactionType\": 1, \"questionType\": 1, \"questionId\": \"1_PointsDtype\", \"learnToolsVersion\": \"0.3.4\", \"failureMessage\": \"\", \"exceptionClass\": \"\", \"trace\": \"\"}}, \"*\")"
      ],
      "text/plain": [
       "<IPython.core.display.Javascript object>"
      ]
     },
     "metadata": {},
     "output_type": "display_data"
    },
    {
     "data": {
      "text/markdown": [
       "<span style=\"color:#33cc33\">Correct</span>"
      ],
      "text/plain": [
       "Correct"
      ]
     },
     "metadata": {},
     "output_type": "display_data"
    }
   ],
   "source": [
    "# Your code here\n",
    "dtype = reviews.points.dtype\n",
    "\n",
    "# Check your answer\n",
    "q1.check()"
   ]
  },
  {
   "cell_type": "code",
   "execution_count": 3,
   "id": "5fe7358c",
   "metadata": {
    "execution": {
     "iopub.execute_input": "2023-10-23T10:39:15.435184Z",
     "iopub.status.busy": "2023-10-23T10:39:15.434513Z",
     "iopub.status.idle": "2023-10-23T10:39:15.438811Z",
     "shell.execute_reply": "2023-10-23T10:39:15.437978Z"
    },
    "papermill": {
     "duration": 0.013895,
     "end_time": "2023-10-23T10:39:15.440974",
     "exception": false,
     "start_time": "2023-10-23T10:39:15.427079",
     "status": "completed"
    },
    "tags": []
   },
   "outputs": [],
   "source": [
    "#q1.hint()\n",
    "#q1.solution()"
   ]
  },
  {
   "cell_type": "markdown",
   "id": "1084e8ce",
   "metadata": {
    "papermill": {
     "duration": 0.005618,
     "end_time": "2023-10-23T10:39:15.452736",
     "exception": false,
     "start_time": "2023-10-23T10:39:15.447118",
     "status": "completed"
    },
    "tags": []
   },
   "source": [
    "## 2. \n",
    "Create a Series from entries in the `points` column, but convert the entries to strings. Hint: strings are `str` in native Python."
   ]
  },
  {
   "cell_type": "code",
   "execution_count": 4,
   "id": "945ad836",
   "metadata": {
    "execution": {
     "iopub.execute_input": "2023-10-23T10:39:15.466682Z",
     "iopub.status.busy": "2023-10-23T10:39:15.466033Z",
     "iopub.status.idle": "2023-10-23T10:39:15.536314Z",
     "shell.execute_reply": "2023-10-23T10:39:15.535233Z"
    },
    "papermill": {
     "duration": 0.080117,
     "end_time": "2023-10-23T10:39:15.538705",
     "exception": false,
     "start_time": "2023-10-23T10:39:15.458588",
     "status": "completed"
    },
    "tags": []
   },
   "outputs": [
    {
     "data": {
      "application/javascript": [
       "parent.postMessage({\"jupyterEvent\": \"custom.exercise_interaction\", \"data\": {\"outcomeType\": 1, \"valueTowardsCompletion\": 0.25, \"interactionType\": 1, \"questionType\": 1, \"questionId\": \"2_StrPoints\", \"learnToolsVersion\": \"0.3.4\", \"failureMessage\": \"\", \"exceptionClass\": \"\", \"trace\": \"\"}}, \"*\")"
      ],
      "text/plain": [
       "<IPython.core.display.Javascript object>"
      ]
     },
     "metadata": {},
     "output_type": "display_data"
    },
    {
     "data": {
      "text/markdown": [
       "<span style=\"color:#33cc33\">Correct</span>"
      ],
      "text/plain": [
       "Correct"
      ]
     },
     "metadata": {},
     "output_type": "display_data"
    }
   ],
   "source": [
    "# reviews.points.map(lambda point: str(point))\n",
    "point_strings = reviews.points.map(lambda point: str(point))\n",
    "\n",
    "# Check your answer\n",
    "q2.check()"
   ]
  },
  {
   "cell_type": "code",
   "execution_count": 5,
   "id": "a1845b64",
   "metadata": {
    "execution": {
     "iopub.execute_input": "2023-10-23T10:39:15.553215Z",
     "iopub.status.busy": "2023-10-23T10:39:15.552864Z",
     "iopub.status.idle": "2023-10-23T10:39:15.560923Z",
     "shell.execute_reply": "2023-10-23T10:39:15.559866Z"
    },
    "papermill": {
     "duration": 0.018145,
     "end_time": "2023-10-23T10:39:15.563232",
     "exception": false,
     "start_time": "2023-10-23T10:39:15.545087",
     "status": "completed"
    },
    "tags": []
   },
   "outputs": [
    {
     "data": {
      "application/javascript": [
       "parent.postMessage({\"jupyterEvent\": \"custom.exercise_interaction\", \"data\": {\"interactionType\": 3, \"questionType\": 1, \"questionId\": \"2_StrPoints\", \"learnToolsVersion\": \"0.3.4\", \"valueTowardsCompletion\": 0.0, \"failureMessage\": \"\", \"exceptionClass\": \"\", \"trace\": \"\", \"outcomeType\": 4}}, \"*\")"
      ],
      "text/plain": [
       "<IPython.core.display.Javascript object>"
      ]
     },
     "metadata": {},
     "output_type": "display_data"
    },
    {
     "data": {
      "text/markdown": [
       "<span style=\"color:#33cc99\">Solution:</span> \n",
       "```python\n",
       "point_strings = reviews.points.astype(str)\n",
       "```"
      ],
      "text/plain": [
       "Solution: \n",
       "```python\n",
       "point_strings = reviews.points.astype(str)\n",
       "```"
      ]
     },
     "metadata": {},
     "output_type": "display_data"
    }
   ],
   "source": [
    "#q2.hint()\n",
    "q2.solution()"
   ]
  },
  {
   "cell_type": "markdown",
   "id": "f1c6136e",
   "metadata": {
    "papermill": {
     "duration": 0.006333,
     "end_time": "2023-10-23T10:39:15.576223",
     "exception": false,
     "start_time": "2023-10-23T10:39:15.569890",
     "status": "completed"
    },
    "tags": []
   },
   "source": [
    "## 3.\n",
    "Sometimes the price column is null. How many reviews in the dataset are missing a price?"
   ]
  },
  {
   "cell_type": "code",
   "execution_count": 6,
   "id": "ea930000",
   "metadata": {
    "execution": {
     "iopub.execute_input": "2023-10-23T10:39:15.591662Z",
     "iopub.status.busy": "2023-10-23T10:39:15.590852Z",
     "iopub.status.idle": "2023-10-23T10:39:15.600141Z",
     "shell.execute_reply": "2023-10-23T10:39:15.599101Z"
    },
    "papermill": {
     "duration": 0.02,
     "end_time": "2023-10-23T10:39:15.602994",
     "exception": false,
     "start_time": "2023-10-23T10:39:15.582994",
     "status": "completed"
    },
    "tags": []
   },
   "outputs": [
    {
     "data": {
      "application/javascript": [
       "parent.postMessage({\"jupyterEvent\": \"custom.exercise_interaction\", \"data\": {\"outcomeType\": 1, \"valueTowardsCompletion\": 0.25, \"interactionType\": 1, \"questionType\": 1, \"questionId\": \"3_CountMissingPrices\", \"learnToolsVersion\": \"0.3.4\", \"failureMessage\": \"\", \"exceptionClass\": \"\", \"trace\": \"\"}}, \"*\")"
      ],
      "text/plain": [
       "<IPython.core.display.Javascript object>"
      ]
     },
     "metadata": {},
     "output_type": "display_data"
    },
    {
     "data": {
      "text/markdown": [
       "<span style=\"color:#33cc33\">Correct</span>"
      ],
      "text/plain": [
       "Correct"
      ]
     },
     "metadata": {},
     "output_type": "display_data"
    }
   ],
   "source": [
    "n_missing_prices = reviews.price.isnull().sum()\n",
    "\n",
    "n_missing_prices\n",
    "# Check your answer\n",
    "q3.check()"
   ]
  },
  {
   "cell_type": "code",
   "execution_count": 7,
   "id": "ab71e074",
   "metadata": {
    "execution": {
     "iopub.execute_input": "2023-10-23T10:39:15.618785Z",
     "iopub.status.busy": "2023-10-23T10:39:15.618415Z",
     "iopub.status.idle": "2023-10-23T10:39:15.627601Z",
     "shell.execute_reply": "2023-10-23T10:39:15.626312Z"
    },
    "papermill": {
     "duration": 0.019782,
     "end_time": "2023-10-23T10:39:15.629893",
     "exception": false,
     "start_time": "2023-10-23T10:39:15.610111",
     "status": "completed"
    },
    "tags": []
   },
   "outputs": [
    {
     "data": {
      "application/javascript": [
       "parent.postMessage({\"jupyterEvent\": \"custom.exercise_interaction\", \"data\": {\"interactionType\": 3, \"questionType\": 1, \"questionId\": \"3_CountMissingPrices\", \"learnToolsVersion\": \"0.3.4\", \"valueTowardsCompletion\": 0.0, \"failureMessage\": \"\", \"exceptionClass\": \"\", \"trace\": \"\", \"outcomeType\": 4}}, \"*\")"
      ],
      "text/plain": [
       "<IPython.core.display.Javascript object>"
      ]
     },
     "metadata": {},
     "output_type": "display_data"
    },
    {
     "data": {
      "text/markdown": [
       "<span style=\"color:#33cc99\">Solution:</span> \n",
       "```python\n",
       "missing_price_reviews = reviews[reviews.price.isnull()]\n",
       "n_missing_prices = len(missing_price_reviews)\n",
       "# Cute alternative solution: if we sum a boolean series, True is treated as 1 and False as 0\n",
       "n_missing_prices = reviews.price.isnull().sum()\n",
       "# or equivalently:\n",
       "n_missing_prices = pd.isnull(reviews.price).sum()\n",
       "\n",
       "```"
      ],
      "text/plain": [
       "Solution: \n",
       "```python\n",
       "missing_price_reviews = reviews[reviews.price.isnull()]\n",
       "n_missing_prices = len(missing_price_reviews)\n",
       "# Cute alternative solution: if we sum a boolean series, True is treated as 1 and False as 0\n",
       "n_missing_prices = reviews.price.isnull().sum()\n",
       "# or equivalently:\n",
       "n_missing_prices = pd.isnull(reviews.price).sum()\n",
       "\n",
       "```"
      ]
     },
     "metadata": {},
     "output_type": "display_data"
    }
   ],
   "source": [
    "#q3.hint()\n",
    "q3.solution()"
   ]
  },
  {
   "cell_type": "markdown",
   "id": "c24720c2",
   "metadata": {
    "papermill": {
     "duration": 0.007225,
     "end_time": "2023-10-23T10:39:15.644714",
     "exception": false,
     "start_time": "2023-10-23T10:39:15.637489",
     "status": "completed"
    },
    "tags": []
   },
   "source": [
    "## 4.\n",
    "What are the most common wine-producing regions? Create a Series counting the number of times each value occurs in the `region_1` field. This field is often missing data, so replace missing values with `Unknown`. Sort in descending order.  Your output should look something like this:\n",
    "\n",
    "```\n",
    "Unknown                    21247\n",
    "Napa Valley                 4480\n",
    "                           ...  \n",
    "Bardolino Superiore            1\n",
    "Primitivo del Tarantino        1\n",
    "Name: region_1, Length: 1230, dtype: int64\n",
    "```"
   ]
  },
  {
   "cell_type": "code",
   "execution_count": 8,
   "id": "115dec06",
   "metadata": {
    "execution": {
     "iopub.execute_input": "2023-10-23T10:39:15.662130Z",
     "iopub.status.busy": "2023-10-23T10:39:15.661276Z",
     "iopub.status.idle": "2023-10-23T10:39:15.756934Z",
     "shell.execute_reply": "2023-10-23T10:39:15.755865Z"
    },
    "papermill": {
     "duration": 0.107288,
     "end_time": "2023-10-23T10:39:15.759379",
     "exception": false,
     "start_time": "2023-10-23T10:39:15.652091",
     "status": "completed"
    },
    "tags": []
   },
   "outputs": [
    {
     "data": {
      "application/javascript": [
       "parent.postMessage({\"jupyterEvent\": \"custom.exercise_interaction\", \"data\": {\"outcomeType\": 1, \"valueTowardsCompletion\": 0.25, \"interactionType\": 1, \"questionType\": 2, \"questionId\": \"4_ReviewsPerRegion\", \"learnToolsVersion\": \"0.3.4\", \"failureMessage\": \"\", \"exceptionClass\": \"\", \"trace\": \"\"}}, \"*\")"
      ],
      "text/plain": [
       "<IPython.core.display.Javascript object>"
      ]
     },
     "metadata": {},
     "output_type": "display_data"
    },
    {
     "data": {
      "text/markdown": [
       "<span style=\"color:#33cc33\">Correct</span>"
      ],
      "text/plain": [
       "Correct"
      ]
     },
     "metadata": {},
     "output_type": "display_data"
    }
   ],
   "source": [
    "reviews.region_1.fillna('Unknown', inplace=True)\n",
    "# reviews\n",
    "\n",
    "reviews_per_region = reviews.groupby('region_1').region_1.count().sort_values(ascending=False)\n",
    "\n",
    "\n",
    "# Check your answer\n",
    "q4.check()"
   ]
  },
  {
   "cell_type": "code",
   "execution_count": 9,
   "id": "e134671b",
   "metadata": {
    "execution": {
     "iopub.execute_input": "2023-10-23T10:39:15.778948Z",
     "iopub.status.busy": "2023-10-23T10:39:15.778527Z",
     "iopub.status.idle": "2023-10-23T10:39:15.783329Z",
     "shell.execute_reply": "2023-10-23T10:39:15.782156Z"
    },
    "papermill": {
     "duration": 0.0163,
     "end_time": "2023-10-23T10:39:15.785609",
     "exception": false,
     "start_time": "2023-10-23T10:39:15.769309",
     "status": "completed"
    },
    "tags": []
   },
   "outputs": [],
   "source": [
    "#q4.hint()\n",
    "#q4.solution()"
   ]
  },
  {
   "cell_type": "markdown",
   "id": "469a3452",
   "metadata": {
    "papermill": {
     "duration": 0.007492,
     "end_time": "2023-10-23T10:39:15.801024",
     "exception": false,
     "start_time": "2023-10-23T10:39:15.793532",
     "status": "completed"
    },
    "tags": []
   },
   "source": [
    "# Keep going\n",
    "\n",
    "Move on to **[renaming and combining](https://www.kaggle.com/residentmario/renaming-and-combining)**."
   ]
  },
  {
   "cell_type": "markdown",
   "id": "3442d992",
   "metadata": {
    "papermill": {
     "duration": 0.007791,
     "end_time": "2023-10-23T10:39:15.816659",
     "exception": false,
     "start_time": "2023-10-23T10:39:15.808868",
     "status": "completed"
    },
    "tags": []
   },
   "source": [
    "---\n",
    "\n",
    "\n",
    "\n",
    "\n",
    "*Have questions or comments? Visit the [course discussion forum](https://www.kaggle.com/learn/pandas/discussion) to chat with other learners.*"
   ]
  }
 ],
 "metadata": {
  "kernelspec": {
   "display_name": "Python 3",
   "language": "python",
   "name": "python3"
  },
  "language_info": {
   "codemirror_mode": {
    "name": "ipython",
    "version": 3
   },
   "file_extension": ".py",
   "mimetype": "text/x-python",
   "name": "python",
   "nbconvert_exporter": "python",
   "pygments_lexer": "ipython3",
   "version": "3.10.12"
  },
  "papermill": {
   "default_parameters": {},
   "duration": 8.272232,
   "end_time": "2023-10-23T10:39:16.346131",
   "environment_variables": {},
   "exception": null,
   "input_path": "__notebook__.ipynb",
   "output_path": "__notebook__.ipynb",
   "parameters": {},
   "start_time": "2023-10-23T10:39:08.073899",
   "version": "2.4.0"
  }
 },
 "nbformat": 4,
 "nbformat_minor": 5
}

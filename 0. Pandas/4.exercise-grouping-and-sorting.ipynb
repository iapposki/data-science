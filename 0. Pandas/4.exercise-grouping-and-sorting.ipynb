{
 "cells": [
  {
   "cell_type": "markdown",
   "id": "2239caf1",
   "metadata": {
    "papermill": {
     "duration": 0.00541,
     "end_time": "2023-10-20T08:10:45.325388",
     "exception": false,
     "start_time": "2023-10-20T08:10:45.319978",
     "status": "completed"
    },
    "tags": []
   },
   "source": [
    "**This notebook is an exercise in the [Pandas](https://www.kaggle.com/learn/pandas) course.  You can reference the tutorial at [this link](https://www.kaggle.com/residentmario/grouping-and-sorting).**\n",
    "\n",
    "---\n"
   ]
  },
  {
   "cell_type": "markdown",
   "id": "d53dbed1",
   "metadata": {
    "papermill": {
     "duration": 0.004797,
     "end_time": "2023-10-20T08:10:45.335206",
     "exception": false,
     "start_time": "2023-10-20T08:10:45.330409",
     "status": "completed"
    },
    "tags": []
   },
   "source": [
    "# Introduction\n",
    "\n",
    "In these exercises we'll apply groupwise analysis to our dataset.\n",
    "\n",
    "Run the code cell below to load the data before running the exercises."
   ]
  },
  {
   "cell_type": "code",
   "execution_count": 1,
   "id": "6f90fc1e",
   "metadata": {
    "execution": {
     "iopub.execute_input": "2023-10-20T08:10:45.348428Z",
     "iopub.status.busy": "2023-10-20T08:10:45.347596Z",
     "iopub.status.idle": "2023-10-20T08:10:49.049772Z",
     "shell.execute_reply": "2023-10-20T08:10:49.048292Z"
    },
    "papermill": {
     "duration": 3.712204,
     "end_time": "2023-10-20T08:10:49.052300",
     "exception": false,
     "start_time": "2023-10-20T08:10:45.340096",
     "status": "completed"
    },
    "tags": []
   },
   "outputs": [
    {
     "name": "stdout",
     "output_type": "stream",
     "text": [
      "Setup complete.\n"
     ]
    }
   ],
   "source": [
    "import pandas as pd\n",
    "\n",
    "reviews = pd.read_csv(\"../input/wine-reviews/winemag-data-130k-v2.csv\", index_col=0)\n",
    "#pd.set_option(\"display.max_rows\", 5)\n",
    "\n",
    "from learntools.core import binder; binder.bind(globals())\n",
    "from learntools.pandas.grouping_and_sorting import *\n",
    "print(\"Setup complete.\")"
   ]
  },
  {
   "cell_type": "markdown",
   "id": "64ca8b45",
   "metadata": {
    "papermill": {
     "duration": 0.005153,
     "end_time": "2023-10-20T08:10:49.062783",
     "exception": false,
     "start_time": "2023-10-20T08:10:49.057630",
     "status": "completed"
    },
    "tags": []
   },
   "source": [
    "# Exercises"
   ]
  },
  {
   "cell_type": "markdown",
   "id": "5ec7a6f2",
   "metadata": {
    "papermill": {
     "duration": 0.005386,
     "end_time": "2023-10-20T08:10:49.073442",
     "exception": false,
     "start_time": "2023-10-20T08:10:49.068056",
     "status": "completed"
    },
    "tags": []
   },
   "source": [
    "## 1.\n",
    "Who are the most common wine reviewers in the dataset? Create a `Series` whose index is the `taster_twitter_handle` category from the dataset, and whose values count how many reviews each person wrote."
   ]
  },
  {
   "cell_type": "code",
   "execution_count": 2,
   "id": "47096887",
   "metadata": {
    "execution": {
     "iopub.execute_input": "2023-10-20T08:10:49.084806Z",
     "iopub.status.busy": "2023-10-20T08:10:49.084434Z",
     "iopub.status.idle": "2023-10-20T08:10:49.112922Z",
     "shell.execute_reply": "2023-10-20T08:10:49.111806Z"
    },
    "papermill": {
     "duration": 0.036518,
     "end_time": "2023-10-20T08:10:49.114884",
     "exception": false,
     "start_time": "2023-10-20T08:10:49.078366",
     "status": "completed"
    },
    "tags": []
   },
   "outputs": [
    {
     "data": {
      "application/javascript": [
       "parent.postMessage({\"jupyterEvent\": \"custom.exercise_interaction\", \"data\": {\"outcomeType\": 1, \"valueTowardsCompletion\": 0.16666666666666666, \"interactionType\": 1, \"questionType\": 1, \"questionId\": \"1_ReviewsWritten\", \"learnToolsVersion\": \"0.3.4\", \"failureMessage\": \"\", \"exceptionClass\": \"\", \"trace\": \"\"}}, \"*\")"
      ],
      "text/plain": [
       "<IPython.core.display.Javascript object>"
      ]
     },
     "metadata": {},
     "output_type": "display_data"
    },
    {
     "data": {
      "text/markdown": [
       "<span style=\"color:#33cc33\">Correct:</span> \n",
       "\n",
       "\n",
       "```python\n",
       "reviews_written = reviews.groupby('taster_twitter_handle').size()\n",
       "```\n",
       "or\n",
       "```python\n",
       "reviews_written = reviews.groupby('taster_twitter_handle').taster_twitter_handle.count()\n",
       "```\n"
      ],
      "text/plain": [
       "Correct: \n",
       "\n",
       "\n",
       "```python\n",
       "reviews_written = reviews.groupby('taster_twitter_handle').size()\n",
       "```\n",
       "or\n",
       "```python\n",
       "reviews_written = reviews.groupby('taster_twitter_handle').taster_twitter_handle.count()\n",
       "```"
      ]
     },
     "metadata": {},
     "output_type": "display_data"
    }
   ],
   "source": [
    "# Your code here\n",
    "reviews_written = reviews.groupby('taster_twitter_handle').taster_twitter_handle.count()\n",
    "\n",
    "# reviews_written\n",
    "\n",
    "# reviews.head()\n",
    "\n",
    "# Check your answer\n",
    "q1.check()"
   ]
  },
  {
   "cell_type": "code",
   "execution_count": 3,
   "id": "ab814eff",
   "metadata": {
    "execution": {
     "iopub.execute_input": "2023-10-20T08:10:49.127040Z",
     "iopub.status.busy": "2023-10-20T08:10:49.126674Z",
     "iopub.status.idle": "2023-10-20T08:10:49.131526Z",
     "shell.execute_reply": "2023-10-20T08:10:49.130377Z"
    },
    "papermill": {
     "duration": 0.014017,
     "end_time": "2023-10-20T08:10:49.133942",
     "exception": false,
     "start_time": "2023-10-20T08:10:49.119925",
     "status": "completed"
    },
    "tags": []
   },
   "outputs": [],
   "source": [
    "#q1.hint()\n",
    "#q1.solution()"
   ]
  },
  {
   "cell_type": "markdown",
   "id": "0bfc34cb",
   "metadata": {
    "papermill": {
     "duration": 0.004739,
     "end_time": "2023-10-20T08:10:49.143703",
     "exception": false,
     "start_time": "2023-10-20T08:10:49.138964",
     "status": "completed"
    },
    "tags": []
   },
   "source": [
    "## 2.\n",
    "What is the best wine I can buy for a given amount of money? Create a `Series` whose index is wine prices and whose values is the maximum number of points a wine costing that much was given in a review. Sort the values by price, ascending (so that `4.0` dollars is at the top and `3300.0` dollars is at the bottom)."
   ]
  },
  {
   "cell_type": "code",
   "execution_count": 4,
   "id": "0c20ddea",
   "metadata": {
    "execution": {
     "iopub.execute_input": "2023-10-20T08:10:49.156449Z",
     "iopub.status.busy": "2023-10-20T08:10:49.156079Z",
     "iopub.status.idle": "2023-10-20T08:10:49.335026Z",
     "shell.execute_reply": "2023-10-20T08:10:49.334021Z"
    },
    "papermill": {
     "duration": 0.187837,
     "end_time": "2023-10-20T08:10:49.337358",
     "exception": false,
     "start_time": "2023-10-20T08:10:49.149521",
     "status": "completed"
    },
    "tags": []
   },
   "outputs": [
    {
     "data": {
      "application/javascript": [
       "parent.postMessage({\"jupyterEvent\": \"custom.exercise_interaction\", \"data\": {\"outcomeType\": 1, \"valueTowardsCompletion\": 0.16666666666666666, \"interactionType\": 1, \"questionType\": 1, \"questionId\": \"2_BestRatingPerPrice\", \"learnToolsVersion\": \"0.3.4\", \"failureMessage\": \"\", \"exceptionClass\": \"\", \"trace\": \"\"}}, \"*\")"
      ],
      "text/plain": [
       "<IPython.core.display.Javascript object>"
      ]
     },
     "metadata": {},
     "output_type": "display_data"
    },
    {
     "data": {
      "text/markdown": [
       "<span style=\"color:#33cc33\">Correct</span>"
      ],
      "text/plain": [
       "Correct"
      ]
     },
     "metadata": {},
     "output_type": "display_data"
    }
   ],
   "source": [
    "\n",
    "best_data = reviews.groupby('price').apply(lambda df: df.loc[df.points.idxmax()])\n",
    "best_rating_per_price = pd.Series(best_data.points, index=best_data.price).sort_index()\n",
    "# best_rating_per_price = reviews.groupby('price').apply(lambda df: df.loc[df.points.idxmax()])\n",
    "# best_rating_per_price\n",
    "\n",
    "# Check your answer\n",
    "q2.check()"
   ]
  },
  {
   "cell_type": "code",
   "execution_count": 5,
   "id": "440991e5",
   "metadata": {
    "execution": {
     "iopub.execute_input": "2023-10-20T08:10:49.349600Z",
     "iopub.status.busy": "2023-10-20T08:10:49.349200Z",
     "iopub.status.idle": "2023-10-20T08:10:49.356910Z",
     "shell.execute_reply": "2023-10-20T08:10:49.355871Z"
    },
    "papermill": {
     "duration": 0.016564,
     "end_time": "2023-10-20T08:10:49.359258",
     "exception": false,
     "start_time": "2023-10-20T08:10:49.342694",
     "status": "completed"
    },
    "tags": []
   },
   "outputs": [
    {
     "data": {
      "application/javascript": [
       "parent.postMessage({\"jupyterEvent\": \"custom.exercise_interaction\", \"data\": {\"interactionType\": 3, \"questionType\": 1, \"questionId\": \"2_BestRatingPerPrice\", \"learnToolsVersion\": \"0.3.4\", \"valueTowardsCompletion\": 0.0, \"failureMessage\": \"\", \"exceptionClass\": \"\", \"trace\": \"\", \"outcomeType\": 4}}, \"*\")"
      ],
      "text/plain": [
       "<IPython.core.display.Javascript object>"
      ]
     },
     "metadata": {},
     "output_type": "display_data"
    },
    {
     "data": {
      "text/markdown": [
       "<span style=\"color:#33cc99\">Solution:</span> \n",
       "```python\n",
       "best_rating_per_price = reviews.groupby('price')['points'].max().sort_index()\n",
       "```"
      ],
      "text/plain": [
       "Solution: \n",
       "```python\n",
       "best_rating_per_price = reviews.groupby('price')['points'].max().sort_index()\n",
       "```"
      ]
     },
     "metadata": {},
     "output_type": "display_data"
    }
   ],
   "source": [
    "#q2.hint()\n",
    "q2.solution()"
   ]
  },
  {
   "cell_type": "markdown",
   "id": "c9db5d9f",
   "metadata": {
    "papermill": {
     "duration": 0.005574,
     "end_time": "2023-10-20T08:10:49.370631",
     "exception": false,
     "start_time": "2023-10-20T08:10:49.365057",
     "status": "completed"
    },
    "tags": []
   },
   "source": [
    "## 3.\n",
    "What are the minimum and maximum prices for each `variety` of wine? Create a `DataFrame` whose index is the `variety` category from the dataset and whose values are the `min` and `max` values thereof."
   ]
  },
  {
   "cell_type": "code",
   "execution_count": 6,
   "id": "7903c2bc",
   "metadata": {
    "execution": {
     "iopub.execute_input": "2023-10-20T08:10:49.383395Z",
     "iopub.status.busy": "2023-10-20T08:10:49.382571Z",
     "iopub.status.idle": "2023-10-20T08:10:49.404514Z",
     "shell.execute_reply": "2023-10-20T08:10:49.403630Z"
    },
    "papermill": {
     "duration": 0.030709,
     "end_time": "2023-10-20T08:10:49.406710",
     "exception": false,
     "start_time": "2023-10-20T08:10:49.376001",
     "status": "completed"
    },
    "tags": []
   },
   "outputs": [],
   "source": [
    "price_extremes = reviews.groupby('variety').price.agg([min, max])\n",
    "# price_extremes = pd.concat({price_extremes.iloc[:], maxim.iloc[:], minim.iloc[:]}, axis=1)\n",
    "# price_extremes\n",
    "\n",
    "# reviews\n",
    "\n",
    "# Check your answer\n",
    "# q3.check()"
   ]
  },
  {
   "cell_type": "code",
   "execution_count": 7,
   "id": "84c45a77",
   "metadata": {
    "execution": {
     "iopub.execute_input": "2023-10-20T08:10:49.418924Z",
     "iopub.status.busy": "2023-10-20T08:10:49.418588Z",
     "iopub.status.idle": "2023-10-20T08:10:49.426618Z",
     "shell.execute_reply": "2023-10-20T08:10:49.425451Z"
    },
    "papermill": {
     "duration": 0.01657,
     "end_time": "2023-10-20T08:10:49.428619",
     "exception": false,
     "start_time": "2023-10-20T08:10:49.412049",
     "status": "completed"
    },
    "tags": []
   },
   "outputs": [
    {
     "data": {
      "application/javascript": [
       "parent.postMessage({\"jupyterEvent\": \"custom.exercise_interaction\", \"data\": {\"interactionType\": 3, \"questionType\": 1, \"questionId\": \"3_PriceExtremes\", \"learnToolsVersion\": \"0.3.4\", \"valueTowardsCompletion\": 0.0, \"failureMessage\": \"\", \"exceptionClass\": \"\", \"trace\": \"\", \"outcomeType\": 4}}, \"*\")"
      ],
      "text/plain": [
       "<IPython.core.display.Javascript object>"
      ]
     },
     "metadata": {},
     "output_type": "display_data"
    },
    {
     "data": {
      "text/markdown": [
       "<span style=\"color:#33cc99\">Solution:</span> \n",
       "```python\n",
       "price_extremes = reviews.groupby('variety').price.agg([min, max])\n",
       "```"
      ],
      "text/plain": [
       "Solution: \n",
       "```python\n",
       "price_extremes = reviews.groupby('variety').price.agg([min, max])\n",
       "```"
      ]
     },
     "metadata": {},
     "output_type": "display_data"
    }
   ],
   "source": [
    "#q3.hint()\n",
    "q3.solution()"
   ]
  },
  {
   "cell_type": "markdown",
   "id": "d62c6b6d",
   "metadata": {
    "papermill": {
     "duration": 0.005399,
     "end_time": "2023-10-20T08:10:49.439936",
     "exception": false,
     "start_time": "2023-10-20T08:10:49.434537",
     "status": "completed"
    },
    "tags": []
   },
   "source": [
    "## 4.\n",
    "What are the most expensive wine varieties? Create a variable `sorted_varieties` containing a copy of the dataframe from the previous question where varieties are sorted in descending order based on minimum price, then on maximum price (to break ties)."
   ]
  },
  {
   "cell_type": "code",
   "execution_count": 8,
   "id": "76d84ade",
   "metadata": {
    "execution": {
     "iopub.execute_input": "2023-10-20T08:10:49.453313Z",
     "iopub.status.busy": "2023-10-20T08:10:49.452946Z",
     "iopub.status.idle": "2023-10-20T08:10:49.464988Z",
     "shell.execute_reply": "2023-10-20T08:10:49.463927Z"
    },
    "papermill": {
     "duration": 0.021095,
     "end_time": "2023-10-20T08:10:49.467169",
     "exception": false,
     "start_time": "2023-10-20T08:10:49.446074",
     "status": "completed"
    },
    "tags": []
   },
   "outputs": [
    {
     "data": {
      "application/javascript": [
       "parent.postMessage({\"jupyterEvent\": \"custom.exercise_interaction\", \"data\": {\"outcomeType\": 1, \"valueTowardsCompletion\": 0.16666666666666666, \"interactionType\": 1, \"questionType\": 1, \"questionId\": \"4_SortedVarieties\", \"learnToolsVersion\": \"0.3.4\", \"failureMessage\": \"\", \"exceptionClass\": \"\", \"trace\": \"\"}}, \"*\")"
      ],
      "text/plain": [
       "<IPython.core.display.Javascript object>"
      ]
     },
     "metadata": {},
     "output_type": "display_data"
    },
    {
     "data": {
      "text/markdown": [
       "<span style=\"color:#33cc33\">Correct</span>"
      ],
      "text/plain": [
       "Correct"
      ]
     },
     "metadata": {},
     "output_type": "display_data"
    }
   ],
   "source": [
    "sorted_varieties = price_extremes.sort_values(by=['min', 'max'], ascending=False)\n",
    "\n",
    "# Check your answer\n",
    "q4.check()"
   ]
  },
  {
   "cell_type": "code",
   "execution_count": 9,
   "id": "d53ed495",
   "metadata": {
    "execution": {
     "iopub.execute_input": "2023-10-20T08:10:49.481274Z",
     "iopub.status.busy": "2023-10-20T08:10:49.480894Z",
     "iopub.status.idle": "2023-10-20T08:10:49.485079Z",
     "shell.execute_reply": "2023-10-20T08:10:49.483948Z"
    },
    "papermill": {
     "duration": 0.013606,
     "end_time": "2023-10-20T08:10:49.487320",
     "exception": false,
     "start_time": "2023-10-20T08:10:49.473714",
     "status": "completed"
    },
    "tags": []
   },
   "outputs": [],
   "source": [
    "#q4.hint()\n",
    "#q4.solution()"
   ]
  },
  {
   "cell_type": "markdown",
   "id": "224a86a4",
   "metadata": {
    "papermill": {
     "duration": 0.005948,
     "end_time": "2023-10-20T08:10:49.499109",
     "exception": false,
     "start_time": "2023-10-20T08:10:49.493161",
     "status": "completed"
    },
    "tags": []
   },
   "source": [
    "## 5.\n",
    "Create a `Series` whose index is reviewers and whose values is the average review score given out by that reviewer. Hint: you will need the `taster_name` and `points` columns."
   ]
  },
  {
   "cell_type": "code",
   "execution_count": 10,
   "id": "50334013",
   "metadata": {
    "execution": {
     "iopub.execute_input": "2023-10-20T08:10:49.513819Z",
     "iopub.status.busy": "2023-10-20T08:10:49.513391Z",
     "iopub.status.idle": "2023-10-20T08:10:49.534947Z",
     "shell.execute_reply": "2023-10-20T08:10:49.533837Z"
    },
    "papermill": {
     "duration": 0.031726,
     "end_time": "2023-10-20T08:10:49.537277",
     "exception": false,
     "start_time": "2023-10-20T08:10:49.505551",
     "status": "completed"
    },
    "tags": []
   },
   "outputs": [
    {
     "data": {
      "application/javascript": [
       "parent.postMessage({\"jupyterEvent\": \"custom.exercise_interaction\", \"data\": {\"outcomeType\": 1, \"valueTowardsCompletion\": 0.16666666666666666, \"interactionType\": 1, \"questionType\": 1, \"questionId\": \"5_ReviewerMeanRatings\", \"learnToolsVersion\": \"0.3.4\", \"failureMessage\": \"\", \"exceptionClass\": \"\", \"trace\": \"\"}}, \"*\")"
      ],
      "text/plain": [
       "<IPython.core.display.Javascript object>"
      ]
     },
     "metadata": {},
     "output_type": "display_data"
    },
    {
     "data": {
      "text/markdown": [
       "<span style=\"color:#33cc33\">Correct</span>"
      ],
      "text/plain": [
       "Correct"
      ]
     },
     "metadata": {},
     "output_type": "display_data"
    }
   ],
   "source": [
    "reviewer_mean_ratings = reviews.groupby('taster_name').points.agg('mean')\n",
    "# reviewer_mean_ratings\n",
    "\n",
    "# reviews.points.describe()\n",
    "# Check your answer\n",
    "q5.check()"
   ]
  },
  {
   "cell_type": "code",
   "execution_count": 11,
   "id": "39181e0b",
   "metadata": {
    "execution": {
     "iopub.execute_input": "2023-10-20T08:10:49.551269Z",
     "iopub.status.busy": "2023-10-20T08:10:49.550931Z",
     "iopub.status.idle": "2023-10-20T08:10:49.555031Z",
     "shell.execute_reply": "2023-10-20T08:10:49.553756Z"
    },
    "papermill": {
     "duration": 0.014498,
     "end_time": "2023-10-20T08:10:49.557783",
     "exception": false,
     "start_time": "2023-10-20T08:10:49.543285",
     "status": "completed"
    },
    "tags": []
   },
   "outputs": [],
   "source": [
    "#q5.hint()\n",
    "#q5.solution()"
   ]
  },
  {
   "cell_type": "markdown",
   "id": "205a98bc",
   "metadata": {
    "papermill": {
     "duration": 0.005961,
     "end_time": "2023-10-20T08:10:49.570740",
     "exception": false,
     "start_time": "2023-10-20T08:10:49.564779",
     "status": "completed"
    },
    "tags": []
   },
   "source": [
    "Are there significant differences in the average scores assigned by the various reviewers? Run the cell below to use the `describe()` method to see a summary of the range of values."
   ]
  },
  {
   "cell_type": "code",
   "execution_count": 12,
   "id": "ee0fc655",
   "metadata": {
    "execution": {
     "iopub.execute_input": "2023-10-20T08:10:49.585344Z",
     "iopub.status.busy": "2023-10-20T08:10:49.585017Z",
     "iopub.status.idle": "2023-10-20T08:10:49.598088Z",
     "shell.execute_reply": "2023-10-20T08:10:49.597048Z"
    },
    "papermill": {
     "duration": 0.022715,
     "end_time": "2023-10-20T08:10:49.600255",
     "exception": false,
     "start_time": "2023-10-20T08:10:49.577540",
     "status": "completed"
    },
    "tags": []
   },
   "outputs": [
    {
     "data": {
      "text/plain": [
       "count    19.000000\n",
       "mean     88.233026\n",
       "std       1.243610\n",
       "min      85.855422\n",
       "25%      87.323501\n",
       "50%      88.536235\n",
       "75%      88.975256\n",
       "max      90.562551\n",
       "Name: points, dtype: float64"
      ]
     },
     "execution_count": 12,
     "metadata": {},
     "output_type": "execute_result"
    }
   ],
   "source": [
    "reviewer_mean_ratings.describe()"
   ]
  },
  {
   "cell_type": "markdown",
   "id": "a23f744e",
   "metadata": {
    "papermill": {
     "duration": 0.007016,
     "end_time": "2023-10-20T08:10:49.614129",
     "exception": false,
     "start_time": "2023-10-20T08:10:49.607113",
     "status": "completed"
    },
    "tags": []
   },
   "source": [
    "## 6.\n",
    "What combination of countries and varieties are most common? Create a `Series` whose index is a `MultiIndex`of `{country, variety}` pairs. For example, a pinot noir produced in the US should map to `{\"US\", \"Pinot Noir\"}`. Sort the values in the `Series` in descending order based on wine count."
   ]
  },
  {
   "cell_type": "code",
   "execution_count": 13,
   "id": "0d4cd47a",
   "metadata": {
    "execution": {
     "iopub.execute_input": "2023-10-20T08:10:49.628234Z",
     "iopub.status.busy": "2023-10-20T08:10:49.627903Z",
     "iopub.status.idle": "2023-10-20T08:10:49.667528Z",
     "shell.execute_reply": "2023-10-20T08:10:49.666350Z"
    },
    "papermill": {
     "duration": 0.049374,
     "end_time": "2023-10-20T08:10:49.669764",
     "exception": false,
     "start_time": "2023-10-20T08:10:49.620390",
     "status": "completed"
    },
    "tags": []
   },
   "outputs": [
    {
     "data": {
      "application/javascript": [
       "parent.postMessage({\"jupyterEvent\": \"custom.exercise_interaction\", \"data\": {\"outcomeType\": 1, \"valueTowardsCompletion\": 0.16666666666666666, \"interactionType\": 1, \"questionType\": 1, \"questionId\": \"6_GroupbyCountryVariety\", \"learnToolsVersion\": \"0.3.4\", \"failureMessage\": \"\", \"exceptionClass\": \"\", \"trace\": \"\"}}, \"*\")"
      ],
      "text/plain": [
       "<IPython.core.display.Javascript object>"
      ]
     },
     "metadata": {},
     "output_type": "display_data"
    },
    {
     "data": {
      "text/markdown": [
       "<span style=\"color:#33cc33\">Correct</span>"
      ],
      "text/plain": [
       "Correct"
      ]
     },
     "metadata": {},
     "output_type": "display_data"
    }
   ],
   "source": [
    "# country_variety_counts = reviews.groupby(['country', 'variety']).description.agg([len])\n",
    "# country_variety_counts = country_variety_counts.reset_index().sort_values('len', ascending=False)\n",
    "# country_variety_counts\n",
    "\n",
    "country_variety_counts = reviews.groupby(['country', 'variety']).size().sort_values(ascending=False)\n",
    "\n",
    "# Check your answer\n",
    "q6.check()"
   ]
  },
  {
   "cell_type": "code",
   "execution_count": 14,
   "id": "4ab38c50",
   "metadata": {
    "execution": {
     "iopub.execute_input": "2023-10-20T08:10:49.684514Z",
     "iopub.status.busy": "2023-10-20T08:10:49.684110Z",
     "iopub.status.idle": "2023-10-20T08:10:49.691960Z",
     "shell.execute_reply": "2023-10-20T08:10:49.690973Z"
    },
    "papermill": {
     "duration": 0.018171,
     "end_time": "2023-10-20T08:10:49.694357",
     "exception": false,
     "start_time": "2023-10-20T08:10:49.676186",
     "status": "completed"
    },
    "tags": []
   },
   "outputs": [
    {
     "data": {
      "application/javascript": [
       "parent.postMessage({\"jupyterEvent\": \"custom.exercise_interaction\", \"data\": {\"interactionType\": 3, \"questionType\": 1, \"questionId\": \"6_GroupbyCountryVariety\", \"learnToolsVersion\": \"0.3.4\", \"valueTowardsCompletion\": 0.0, \"failureMessage\": \"\", \"exceptionClass\": \"\", \"trace\": \"\", \"outcomeType\": 4}}, \"*\")"
      ],
      "text/plain": [
       "<IPython.core.display.Javascript object>"
      ]
     },
     "metadata": {},
     "output_type": "display_data"
    },
    {
     "data": {
      "text/markdown": [
       "<span style=\"color:#33cc99\">Solution:</span> \n",
       "```python\n",
       "country_variety_counts = reviews.groupby(['country', 'variety']).size().sort_values(ascending=False)\n",
       "```"
      ],
      "text/plain": [
       "Solution: \n",
       "```python\n",
       "country_variety_counts = reviews.groupby(['country', 'variety']).size().sort_values(ascending=False)\n",
       "```"
      ]
     },
     "metadata": {},
     "output_type": "display_data"
    }
   ],
   "source": [
    "#q6.hint()\n",
    "q6.solution()"
   ]
  },
  {
   "cell_type": "markdown",
   "id": "6c51bb6f",
   "metadata": {
    "papermill": {
     "duration": 0.00736,
     "end_time": "2023-10-20T08:10:49.708445",
     "exception": false,
     "start_time": "2023-10-20T08:10:49.701085",
     "status": "completed"
    },
    "tags": []
   },
   "source": [
    "# Keep going\n",
    "\n",
    "Move on to the [**data types and missing data**](https://www.kaggle.com/residentmario/data-types-and-missing-values)."
   ]
  },
  {
   "cell_type": "markdown",
   "id": "45f26952",
   "metadata": {
    "papermill": {
     "duration": 0.007169,
     "end_time": "2023-10-20T08:10:49.724171",
     "exception": false,
     "start_time": "2023-10-20T08:10:49.717002",
     "status": "completed"
    },
    "tags": []
   },
   "source": [
    "---\n",
    "\n",
    "\n",
    "\n",
    "\n",
    "*Have questions or comments? Visit the [course discussion forum](https://www.kaggle.com/learn/pandas/discussion) to chat with other learners.*"
   ]
  }
 ],
 "metadata": {
  "kernelspec": {
   "display_name": "Python 3",
   "language": "python",
   "name": "python3"
  },
  "language_info": {
   "codemirror_mode": {
    "name": "ipython",
    "version": 3
   },
   "file_extension": ".py",
   "mimetype": "text/x-python",
   "name": "python",
   "nbconvert_exporter": "python",
   "pygments_lexer": "ipython3",
   "version": "3.10.12"
  },
  "papermill": {
   "default_parameters": {},
   "duration": 8.450166,
   "end_time": "2023-10-20T08:10:50.252576",
   "environment_variables": {},
   "exception": null,
   "input_path": "__notebook__.ipynb",
   "output_path": "__notebook__.ipynb",
   "parameters": {},
   "start_time": "2023-10-20T08:10:41.802410",
   "version": "2.4.0"
  }
 },
 "nbformat": 4,
 "nbformat_minor": 5
}

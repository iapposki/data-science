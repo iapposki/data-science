{
 "cells": [
  {
   "cell_type": "markdown",
   "id": "f5b8dea8",
   "metadata": {
    "papermill": {
     "duration": 0.009163,
     "end_time": "2023-10-26T08:07:38.346917",
     "exception": false,
     "start_time": "2023-10-26T08:07:38.337754",
     "status": "completed"
    },
    "tags": []
   },
   "source": [
    "**This notebook is an exercise in the [Pandas](https://www.kaggle.com/learn/pandas) course.  You can reference the tutorial at [this link](https://www.kaggle.com/residentmario/renaming-and-combining).**\n",
    "\n",
    "---\n"
   ]
  },
  {
   "cell_type": "markdown",
   "id": "65ac5309",
   "metadata": {
    "papermill": {
     "duration": 0.006352,
     "end_time": "2023-10-26T08:07:38.360154",
     "exception": false,
     "start_time": "2023-10-26T08:07:38.353802",
     "status": "completed"
    },
    "tags": []
   },
   "source": [
    "# Introduction\n",
    "\n",
    "Run the following cell to load your data and some utility functions."
   ]
  },
  {
   "cell_type": "code",
   "execution_count": 1,
   "id": "df42e827",
   "metadata": {
    "execution": {
     "iopub.execute_input": "2023-10-26T08:07:38.376891Z",
     "iopub.status.busy": "2023-10-26T08:07:38.375919Z",
     "iopub.status.idle": "2023-10-26T08:07:44.392294Z",
     "shell.execute_reply": "2023-10-26T08:07:44.391109Z"
    },
    "papermill": {
     "duration": 6.02778,
     "end_time": "2023-10-26T08:07:44.395085",
     "exception": false,
     "start_time": "2023-10-26T08:07:38.367305",
     "status": "completed"
    },
    "tags": []
   },
   "outputs": [
    {
     "name": "stdout",
     "output_type": "stream",
     "text": [
      "Setup complete.\n"
     ]
    }
   ],
   "source": [
    "import pandas as pd\n",
    "\n",
    "reviews = pd.read_csv(\"../input/wine-reviews/winemag-data-130k-v2.csv\", index_col=0)\n",
    "\n",
    "from learntools.core import binder; binder.bind(globals())\n",
    "from learntools.pandas.renaming_and_combining import *\n",
    "print(\"Setup complete.\")"
   ]
  },
  {
   "cell_type": "markdown",
   "id": "98f282a6",
   "metadata": {
    "papermill": {
     "duration": 0.007432,
     "end_time": "2023-10-26T08:07:44.409812",
     "exception": false,
     "start_time": "2023-10-26T08:07:44.402380",
     "status": "completed"
    },
    "tags": []
   },
   "source": [
    "# Exercises\n",
    "\n",
    "View the first several lines of your data by running the cell below:"
   ]
  },
  {
   "cell_type": "code",
   "execution_count": 2,
   "id": "f12a4cac",
   "metadata": {
    "execution": {
     "iopub.execute_input": "2023-10-26T08:07:44.425470Z",
     "iopub.status.busy": "2023-10-26T08:07:44.425063Z",
     "iopub.status.idle": "2023-10-26T08:07:44.451950Z",
     "shell.execute_reply": "2023-10-26T08:07:44.450794Z"
    },
    "papermill": {
     "duration": 0.038167,
     "end_time": "2023-10-26T08:07:44.454922",
     "exception": false,
     "start_time": "2023-10-26T08:07:44.416755",
     "status": "completed"
    },
    "tags": []
   },
   "outputs": [
    {
     "data": {
      "text/html": [
       "<div>\n",
       "<style scoped>\n",
       "    .dataframe tbody tr th:only-of-type {\n",
       "        vertical-align: middle;\n",
       "    }\n",
       "\n",
       "    .dataframe tbody tr th {\n",
       "        vertical-align: top;\n",
       "    }\n",
       "\n",
       "    .dataframe thead th {\n",
       "        text-align: right;\n",
       "    }\n",
       "</style>\n",
       "<table border=\"1\" class=\"dataframe\">\n",
       "  <thead>\n",
       "    <tr style=\"text-align: right;\">\n",
       "      <th></th>\n",
       "      <th>country</th>\n",
       "      <th>description</th>\n",
       "      <th>designation</th>\n",
       "      <th>points</th>\n",
       "      <th>price</th>\n",
       "      <th>province</th>\n",
       "      <th>region_1</th>\n",
       "      <th>region_2</th>\n",
       "      <th>taster_name</th>\n",
       "      <th>taster_twitter_handle</th>\n",
       "      <th>title</th>\n",
       "      <th>variety</th>\n",
       "      <th>winery</th>\n",
       "    </tr>\n",
       "  </thead>\n",
       "  <tbody>\n",
       "    <tr>\n",
       "      <th>0</th>\n",
       "      <td>Italy</td>\n",
       "      <td>Aromas include tropical fruit, broom, brimston...</td>\n",
       "      <td>Vulkà Bianco</td>\n",
       "      <td>87</td>\n",
       "      <td>NaN</td>\n",
       "      <td>Sicily &amp; Sardinia</td>\n",
       "      <td>Etna</td>\n",
       "      <td>NaN</td>\n",
       "      <td>Kerin O’Keefe</td>\n",
       "      <td>@kerinokeefe</td>\n",
       "      <td>Nicosia 2013 Vulkà Bianco  (Etna)</td>\n",
       "      <td>White Blend</td>\n",
       "      <td>Nicosia</td>\n",
       "    </tr>\n",
       "    <tr>\n",
       "      <th>1</th>\n",
       "      <td>Portugal</td>\n",
       "      <td>This is ripe and fruity, a wine that is smooth...</td>\n",
       "      <td>Avidagos</td>\n",
       "      <td>87</td>\n",
       "      <td>15.0</td>\n",
       "      <td>Douro</td>\n",
       "      <td>NaN</td>\n",
       "      <td>NaN</td>\n",
       "      <td>Roger Voss</td>\n",
       "      <td>@vossroger</td>\n",
       "      <td>Quinta dos Avidagos 2011 Avidagos Red (Douro)</td>\n",
       "      <td>Portuguese Red</td>\n",
       "      <td>Quinta dos Avidagos</td>\n",
       "    </tr>\n",
       "    <tr>\n",
       "      <th>2</th>\n",
       "      <td>US</td>\n",
       "      <td>Tart and snappy, the flavors of lime flesh and...</td>\n",
       "      <td>NaN</td>\n",
       "      <td>87</td>\n",
       "      <td>14.0</td>\n",
       "      <td>Oregon</td>\n",
       "      <td>Willamette Valley</td>\n",
       "      <td>Willamette Valley</td>\n",
       "      <td>Paul Gregutt</td>\n",
       "      <td>@paulgwine</td>\n",
       "      <td>Rainstorm 2013 Pinot Gris (Willamette Valley)</td>\n",
       "      <td>Pinot Gris</td>\n",
       "      <td>Rainstorm</td>\n",
       "    </tr>\n",
       "    <tr>\n",
       "      <th>3</th>\n",
       "      <td>US</td>\n",
       "      <td>Pineapple rind, lemon pith and orange blossom ...</td>\n",
       "      <td>Reserve Late Harvest</td>\n",
       "      <td>87</td>\n",
       "      <td>13.0</td>\n",
       "      <td>Michigan</td>\n",
       "      <td>Lake Michigan Shore</td>\n",
       "      <td>NaN</td>\n",
       "      <td>Alexander Peartree</td>\n",
       "      <td>NaN</td>\n",
       "      <td>St. Julian 2013 Reserve Late Harvest Riesling ...</td>\n",
       "      <td>Riesling</td>\n",
       "      <td>St. Julian</td>\n",
       "    </tr>\n",
       "    <tr>\n",
       "      <th>4</th>\n",
       "      <td>US</td>\n",
       "      <td>Much like the regular bottling from 2012, this...</td>\n",
       "      <td>Vintner's Reserve Wild Child Block</td>\n",
       "      <td>87</td>\n",
       "      <td>65.0</td>\n",
       "      <td>Oregon</td>\n",
       "      <td>Willamette Valley</td>\n",
       "      <td>Willamette Valley</td>\n",
       "      <td>Paul Gregutt</td>\n",
       "      <td>@paulgwine</td>\n",
       "      <td>Sweet Cheeks 2012 Vintner's Reserve Wild Child...</td>\n",
       "      <td>Pinot Noir</td>\n",
       "      <td>Sweet Cheeks</td>\n",
       "    </tr>\n",
       "  </tbody>\n",
       "</table>\n",
       "</div>"
      ],
      "text/plain": [
       "    country                                        description  \\\n",
       "0     Italy  Aromas include tropical fruit, broom, brimston...   \n",
       "1  Portugal  This is ripe and fruity, a wine that is smooth...   \n",
       "2        US  Tart and snappy, the flavors of lime flesh and...   \n",
       "3        US  Pineapple rind, lemon pith and orange blossom ...   \n",
       "4        US  Much like the regular bottling from 2012, this...   \n",
       "\n",
       "                          designation  points  price           province  \\\n",
       "0                        Vulkà Bianco      87    NaN  Sicily & Sardinia   \n",
       "1                            Avidagos      87   15.0              Douro   \n",
       "2                                 NaN      87   14.0             Oregon   \n",
       "3                Reserve Late Harvest      87   13.0           Michigan   \n",
       "4  Vintner's Reserve Wild Child Block      87   65.0             Oregon   \n",
       "\n",
       "              region_1           region_2         taster_name  \\\n",
       "0                 Etna                NaN       Kerin O’Keefe   \n",
       "1                  NaN                NaN          Roger Voss   \n",
       "2    Willamette Valley  Willamette Valley        Paul Gregutt   \n",
       "3  Lake Michigan Shore                NaN  Alexander Peartree   \n",
       "4    Willamette Valley  Willamette Valley        Paul Gregutt   \n",
       "\n",
       "  taster_twitter_handle                                              title  \\\n",
       "0          @kerinokeefe                  Nicosia 2013 Vulkà Bianco  (Etna)   \n",
       "1            @vossroger      Quinta dos Avidagos 2011 Avidagos Red (Douro)   \n",
       "2           @paulgwine       Rainstorm 2013 Pinot Gris (Willamette Valley)   \n",
       "3                   NaN  St. Julian 2013 Reserve Late Harvest Riesling ...   \n",
       "4           @paulgwine   Sweet Cheeks 2012 Vintner's Reserve Wild Child...   \n",
       "\n",
       "          variety               winery  \n",
       "0     White Blend              Nicosia  \n",
       "1  Portuguese Red  Quinta dos Avidagos  \n",
       "2      Pinot Gris            Rainstorm  \n",
       "3        Riesling           St. Julian  \n",
       "4      Pinot Noir         Sweet Cheeks  "
      ]
     },
     "execution_count": 2,
     "metadata": {},
     "output_type": "execute_result"
    }
   ],
   "source": [
    "reviews.head()"
   ]
  },
  {
   "cell_type": "markdown",
   "id": "06723bca",
   "metadata": {
    "papermill": {
     "duration": 0.007264,
     "end_time": "2023-10-26T08:07:44.469596",
     "exception": false,
     "start_time": "2023-10-26T08:07:44.462332",
     "status": "completed"
    },
    "tags": []
   },
   "source": [
    "## 1.\n",
    "`region_1` and `region_2` are pretty uninformative names for locale columns in the dataset. Create a copy of `reviews` with these columns renamed to `region` and `locale`, respectively."
   ]
  },
  {
   "cell_type": "code",
   "execution_count": 3,
   "id": "ea37f7f6",
   "metadata": {
    "execution": {
     "iopub.execute_input": "2023-10-26T08:07:44.486419Z",
     "iopub.status.busy": "2023-10-26T08:07:44.486006Z",
     "iopub.status.idle": "2023-10-26T08:07:44.512976Z",
     "shell.execute_reply": "2023-10-26T08:07:44.511538Z"
    },
    "papermill": {
     "duration": 0.038918,
     "end_time": "2023-10-26T08:07:44.515837",
     "exception": false,
     "start_time": "2023-10-26T08:07:44.476919",
     "status": "completed"
    },
    "tags": []
   },
   "outputs": [
    {
     "data": {
      "application/javascript": [
       "parent.postMessage({\"jupyterEvent\": \"custom.exercise_interaction\", \"data\": {\"outcomeType\": 1, \"valueTowardsCompletion\": 0.25, \"interactionType\": 1, \"questionType\": 1, \"questionId\": \"1_RenameCols\", \"learnToolsVersion\": \"0.3.4\", \"failureMessage\": \"\", \"exceptionClass\": \"\", \"trace\": \"\"}}, \"*\")"
      ],
      "text/plain": [
       "<IPython.core.display.Javascript object>"
      ]
     },
     "metadata": {},
     "output_type": "display_data"
    },
    {
     "data": {
      "text/markdown": [
       "<span style=\"color:#33cc33\">Correct</span>"
      ],
      "text/plain": [
       "Correct"
      ]
     },
     "metadata": {},
     "output_type": "display_data"
    }
   ],
   "source": [
    "# Your code here\n",
    "renamed = reviews.rename(columns={'region_1': 'region', 'region_2':'locale'})\n",
    "\n",
    "# Check your answer\n",
    "q1.check()"
   ]
  },
  {
   "cell_type": "code",
   "execution_count": 4,
   "id": "1a9dc441",
   "metadata": {
    "execution": {
     "iopub.execute_input": "2023-10-26T08:07:44.533572Z",
     "iopub.status.busy": "2023-10-26T08:07:44.533159Z",
     "iopub.status.idle": "2023-10-26T08:07:44.538177Z",
     "shell.execute_reply": "2023-10-26T08:07:44.537039Z"
    },
    "papermill": {
     "duration": 0.016663,
     "end_time": "2023-10-26T08:07:44.540632",
     "exception": false,
     "start_time": "2023-10-26T08:07:44.523969",
     "status": "completed"
    },
    "tags": []
   },
   "outputs": [],
   "source": [
    "#q1.hint()\n",
    "#q1.solution()"
   ]
  },
  {
   "cell_type": "markdown",
   "id": "81705297",
   "metadata": {
    "papermill": {
     "duration": 0.007359,
     "end_time": "2023-10-26T08:07:44.555896",
     "exception": false,
     "start_time": "2023-10-26T08:07:44.548537",
     "status": "completed"
    },
    "tags": []
   },
   "source": [
    "## 2.\n",
    "Set the index name in the dataset to `wines`."
   ]
  },
  {
   "cell_type": "code",
   "execution_count": 5,
   "id": "4451344b",
   "metadata": {
    "execution": {
     "iopub.execute_input": "2023-10-26T08:07:44.573146Z",
     "iopub.status.busy": "2023-10-26T08:07:44.572725Z",
     "iopub.status.idle": "2023-10-26T08:07:44.597605Z",
     "shell.execute_reply": "2023-10-26T08:07:44.596317Z"
    },
    "papermill": {
     "duration": 0.036497,
     "end_time": "2023-10-26T08:07:44.600093",
     "exception": false,
     "start_time": "2023-10-26T08:07:44.563596",
     "status": "completed"
    },
    "tags": []
   },
   "outputs": [
    {
     "data": {
      "application/javascript": [
       "parent.postMessage({\"jupyterEvent\": \"custom.exercise_interaction\", \"data\": {\"outcomeType\": 1, \"valueTowardsCompletion\": 0.25, \"interactionType\": 1, \"questionType\": 1, \"questionId\": \"2_RenameIndex\", \"learnToolsVersion\": \"0.3.4\", \"failureMessage\": \"\", \"exceptionClass\": \"\", \"trace\": \"\"}}, \"*\")"
      ],
      "text/plain": [
       "<IPython.core.display.Javascript object>"
      ]
     },
     "metadata": {},
     "output_type": "display_data"
    },
    {
     "data": {
      "text/markdown": [
       "<span style=\"color:#33cc33\">Correct</span>"
      ],
      "text/plain": [
       "Correct"
      ]
     },
     "metadata": {},
     "output_type": "display_data"
    }
   ],
   "source": [
    "reindexed = reviews.rename_axis('wines', axis='rows')\n",
    "\n",
    "# Check your answer\n",
    "q2.check()"
   ]
  },
  {
   "cell_type": "code",
   "execution_count": 6,
   "id": "9243b3ef",
   "metadata": {
    "execution": {
     "iopub.execute_input": "2023-10-26T08:07:44.618109Z",
     "iopub.status.busy": "2023-10-26T08:07:44.617701Z",
     "iopub.status.idle": "2023-10-26T08:07:44.622718Z",
     "shell.execute_reply": "2023-10-26T08:07:44.621475Z"
    },
    "papermill": {
     "duration": 0.017181,
     "end_time": "2023-10-26T08:07:44.625360",
     "exception": false,
     "start_time": "2023-10-26T08:07:44.608179",
     "status": "completed"
    },
    "tags": []
   },
   "outputs": [],
   "source": [
    "#q2.hint()\n",
    "#q2.solution()"
   ]
  },
  {
   "cell_type": "markdown",
   "id": "7901fcad",
   "metadata": {
    "papermill": {
     "duration": 0.007989,
     "end_time": "2023-10-26T08:07:44.642239",
     "exception": false,
     "start_time": "2023-10-26T08:07:44.634250",
     "status": "completed"
    },
    "tags": []
   },
   "source": [
    "## 3.\n",
    "The [Things on Reddit](https://www.kaggle.com/residentmario/things-on-reddit/data) dataset includes product links from a selection of top-ranked forums (\"subreddits\") on reddit.com. Run the cell below to load a dataframe of products mentioned on the */r/gaming* subreddit and another dataframe for products mentioned on the *r//movies* subreddit."
   ]
  },
  {
   "cell_type": "code",
   "execution_count": 7,
   "id": "d412009a",
   "metadata": {
    "execution": {
     "iopub.execute_input": "2023-10-26T08:07:44.660649Z",
     "iopub.status.busy": "2023-10-26T08:07:44.660187Z",
     "iopub.status.idle": "2023-10-26T08:07:44.677217Z",
     "shell.execute_reply": "2023-10-26T08:07:44.675969Z"
    },
    "papermill": {
     "duration": 0.029781,
     "end_time": "2023-10-26T08:07:44.680242",
     "exception": false,
     "start_time": "2023-10-26T08:07:44.650461",
     "status": "completed"
    },
    "tags": []
   },
   "outputs": [],
   "source": [
    "gaming_products = pd.read_csv(\"../input/things-on-reddit/top-things/top-things/reddits/g/gaming.csv\")\n",
    "gaming_products['subreddit'] = \"r/gaming\"\n",
    "movie_products = pd.read_csv(\"../input/things-on-reddit/top-things/top-things/reddits/m/movies.csv\")\n",
    "movie_products['subreddit'] = \"r/movies\""
   ]
  },
  {
   "cell_type": "markdown",
   "id": "c8889c80",
   "metadata": {
    "papermill": {
     "duration": 0.008563,
     "end_time": "2023-10-26T08:07:44.697010",
     "exception": false,
     "start_time": "2023-10-26T08:07:44.688447",
     "status": "completed"
    },
    "tags": []
   },
   "source": [
    "Create a `DataFrame` of products mentioned on *either* subreddit."
   ]
  },
  {
   "cell_type": "code",
   "execution_count": 8,
   "id": "5d4a5c94",
   "metadata": {
    "execution": {
     "iopub.execute_input": "2023-10-26T08:07:44.714980Z",
     "iopub.status.busy": "2023-10-26T08:07:44.714504Z",
     "iopub.status.idle": "2023-10-26T08:07:44.728118Z",
     "shell.execute_reply": "2023-10-26T08:07:44.727053Z"
    },
    "papermill": {
     "duration": 0.025394,
     "end_time": "2023-10-26T08:07:44.730541",
     "exception": false,
     "start_time": "2023-10-26T08:07:44.705147",
     "status": "completed"
    },
    "tags": []
   },
   "outputs": [
    {
     "data": {
      "application/javascript": [
       "parent.postMessage({\"jupyterEvent\": \"custom.exercise_interaction\", \"data\": {\"outcomeType\": 1, \"valueTowardsCompletion\": 0.25, \"interactionType\": 1, \"questionType\": 2, \"questionId\": \"3_ConcatReddit\", \"learnToolsVersion\": \"0.3.4\", \"failureMessage\": \"\", \"exceptionClass\": \"\", \"trace\": \"\"}}, \"*\")"
      ],
      "text/plain": [
       "<IPython.core.display.Javascript object>"
      ]
     },
     "metadata": {},
     "output_type": "display_data"
    },
    {
     "data": {
      "text/markdown": [
       "<span style=\"color:#33cc33\">Correct</span>"
      ],
      "text/plain": [
       "Correct"
      ]
     },
     "metadata": {},
     "output_type": "display_data"
    }
   ],
   "source": [
    "combined_products = pd.concat([movie_products, gaming_products])\n",
    "\n",
    "# Check your answer\n",
    "q3.check()"
   ]
  },
  {
   "cell_type": "code",
   "execution_count": 9,
   "id": "4531daec",
   "metadata": {
    "execution": {
     "iopub.execute_input": "2023-10-26T08:07:44.749060Z",
     "iopub.status.busy": "2023-10-26T08:07:44.748662Z",
     "iopub.status.idle": "2023-10-26T08:07:44.753754Z",
     "shell.execute_reply": "2023-10-26T08:07:44.752510Z"
    },
    "papermill": {
     "duration": 0.017287,
     "end_time": "2023-10-26T08:07:44.756201",
     "exception": false,
     "start_time": "2023-10-26T08:07:44.738914",
     "status": "completed"
    },
    "tags": []
   },
   "outputs": [],
   "source": [
    "#q3.hint()\n",
    "#q3.solution()"
   ]
  },
  {
   "cell_type": "markdown",
   "id": "7b2e1252",
   "metadata": {
    "papermill": {
     "duration": 0.008075,
     "end_time": "2023-10-26T08:07:44.773170",
     "exception": false,
     "start_time": "2023-10-26T08:07:44.765095",
     "status": "completed"
    },
    "tags": []
   },
   "source": [
    "## 4.\n",
    "The [Powerlifting Database](https://www.kaggle.com/open-powerlifting/powerlifting-database) dataset on Kaggle includes one CSV table for powerlifting meets and a separate one for powerlifting competitors. Run the cell below to load these datasets into dataframes:"
   ]
  },
  {
   "cell_type": "code",
   "execution_count": 10,
   "id": "e0187db2",
   "metadata": {
    "execution": {
     "iopub.execute_input": "2023-10-26T08:07:44.791944Z",
     "iopub.status.busy": "2023-10-26T08:07:44.791498Z",
     "iopub.status.idle": "2023-10-26T08:07:45.971714Z",
     "shell.execute_reply": "2023-10-26T08:07:45.970725Z"
    },
    "papermill": {
     "duration": 1.192743,
     "end_time": "2023-10-26T08:07:45.974377",
     "exception": false,
     "start_time": "2023-10-26T08:07:44.781634",
     "status": "completed"
    },
    "tags": []
   },
   "outputs": [],
   "source": [
    "powerlifting_meets = pd.read_csv(\"../input/powerlifting-database/meets.csv\")\n",
    "powerlifting_competitors = pd.read_csv(\"../input/powerlifting-database/openpowerlifting.csv\")"
   ]
  },
  {
   "cell_type": "markdown",
   "id": "45e2d65b",
   "metadata": {
    "papermill": {
     "duration": 0.008309,
     "end_time": "2023-10-26T08:07:45.991314",
     "exception": false,
     "start_time": "2023-10-26T08:07:45.983005",
     "status": "completed"
    },
    "tags": []
   },
   "source": [
    "Both tables include references to a `MeetID`, a unique key for each meet (competition) included in the database. Using this, generate a dataset combining the two tables into one."
   ]
  },
  {
   "cell_type": "code",
   "execution_count": 11,
   "id": "f3e5ed81",
   "metadata": {
    "execution": {
     "iopub.execute_input": "2023-10-26T08:07:46.010049Z",
     "iopub.status.busy": "2023-10-26T08:07:46.009648Z",
     "iopub.status.idle": "2023-10-26T08:07:47.237646Z",
     "shell.execute_reply": "2023-10-26T08:07:47.236854Z"
    },
    "papermill": {
     "duration": 1.239963,
     "end_time": "2023-10-26T08:07:47.239698",
     "exception": false,
     "start_time": "2023-10-26T08:07:45.999735",
     "status": "completed"
    },
    "tags": []
   },
   "outputs": [
    {
     "data": {
      "application/javascript": [
       "parent.postMessage({\"jupyterEvent\": \"custom.exercise_interaction\", \"data\": {\"outcomeType\": 1, \"valueTowardsCompletion\": 0.25, \"interactionType\": 1, \"questionType\": 2, \"questionId\": \"4_JoinLifting\", \"learnToolsVersion\": \"0.3.4\", \"failureMessage\": \"\", \"exceptionClass\": \"\", \"trace\": \"\"}}, \"*\")"
      ],
      "text/plain": [
       "<IPython.core.display.Javascript object>"
      ]
     },
     "metadata": {},
     "output_type": "display_data"
    },
    {
     "data": {
      "text/markdown": [
       "<span style=\"color:#33cc33\">Correct</span>"
      ],
      "text/plain": [
       "Correct"
      ]
     },
     "metadata": {},
     "output_type": "display_data"
    }
   ],
   "source": [
    "right = powerlifting_competitors.set_index(['MeetID'])\n",
    "left = powerlifting_meets.set_index(['MeetID'])\n",
    "\n",
    "powerlifting_combined = left.join(right)\n",
    "\n",
    "# Check your answer\n",
    "q4.check()"
   ]
  },
  {
   "cell_type": "code",
   "execution_count": 12,
   "id": "5eb6d844",
   "metadata": {
    "execution": {
     "iopub.execute_input": "2023-10-26T08:07:47.260696Z",
     "iopub.status.busy": "2023-10-26T08:07:47.260201Z",
     "iopub.status.idle": "2023-10-26T08:07:47.265190Z",
     "shell.execute_reply": "2023-10-26T08:07:47.264042Z"
    },
    "papermill": {
     "duration": 0.018712,
     "end_time": "2023-10-26T08:07:47.267562",
     "exception": false,
     "start_time": "2023-10-26T08:07:47.248850",
     "status": "completed"
    },
    "tags": []
   },
   "outputs": [],
   "source": [
    "#q4.hint()\n",
    "#q4.solution()"
   ]
  },
  {
   "cell_type": "markdown",
   "id": "19a6b7fb",
   "metadata": {
    "papermill": {
     "duration": 0.008517,
     "end_time": "2023-10-26T08:07:47.285058",
     "exception": false,
     "start_time": "2023-10-26T08:07:47.276541",
     "status": "completed"
    },
    "tags": []
   },
   "source": [
    "# Congratulations!\n",
    "\n",
    "You've finished the Pandas micro-course.  Many data scientists feel efficiency with Pandas is the most useful and practical skill they have, because it allows you to progress quickly in any project you have.\n",
    "\n",
    "If you'd like to apply your new skills to examining geospatial data, you're encouraged to check out our **[Geospatial Analysis](https://www.kaggle.com/learn/geospatial-analysis)** micro-course.\n",
    "\n",
    "You can also take advantage of your Pandas skills by entering a **[Kaggle Competition](https://www.kaggle.com/competitions)** or by answering a question you find interesting using **[Kaggle Datasets](https://www.kaggle.com/datasets)**."
   ]
  },
  {
   "cell_type": "markdown",
   "id": "9ce94d4f",
   "metadata": {
    "papermill": {
     "duration": 0.008518,
     "end_time": "2023-10-26T08:07:47.302495",
     "exception": false,
     "start_time": "2023-10-26T08:07:47.293977",
     "status": "completed"
    },
    "tags": []
   },
   "source": [
    "---\n",
    "\n",
    "\n",
    "\n",
    "\n",
    "*Have questions or comments? Visit the [course discussion forum](https://www.kaggle.com/learn/pandas/discussion) to chat with other learners.*"
   ]
  }
 ],
 "metadata": {
  "kernelspec": {
   "display_name": "Python 3",
   "language": "python",
   "name": "python3"
  },
  "language_info": {
   "codemirror_mode": {
    "name": "ipython",
    "version": 3
   },
   "file_extension": ".py",
   "mimetype": "text/x-python",
   "name": "python",
   "nbconvert_exporter": "python",
   "pygments_lexer": "ipython3",
   "version": "3.10.12"
  },
  "papermill": {
   "default_parameters": {},
   "duration": 13.539713,
   "end_time": "2023-10-26T08:07:48.132896",
   "environment_variables": {},
   "exception": null,
   "input_path": "__notebook__.ipynb",
   "output_path": "__notebook__.ipynb",
   "parameters": {},
   "start_time": "2023-10-26T08:07:34.593183",
   "version": "2.4.0"
  }
 },
 "nbformat": 4,
 "nbformat_minor": 5
}

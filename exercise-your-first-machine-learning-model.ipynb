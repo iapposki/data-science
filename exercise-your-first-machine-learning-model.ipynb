{
 "cells": [
  {
   "cell_type": "markdown",
   "id": "6801b37d",
   "metadata": {
    "papermill": {
     "duration": 0.007956,
     "end_time": "2023-10-30T08:27:39.367241",
     "exception": false,
     "start_time": "2023-10-30T08:27:39.359285",
     "status": "completed"
    },
    "tags": []
   },
   "source": [
    "**This notebook is an exercise in the [Introduction to Machine Learning](https://www.kaggle.com/learn/intro-to-machine-learning) course.  You can reference the tutorial at [this link](https://www.kaggle.com/dansbecker/your-first-machine-learning-model).**\n",
    "\n",
    "---\n"
   ]
  },
  {
   "cell_type": "markdown",
   "id": "07681d0b",
   "metadata": {
    "papermill": {
     "duration": 0.006267,
     "end_time": "2023-10-30T08:27:39.380675",
     "exception": false,
     "start_time": "2023-10-30T08:27:39.374408",
     "status": "completed"
    },
    "tags": []
   },
   "source": [
    "## Recap\n",
    "So far, you have loaded your data and reviewed it with the following code. Run this cell to set up your coding environment where the previous step left off."
   ]
  },
  {
   "cell_type": "code",
   "execution_count": 1,
   "id": "f24d51e9",
   "metadata": {
    "execution": {
     "iopub.execute_input": "2023-10-30T08:27:39.396136Z",
     "iopub.status.busy": "2023-10-30T08:27:39.395743Z",
     "iopub.status.idle": "2023-10-30T08:27:41.530223Z",
     "shell.execute_reply": "2023-10-30T08:27:41.528906Z"
    },
    "papermill": {
     "duration": 2.145923,
     "end_time": "2023-10-30T08:27:41.533572",
     "exception": false,
     "start_time": "2023-10-30T08:27:39.387649",
     "status": "completed"
    },
    "tags": []
   },
   "outputs": [
    {
     "name": "stdout",
     "output_type": "stream",
     "text": [
      "Setup Complete\n"
     ]
    }
   ],
   "source": [
    "# Code you have previously used to load data\n",
    "import pandas as pd\n",
    "\n",
    "# Path of the file to read\n",
    "iowa_file_path = '../input/home-data-for-ml-course/train.csv'\n",
    "\n",
    "home_data = pd.read_csv(iowa_file_path)\n",
    "\n",
    "# Set up code checking\n",
    "from learntools.core import binder\n",
    "binder.bind(globals())\n",
    "from learntools.machine_learning.ex3 import *\n",
    "\n",
    "print(\"Setup Complete\")"
   ]
  },
  {
   "cell_type": "markdown",
   "id": "4c3b4ca5",
   "metadata": {
    "papermill": {
     "duration": 0.006893,
     "end_time": "2023-10-30T08:27:41.548124",
     "exception": false,
     "start_time": "2023-10-30T08:27:41.541231",
     "status": "completed"
    },
    "tags": []
   },
   "source": [
    "# Exercises\n",
    "\n",
    "## Step 1: Specify Prediction Target\n",
    "Select the target variable, which corresponds to the sales price. Save this to a new variable called `y`. You'll need to print a list of the columns to find the name of the column you need.\n"
   ]
  },
  {
   "cell_type": "code",
   "execution_count": 2,
   "id": "cc579305",
   "metadata": {
    "execution": {
     "iopub.execute_input": "2023-10-30T08:27:41.564078Z",
     "iopub.status.busy": "2023-10-30T08:27:41.563640Z",
     "iopub.status.idle": "2023-10-30T08:27:41.569073Z",
     "shell.execute_reply": "2023-10-30T08:27:41.567967Z"
    },
    "papermill": {
     "duration": 0.016529,
     "end_time": "2023-10-30T08:27:41.571568",
     "exception": false,
     "start_time": "2023-10-30T08:27:41.555039",
     "status": "completed"
    },
    "tags": []
   },
   "outputs": [],
   "source": [
    "# print the list of columns in the dataset to find the name of the prediction target\n"
   ]
  },
  {
   "cell_type": "code",
   "execution_count": 3,
   "id": "1aa51c16",
   "metadata": {
    "execution": {
     "iopub.execute_input": "2023-10-30T08:27:41.587320Z",
     "iopub.status.busy": "2023-10-30T08:27:41.586896Z",
     "iopub.status.idle": "2023-10-30T08:27:41.603551Z",
     "shell.execute_reply": "2023-10-30T08:27:41.602373Z"
    },
    "papermill": {
     "duration": 0.027556,
     "end_time": "2023-10-30T08:27:41.605992",
     "exception": false,
     "start_time": "2023-10-30T08:27:41.578436",
     "status": "completed"
    },
    "tags": []
   },
   "outputs": [
    {
     "data": {
      "application/javascript": [
       "parent.postMessage({\"jupyterEvent\": \"custom.exercise_interaction\", \"data\": {\"outcomeType\": 1, \"valueTowardsCompletion\": 0.25, \"interactionType\": 1, \"questionType\": 2, \"questionId\": \"1_SetTarget\", \"learnToolsVersion\": \"0.3.4\", \"failureMessage\": \"\", \"exceptionClass\": \"\", \"trace\": \"\"}}, \"*\")"
      ],
      "text/plain": [
       "<IPython.core.display.Javascript object>"
      ]
     },
     "metadata": {},
     "output_type": "display_data"
    },
    {
     "data": {
      "text/markdown": [
       "<span style=\"color:#33cc33\">Correct</span>"
      ],
      "text/plain": [
       "Correct"
      ]
     },
     "metadata": {},
     "output_type": "display_data"
    }
   ],
   "source": [
    "y = home_data['SalePrice']\n",
    "\n",
    "# Check your answer\n",
    "step_1.check()"
   ]
  },
  {
   "cell_type": "code",
   "execution_count": 4,
   "id": "e34ce201",
   "metadata": {
    "collapsed": true,
    "execution": {
     "iopub.execute_input": "2023-10-30T08:27:41.622053Z",
     "iopub.status.busy": "2023-10-30T08:27:41.621628Z",
     "iopub.status.idle": "2023-10-30T08:27:41.626743Z",
     "shell.execute_reply": "2023-10-30T08:27:41.625515Z"
    },
    "jupyter": {
     "outputs_hidden": true
    },
    "papermill": {
     "duration": 0.015955,
     "end_time": "2023-10-30T08:27:41.629121",
     "exception": false,
     "start_time": "2023-10-30T08:27:41.613166",
     "status": "completed"
    },
    "tags": []
   },
   "outputs": [],
   "source": [
    "# The lines below will show you a hint or the solution.\n",
    "# step_1.hint() \n",
    "# step_1.solution()"
   ]
  },
  {
   "cell_type": "markdown",
   "id": "c741c0c6",
   "metadata": {
    "papermill": {
     "duration": 0.006938,
     "end_time": "2023-10-30T08:27:41.643410",
     "exception": false,
     "start_time": "2023-10-30T08:27:41.636472",
     "status": "completed"
    },
    "tags": []
   },
   "source": [
    "## Step 2: Create X\n",
    "Now you will create a DataFrame called `X` holding the predictive features.\n",
    "\n",
    "Since you want only some columns from the original data, you'll first create a list with the names of the columns you want in `X`.\n",
    "\n",
    "You'll use just the following columns in the list (you can copy and paste the whole list to save some typing, though you'll still need to add quotes):\n",
    "  * LotArea\n",
    "  * YearBuilt\n",
    "  * 1stFlrSF\n",
    "  * 2ndFlrSF\n",
    "  * FullBath\n",
    "  * BedroomAbvGr\n",
    "  * TotRmsAbvGrd\n",
    "\n",
    "After you've created that list of features, use it to create the DataFrame that you'll use to fit the model."
   ]
  },
  {
   "cell_type": "code",
   "execution_count": 5,
   "id": "8e007292",
   "metadata": {
    "execution": {
     "iopub.execute_input": "2023-10-30T08:27:41.660345Z",
     "iopub.status.busy": "2023-10-30T08:27:41.659890Z",
     "iopub.status.idle": "2023-10-30T08:27:41.677098Z",
     "shell.execute_reply": "2023-10-30T08:27:41.676273Z"
    },
    "papermill": {
     "duration": 0.028292,
     "end_time": "2023-10-30T08:27:41.679487",
     "exception": false,
     "start_time": "2023-10-30T08:27:41.651195",
     "status": "completed"
    },
    "tags": []
   },
   "outputs": [
    {
     "data": {
      "application/javascript": [
       "parent.postMessage({\"jupyterEvent\": \"custom.exercise_interaction\", \"data\": {\"outcomeType\": 1, \"valueTowardsCompletion\": 0.25, \"interactionType\": 1, \"questionType\": 2, \"questionId\": \"2_SelectPredictionData\", \"learnToolsVersion\": \"0.3.4\", \"failureMessage\": \"\", \"exceptionClass\": \"\", \"trace\": \"\"}}, \"*\")"
      ],
      "text/plain": [
       "<IPython.core.display.Javascript object>"
      ]
     },
     "metadata": {},
     "output_type": "display_data"
    },
    {
     "data": {
      "text/markdown": [
       "<span style=\"color:#33cc33\">Correct</span>"
      ],
      "text/plain": [
       "Correct"
      ]
     },
     "metadata": {},
     "output_type": "display_data"
    }
   ],
   "source": [
    "# Create the list of features below\n",
    "feature_names = ['LotArea', 'YearBuilt', '1stFlrSF', '2ndFlrSF', 'FullBath', 'BedroomAbvGr' ,'TotRmsAbvGrd']\n",
    "\n",
    "# Select data corresponding to features in feature_names\n",
    "X = home_data[feature_names]\n",
    "\n",
    "# Check your answer\n",
    "step_2.check()"
   ]
  },
  {
   "cell_type": "code",
   "execution_count": 6,
   "id": "73a6be20",
   "metadata": {
    "collapsed": true,
    "execution": {
     "iopub.execute_input": "2023-10-30T08:27:41.696871Z",
     "iopub.status.busy": "2023-10-30T08:27:41.696088Z",
     "iopub.status.idle": "2023-10-30T08:27:41.701230Z",
     "shell.execute_reply": "2023-10-30T08:27:41.699959Z"
    },
    "jupyter": {
     "outputs_hidden": true
    },
    "papermill": {
     "duration": 0.016915,
     "end_time": "2023-10-30T08:27:41.703946",
     "exception": false,
     "start_time": "2023-10-30T08:27:41.687031",
     "status": "completed"
    },
    "tags": []
   },
   "outputs": [],
   "source": [
    "# step_2.hint()\n",
    "# step_2.solution()"
   ]
  },
  {
   "cell_type": "markdown",
   "id": "448dddca",
   "metadata": {
    "papermill": {
     "duration": 0.007811,
     "end_time": "2023-10-30T08:27:41.719846",
     "exception": false,
     "start_time": "2023-10-30T08:27:41.712035",
     "status": "completed"
    },
    "tags": []
   },
   "source": [
    "## Review Data\n",
    "Before building a model, take a quick look at **X** to verify it looks sensible"
   ]
  },
  {
   "cell_type": "code",
   "execution_count": 7,
   "id": "c77ae31c",
   "metadata": {
    "execution": {
     "iopub.execute_input": "2023-10-30T08:27:41.737375Z",
     "iopub.status.busy": "2023-10-30T08:27:41.736896Z",
     "iopub.status.idle": "2023-10-30T08:27:41.774511Z",
     "shell.execute_reply": "2023-10-30T08:27:41.773137Z"
    },
    "papermill": {
     "duration": 0.049339,
     "end_time": "2023-10-30T08:27:41.777069",
     "exception": false,
     "start_time": "2023-10-30T08:27:41.727730",
     "status": "completed"
    },
    "tags": []
   },
   "outputs": [
    {
     "name": "stdout",
     "output_type": "stream",
     "text": [
      "             LotArea    YearBuilt     1stFlrSF     2ndFlrSF     FullBath  \\\n",
      "count    1460.000000  1460.000000  1460.000000  1460.000000  1460.000000   \n",
      "mean    10516.828082  1971.267808  1162.626712   346.992466     1.565068   \n",
      "std      9981.264932    30.202904   386.587738   436.528436     0.550916   \n",
      "min      1300.000000  1872.000000   334.000000     0.000000     0.000000   \n",
      "25%      7553.500000  1954.000000   882.000000     0.000000     1.000000   \n",
      "50%      9478.500000  1973.000000  1087.000000     0.000000     2.000000   \n",
      "75%     11601.500000  2000.000000  1391.250000   728.000000     2.000000   \n",
      "max    215245.000000  2010.000000  4692.000000  2065.000000     3.000000   \n",
      "\n",
      "       BedroomAbvGr  TotRmsAbvGrd  \n",
      "count   1460.000000   1460.000000  \n",
      "mean       2.866438      6.517808  \n",
      "std        0.815778      1.625393  \n",
      "min        0.000000      2.000000  \n",
      "25%        2.000000      5.000000  \n",
      "50%        3.000000      6.000000  \n",
      "75%        3.000000      7.000000  \n",
      "max        8.000000     14.000000  \n",
      "   LotArea  YearBuilt  1stFlrSF  2ndFlrSF  FullBath  BedroomAbvGr  \\\n",
      "0     8450       2003       856       854         2             3   \n",
      "1     9600       1976      1262         0         2             3   \n",
      "2    11250       2001       920       866         2             3   \n",
      "3     9550       1915       961       756         1             3   \n",
      "4    14260       2000      1145      1053         2             4   \n",
      "\n",
      "   TotRmsAbvGrd  \n",
      "0             8  \n",
      "1             6  \n",
      "2             6  \n",
      "3             7  \n",
      "4             9  \n"
     ]
    }
   ],
   "source": [
    "# Review data\n",
    "# print description or statistics from X\n",
    "print(X.describe())\n",
    "\n",
    "# print the top few lines\n",
    "print(X.head())"
   ]
  },
  {
   "cell_type": "markdown",
   "id": "74c87352",
   "metadata": {
    "papermill": {
     "duration": 0.007491,
     "end_time": "2023-10-30T08:27:41.792464",
     "exception": false,
     "start_time": "2023-10-30T08:27:41.784973",
     "status": "completed"
    },
    "tags": []
   },
   "source": [
    "## Step 3: Specify and Fit Model\n",
    "Create a `DecisionTreeRegressor` and save it iowa_model. Ensure you've done the relevant import from sklearn to run this command.\n",
    "\n",
    "Then fit the model you just created using the data in `X` and `y` that you saved above."
   ]
  },
  {
   "cell_type": "code",
   "execution_count": 8,
   "id": "6a00d36f",
   "metadata": {
    "execution": {
     "iopub.execute_input": "2023-10-30T08:27:41.809768Z",
     "iopub.status.busy": "2023-10-30T08:27:41.809336Z",
     "iopub.status.idle": "2023-10-30T08:27:41.829540Z",
     "shell.execute_reply": "2023-10-30T08:27:41.828641Z"
    },
    "papermill": {
     "duration": 0.031966,
     "end_time": "2023-10-30T08:27:41.832140",
     "exception": false,
     "start_time": "2023-10-30T08:27:41.800174",
     "status": "completed"
    },
    "tags": []
   },
   "outputs": [
    {
     "data": {
      "application/javascript": [
       "parent.postMessage({\"jupyterEvent\": \"custom.exercise_interaction\", \"data\": {\"outcomeType\": 1, \"valueTowardsCompletion\": 0.25, \"interactionType\": 1, \"questionType\": 2, \"questionId\": \"3_CreateModel\", \"learnToolsVersion\": \"0.3.4\", \"failureMessage\": \"\", \"exceptionClass\": \"\", \"trace\": \"\"}}, \"*\")"
      ],
      "text/plain": [
       "<IPython.core.display.Javascript object>"
      ]
     },
     "metadata": {},
     "output_type": "display_data"
    },
    {
     "data": {
      "text/markdown": [
       "<span style=\"color:#33cc33\">Correct</span>"
      ],
      "text/plain": [
       "Correct"
      ]
     },
     "metadata": {},
     "output_type": "display_data"
    }
   ],
   "source": [
    "from sklearn.tree import DecisionTreeRegressor\n",
    "#specify the model. \n",
    "#For model reproducibility, set a numeric value for random_state when specifying the model\n",
    "iowa_model = DecisionTreeRegressor(random_state=0)\n",
    "\n",
    "# Fit the model\n",
    "iowa_model.fit(X,y)\n",
    "\n",
    "# Check your answer\n",
    "step_3.check()"
   ]
  },
  {
   "cell_type": "code",
   "execution_count": 9,
   "id": "7b6a8a6a",
   "metadata": {
    "collapsed": true,
    "execution": {
     "iopub.execute_input": "2023-10-30T08:27:41.851220Z",
     "iopub.status.busy": "2023-10-30T08:27:41.850791Z",
     "iopub.status.idle": "2023-10-30T08:27:41.855077Z",
     "shell.execute_reply": "2023-10-30T08:27:41.854125Z"
    },
    "jupyter": {
     "outputs_hidden": true
    },
    "papermill": {
     "duration": 0.016603,
     "end_time": "2023-10-30T08:27:41.857594",
     "exception": false,
     "start_time": "2023-10-30T08:27:41.840991",
     "status": "completed"
    },
    "tags": []
   },
   "outputs": [],
   "source": [
    "# step_3.hint()\n",
    "# step_3.solution()"
   ]
  },
  {
   "cell_type": "markdown",
   "id": "fbb88531",
   "metadata": {
    "papermill": {
     "duration": 0.007952,
     "end_time": "2023-10-30T08:27:41.873842",
     "exception": false,
     "start_time": "2023-10-30T08:27:41.865890",
     "status": "completed"
    },
    "tags": []
   },
   "source": [
    "## Step 4: Make Predictions\n",
    "Make predictions with the model's `predict` command using `X` as the data. Save the results to a variable called `predictions`."
   ]
  },
  {
   "cell_type": "code",
   "execution_count": 10,
   "id": "b4457b2b",
   "metadata": {
    "execution": {
     "iopub.execute_input": "2023-10-30T08:27:41.892196Z",
     "iopub.status.busy": "2023-10-30T08:27:41.891766Z",
     "iopub.status.idle": "2023-10-30T08:27:41.906151Z",
     "shell.execute_reply": "2023-10-30T08:27:41.905279Z"
    },
    "papermill": {
     "duration": 0.026354,
     "end_time": "2023-10-30T08:27:41.908373",
     "exception": false,
     "start_time": "2023-10-30T08:27:41.882019",
     "status": "completed"
    },
    "tags": []
   },
   "outputs": [
    {
     "name": "stdout",
     "output_type": "stream",
     "text": [
      "[208500. 181500. 223500. ... 266500. 142125. 147500.]\n"
     ]
    },
    {
     "data": {
      "application/javascript": [
       "parent.postMessage({\"jupyterEvent\": \"custom.exercise_interaction\", \"data\": {\"outcomeType\": 1, \"valueTowardsCompletion\": 0.25, \"interactionType\": 1, \"questionType\": 2, \"questionId\": \"4_MakePredictions\", \"learnToolsVersion\": \"0.3.4\", \"failureMessage\": \"\", \"exceptionClass\": \"\", \"trace\": \"\"}}, \"*\")"
      ],
      "text/plain": [
       "<IPython.core.display.Javascript object>"
      ]
     },
     "metadata": {},
     "output_type": "display_data"
    },
    {
     "data": {
      "text/markdown": [
       "<span style=\"color:#33cc33\">Correct</span>"
      ],
      "text/plain": [
       "Correct"
      ]
     },
     "metadata": {},
     "output_type": "display_data"
    }
   ],
   "source": [
    "predictions = iowa_model.predict(X)\n",
    "print(predictions)\n",
    "\n",
    "# Check your answer\n",
    "step_4.check()"
   ]
  },
  {
   "cell_type": "code",
   "execution_count": 11,
   "id": "ad701e78",
   "metadata": {
    "collapsed": true,
    "execution": {
     "iopub.execute_input": "2023-10-30T08:27:41.928074Z",
     "iopub.status.busy": "2023-10-30T08:27:41.927619Z",
     "iopub.status.idle": "2023-10-30T08:27:41.932734Z",
     "shell.execute_reply": "2023-10-30T08:27:41.931533Z"
    },
    "jupyter": {
     "outputs_hidden": true
    },
    "papermill": {
     "duration": 0.018299,
     "end_time": "2023-10-30T08:27:41.935330",
     "exception": false,
     "start_time": "2023-10-30T08:27:41.917031",
     "status": "completed"
    },
    "tags": []
   },
   "outputs": [],
   "source": [
    "# step_4.hint()\n",
    "# step_4.solution()"
   ]
  },
  {
   "cell_type": "markdown",
   "id": "1989e567",
   "metadata": {
    "papermill": {
     "duration": 0.008455,
     "end_time": "2023-10-30T08:27:41.952512",
     "exception": false,
     "start_time": "2023-10-30T08:27:41.944057",
     "status": "completed"
    },
    "tags": []
   },
   "source": [
    "## Think About Your Results\n",
    "\n",
    "Use the `head` method to compare the top few predictions to the actual home values (in `y`) for those same homes. Anything surprising?\n"
   ]
  },
  {
   "cell_type": "code",
   "execution_count": 12,
   "id": "03cbf9b6",
   "metadata": {
    "execution": {
     "iopub.execute_input": "2023-10-30T08:27:41.972122Z",
     "iopub.status.busy": "2023-10-30T08:27:41.971354Z",
     "iopub.status.idle": "2023-10-30T08:27:41.976699Z",
     "shell.execute_reply": "2023-10-30T08:27:41.975506Z"
    },
    "papermill": {
     "duration": 0.017821,
     "end_time": "2023-10-30T08:27:41.979005",
     "exception": false,
     "start_time": "2023-10-30T08:27:41.961184",
     "status": "completed"
    },
    "tags": []
   },
   "outputs": [],
   "source": [
    "# You can write code in this cell\n"
   ]
  },
  {
   "cell_type": "markdown",
   "id": "a7cb3a8c",
   "metadata": {
    "papermill": {
     "duration": 0.008444,
     "end_time": "2023-10-30T08:27:41.996207",
     "exception": false,
     "start_time": "2023-10-30T08:27:41.987763",
     "status": "completed"
    },
    "tags": []
   },
   "source": [
    "It's natural to ask how accurate the model's predictions will be and how you can improve that. That will be you're next step.\n",
    "\n",
    "# Keep Going\n",
    "\n",
    "You are ready for **[Model Validation](https://www.kaggle.com/dansbecker/model-validation).**\n"
   ]
  },
  {
   "cell_type": "markdown",
   "id": "f697fab9",
   "metadata": {
    "papermill": {
     "duration": 0.008664,
     "end_time": "2023-10-30T08:27:42.013610",
     "exception": false,
     "start_time": "2023-10-30T08:27:42.004946",
     "status": "completed"
    },
    "tags": []
   },
   "source": [
    "---\n",
    "\n",
    "\n",
    "\n",
    "\n",
    "*Have questions or comments? Visit the [course discussion forum](https://www.kaggle.com/learn/intro-to-machine-learning/discussion) to chat with other learners.*"
   ]
  }
 ],
 "metadata": {
  "kernelspec": {
   "display_name": "Python 3",
   "language": "python",
   "name": "python3"
  },
  "language_info": {
   "codemirror_mode": {
    "name": "ipython",
    "version": 3
   },
   "file_extension": ".py",
   "mimetype": "text/x-python",
   "name": "python",
   "nbconvert_exporter": "python",
   "pygments_lexer": "ipython3",
   "version": "3.10.12"
  },
  "papermill": {
   "default_parameters": {},
   "duration": 6.96211,
   "end_time": "2023-10-30T08:27:42.644769",
   "environment_variables": {},
   "exception": null,
   "input_path": "__notebook__.ipynb",
   "output_path": "__notebook__.ipynb",
   "parameters": {},
   "start_time": "2023-10-30T08:27:35.682659",
   "version": "2.4.0"
  }
 },
 "nbformat": 4,
 "nbformat_minor": 5
}

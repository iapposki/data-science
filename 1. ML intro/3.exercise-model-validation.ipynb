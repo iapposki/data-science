{
 "cells": [
  {
   "cell_type": "markdown",
   "id": "abb873ae",
   "metadata": {
    "papermill": {
     "duration": 0.003879,
     "end_time": "2023-11-03T10:05:07.062343",
     "exception": false,
     "start_time": "2023-11-03T10:05:07.058464",
     "status": "completed"
    },
    "tags": []
   },
   "source": [
    "**This notebook is an exercise in the [Introduction to Machine Learning](https://www.kaggle.com/learn/intro-to-machine-learning) course.  You can reference the tutorial at [this link](https://www.kaggle.com/dansbecker/model-validation).**\n",
    "\n",
    "---\n"
   ]
  },
  {
   "cell_type": "markdown",
   "id": "716a6bea",
   "metadata": {
    "papermill": {
     "duration": 0.003201,
     "end_time": "2023-11-03T10:05:07.070202",
     "exception": false,
     "start_time": "2023-11-03T10:05:07.067001",
     "status": "completed"
    },
    "tags": []
   },
   "source": [
    "## Recap\n",
    "You've built a model. In this exercise you will test how good your model is.\n",
    "\n",
    "Run the cell below to set up your coding environment where the previous exercise left off."
   ]
  },
  {
   "cell_type": "code",
   "execution_count": 1,
   "id": "4d37aa89",
   "metadata": {
    "execution": {
     "iopub.execute_input": "2023-11-03T10:05:07.078506Z",
     "iopub.status.busy": "2023-11-03T10:05:07.077964Z",
     "iopub.status.idle": "2023-11-03T10:05:08.540857Z",
     "shell.execute_reply": "2023-11-03T10:05:08.539311Z"
    },
    "papermill": {
     "duration": 1.469088,
     "end_time": "2023-11-03T10:05:08.542594",
     "exception": false,
     "start_time": "2023-11-03T10:05:07.073506",
     "status": "completed"
    },
    "tags": []
   },
   "outputs": [
    {
     "name": "stdout",
     "output_type": "stream",
     "text": [
      "First in-sample predictions: [208500. 181500. 223500. 140000. 250000.]\n",
      "Actual target values for those homes: [208500, 181500, 223500, 140000, 250000]\n",
      "Setup Complete\n"
     ]
    }
   ],
   "source": [
    "# Code you have previously used to load data\n",
    "import pandas as pd\n",
    "from sklearn.tree import DecisionTreeRegressor\n",
    "\n",
    "# Path of the file to read\n",
    "iowa_file_path = '../input/home-data-for-ml-course/train.csv'\n",
    "\n",
    "home_data = pd.read_csv(iowa_file_path)\n",
    "y = home_data.SalePrice\n",
    "feature_columns = ['LotArea', 'YearBuilt', '1stFlrSF', '2ndFlrSF', 'FullBath', 'BedroomAbvGr', 'TotRmsAbvGrd']\n",
    "X = home_data[feature_columns]\n",
    "\n",
    "# Specify Model\n",
    "iowa_model = DecisionTreeRegressor()\n",
    "# Fit Model\n",
    "iowa_model.fit(X, y)\n",
    "\n",
    "print(\"First in-sample predictions:\", iowa_model.predict(X.head()))\n",
    "print(\"Actual target values for those homes:\", y.head().tolist())\n",
    "\n",
    "# Set up code checking\n",
    "from learntools.core import binder\n",
    "binder.bind(globals())\n",
    "from learntools.machine_learning.ex4 import *\n",
    "print(\"Setup Complete\")"
   ]
  },
  {
   "cell_type": "markdown",
   "id": "a5e852a1",
   "metadata": {
    "papermill": {
     "duration": 0.003321,
     "end_time": "2023-11-03T10:05:08.550445",
     "exception": false,
     "start_time": "2023-11-03T10:05:08.547124",
     "status": "completed"
    },
    "tags": []
   },
   "source": [
    "# Exercises\n",
    "\n",
    "## Step 1: Split Your Data\n",
    "Use the `train_test_split` function to split up your data.\n",
    "\n",
    "Give it the argument `random_state=1` so the `check` functions know what to expect when verifying your code.\n",
    "\n",
    "Recall, your features are loaded in the DataFrame **X** and your target is loaded in **y**.\n"
   ]
  },
  {
   "cell_type": "code",
   "execution_count": 2,
   "id": "47af5c3a",
   "metadata": {
    "execution": {
     "iopub.execute_input": "2023-11-03T10:05:08.558644Z",
     "iopub.status.busy": "2023-11-03T10:05:08.558413Z",
     "iopub.status.idle": "2023-11-03T10:05:08.567418Z",
     "shell.execute_reply": "2023-11-03T10:05:08.566866Z"
    },
    "papermill": {
     "duration": 0.01485,
     "end_time": "2023-11-03T10:05:08.568859",
     "exception": false,
     "start_time": "2023-11-03T10:05:08.554009",
     "status": "completed"
    },
    "tags": []
   },
   "outputs": [
    {
     "data": {
      "application/javascript": [
       "parent.postMessage({\"jupyterEvent\": \"custom.exercise_interaction\", \"data\": {\"outcomeType\": 1, \"valueTowardsCompletion\": 0.25, \"interactionType\": 1, \"questionType\": 2, \"questionId\": \"1_SplitData\", \"learnToolsVersion\": \"0.3.4\", \"failureMessage\": \"\", \"exceptionClass\": \"\", \"trace\": \"\"}}, \"*\")"
      ],
      "text/plain": [
       "<IPython.core.display.Javascript object>"
      ]
     },
     "metadata": {},
     "output_type": "display_data"
    },
    {
     "data": {
      "text/markdown": [
       "<span style=\"color:#33cc33\">Correct</span>"
      ],
      "text/plain": [
       "Correct"
      ]
     },
     "metadata": {},
     "output_type": "display_data"
    }
   ],
   "source": [
    "# Import the train_test_split function and uncomment\n",
    "from sklearn.model_selection import train_test_split\n",
    "\n",
    "# fill in and uncomment\n",
    "train_X, val_X, train_y, val_y = train_test_split(X, y, random_state=1)\n",
    "\n",
    "# Check your answer\n",
    "step_1.check()"
   ]
  },
  {
   "cell_type": "code",
   "execution_count": 3,
   "id": "2b60d4de",
   "metadata": {
    "execution": {
     "iopub.execute_input": "2023-11-03T10:05:08.577576Z",
     "iopub.status.busy": "2023-11-03T10:05:08.577170Z",
     "iopub.status.idle": "2023-11-03T10:05:08.579896Z",
     "shell.execute_reply": "2023-11-03T10:05:08.579380Z"
    },
    "papermill": {
     "duration": 0.008624,
     "end_time": "2023-11-03T10:05:08.581311",
     "exception": false,
     "start_time": "2023-11-03T10:05:08.572687",
     "status": "completed"
    },
    "tags": []
   },
   "outputs": [],
   "source": [
    "# The lines below will show you a hint or the solution.\n",
    "# step_1.hint() \n",
    "# step_1.solution()\n"
   ]
  },
  {
   "cell_type": "markdown",
   "id": "a283c020",
   "metadata": {
    "papermill": {
     "duration": 0.003514,
     "end_time": "2023-11-03T10:05:08.588528",
     "exception": false,
     "start_time": "2023-11-03T10:05:08.585014",
     "status": "completed"
    },
    "tags": []
   },
   "source": [
    "## Step 2: Specify and Fit the Model\n",
    "\n",
    "Create a `DecisionTreeRegressor` model and fit it to the relevant data.\n",
    "Set `random_state` to 1 again when creating the model."
   ]
  },
  {
   "cell_type": "code",
   "execution_count": 4,
   "id": "5459a6f5",
   "metadata": {
    "execution": {
     "iopub.execute_input": "2023-11-03T10:05:08.597118Z",
     "iopub.status.busy": "2023-11-03T10:05:08.596679Z",
     "iopub.status.idle": "2023-11-03T10:05:08.616999Z",
     "shell.execute_reply": "2023-11-03T10:05:08.616460Z"
    },
    "papermill": {
     "duration": 0.026263,
     "end_time": "2023-11-03T10:05:08.618517",
     "exception": false,
     "start_time": "2023-11-03T10:05:08.592254",
     "status": "completed"
    },
    "tags": []
   },
   "outputs": [
    {
     "name": "stdout",
     "output_type": "stream",
     "text": [
      "[186500. 184000. 130000.  92000. 164500. 220000. 335000. 144152. 215000.\n",
      " 262000.]\n",
      "[186500. 184000. 130000.  92000. 164500. 220000. 335000. 144152. 215000.\n",
      " 262000.]\n"
     ]
    },
    {
     "data": {
      "application/javascript": [
       "parent.postMessage({\"jupyterEvent\": \"custom.exercise_interaction\", \"data\": {\"outcomeType\": 1, \"valueTowardsCompletion\": 0.25, \"interactionType\": 1, \"questionType\": 2, \"questionId\": \"2_FitModelWithTrain\", \"learnToolsVersion\": \"0.3.4\", \"failureMessage\": \"\", \"exceptionClass\": \"\", \"trace\": \"\"}}, \"*\")"
      ],
      "text/plain": [
       "<IPython.core.display.Javascript object>"
      ]
     },
     "metadata": {},
     "output_type": "display_data"
    },
    {
     "data": {
      "text/markdown": [
       "<span style=\"color:#33cc33\">Correct</span>"
      ],
      "text/plain": [
       "Correct"
      ]
     },
     "metadata": {},
     "output_type": "display_data"
    }
   ],
   "source": [
    "# You imported DecisionTreeRegressor in your last exercise\n",
    "# and that code has been copied to the setup code above. So, no need to\n",
    "# import it again\n",
    "\n",
    "# Specify the model\n",
    "iowa_model = DecisionTreeRegressor(random_state=1)\n",
    "\n",
    "# Fit iowa_model with the training data.\n",
    "iowa_model.fit(train_X, train_y)\n",
    "\n",
    "# Check your answer\n",
    "step_2.check()"
   ]
  },
  {
   "cell_type": "code",
   "execution_count": 5,
   "id": "24499fc7",
   "metadata": {
    "execution": {
     "iopub.execute_input": "2023-11-03T10:05:08.628220Z",
     "iopub.status.busy": "2023-11-03T10:05:08.627498Z",
     "iopub.status.idle": "2023-11-03T10:05:08.633899Z",
     "shell.execute_reply": "2023-11-03T10:05:08.633254Z"
    },
    "papermill": {
     "duration": 0.012635,
     "end_time": "2023-11-03T10:05:08.635456",
     "exception": false,
     "start_time": "2023-11-03T10:05:08.622821",
     "status": "completed"
    },
    "tags": []
   },
   "outputs": [
    {
     "data": {
      "application/javascript": [
       "parent.postMessage({\"jupyterEvent\": \"custom.exercise_interaction\", \"data\": {\"interactionType\": 3, \"questionType\": 2, \"questionId\": \"2_FitModelWithTrain\", \"learnToolsVersion\": \"0.3.4\", \"valueTowardsCompletion\": 0.0, \"failureMessage\": \"\", \"exceptionClass\": \"\", \"trace\": \"\", \"outcomeType\": 4}}, \"*\")"
      ],
      "text/plain": [
       "<IPython.core.display.Javascript object>"
      ]
     },
     "metadata": {},
     "output_type": "display_data"
    },
    {
     "data": {
      "text/markdown": [
       "<span style=\"color:#33cc99\">Solution:</span> \n",
       "```python\n",
       "iowa_model = DecisionTreeRegressor(random_state=1)\n",
       "iowa_model.fit(train_X, train_y)\n",
       "```"
      ],
      "text/plain": [
       "Solution: \n",
       "```python\n",
       "iowa_model = DecisionTreeRegressor(random_state=1)\n",
       "iowa_model.fit(train_X, train_y)\n",
       "```"
      ]
     },
     "metadata": {},
     "output_type": "display_data"
    }
   ],
   "source": [
    "# step_2.hint()\n",
    "step_2.solution()"
   ]
  },
  {
   "cell_type": "markdown",
   "id": "58f6276f",
   "metadata": {
    "papermill": {
     "duration": 0.004017,
     "end_time": "2023-11-03T10:05:08.643705",
     "exception": false,
     "start_time": "2023-11-03T10:05:08.639688",
     "status": "completed"
    },
    "tags": []
   },
   "source": [
    "## Step 3: Make Predictions with Validation data\n"
   ]
  },
  {
   "cell_type": "code",
   "execution_count": 6,
   "id": "06d5d857",
   "metadata": {
    "execution": {
     "iopub.execute_input": "2023-11-03T10:05:08.652903Z",
     "iopub.status.busy": "2023-11-03T10:05:08.652670Z",
     "iopub.status.idle": "2023-11-03T10:05:08.660544Z",
     "shell.execute_reply": "2023-11-03T10:05:08.659978Z"
    },
    "papermill": {
     "duration": 0.014054,
     "end_time": "2023-11-03T10:05:08.661935",
     "exception": false,
     "start_time": "2023-11-03T10:05:08.647881",
     "status": "completed"
    },
    "tags": []
   },
   "outputs": [
    {
     "data": {
      "application/javascript": [
       "parent.postMessage({\"jupyterEvent\": \"custom.exercise_interaction\", \"data\": {\"outcomeType\": 1, \"valueTowardsCompletion\": 0.25, \"interactionType\": 1, \"questionType\": 2, \"questionId\": \"3_ValPreds\", \"learnToolsVersion\": \"0.3.4\", \"failureMessage\": \"\", \"exceptionClass\": \"\", \"trace\": \"\"}}, \"*\")"
      ],
      "text/plain": [
       "<IPython.core.display.Javascript object>"
      ]
     },
     "metadata": {},
     "output_type": "display_data"
    },
    {
     "data": {
      "text/markdown": [
       "<span style=\"color:#33cc33\">Correct</span>"
      ],
      "text/plain": [
       "Correct"
      ]
     },
     "metadata": {},
     "output_type": "display_data"
    }
   ],
   "source": [
    "# Predict with all validation observations\n",
    "val_predictions = iowa_model.predict(val_X)\n",
    "\n",
    "# Check your answer\n",
    "step_3.check()"
   ]
  },
  {
   "cell_type": "code",
   "execution_count": 7,
   "id": "9f30b6be",
   "metadata": {
    "execution": {
     "iopub.execute_input": "2023-11-03T10:05:08.672962Z",
     "iopub.status.busy": "2023-11-03T10:05:08.672665Z",
     "iopub.status.idle": "2023-11-03T10:05:08.676472Z",
     "shell.execute_reply": "2023-11-03T10:05:08.675674Z"
    },
    "papermill": {
     "duration": 0.012035,
     "end_time": "2023-11-03T10:05:08.678321",
     "exception": false,
     "start_time": "2023-11-03T10:05:08.666286",
     "status": "completed"
    },
    "tags": []
   },
   "outputs": [],
   "source": [
    "# step_3.hint()\n",
    "# step_3.solution()"
   ]
  },
  {
   "cell_type": "markdown",
   "id": "42e6618e",
   "metadata": {
    "papermill": {
     "duration": 0.00441,
     "end_time": "2023-11-03T10:05:08.687388",
     "exception": false,
     "start_time": "2023-11-03T10:05:08.682978",
     "status": "completed"
    },
    "tags": []
   },
   "source": [
    "Inspect your predictions and actual values from validation data."
   ]
  },
  {
   "cell_type": "code",
   "execution_count": 8,
   "id": "fdd32498",
   "metadata": {
    "execution": {
     "iopub.execute_input": "2023-11-03T10:05:08.697014Z",
     "iopub.status.busy": "2023-11-03T10:05:08.696775Z",
     "iopub.status.idle": "2023-11-03T10:05:08.701534Z",
     "shell.execute_reply": "2023-11-03T10:05:08.700732Z"
    },
    "papermill": {
     "duration": 0.011517,
     "end_time": "2023-11-03T10:05:08.703203",
     "exception": false,
     "start_time": "2023-11-03T10:05:08.691686",
     "status": "completed"
    },
    "tags": []
   },
   "outputs": [
    {
     "name": "stdout",
     "output_type": "stream",
     "text": [
      "[186500. 184000. 130000.  92000. 164500.]\n",
      "258     231500\n",
      "267     179500\n",
      "288     122000\n",
      "649      84500\n",
      "1233    142000\n",
      "Name: SalePrice, dtype: int64\n"
     ]
    }
   ],
   "source": [
    "# print the top few validation predictions\n",
    "print(val_predictions[:5])\n",
    "# print the top few actual prices from validation data\n",
    "print(val_y[:5])"
   ]
  },
  {
   "cell_type": "markdown",
   "id": "56d9ba28",
   "metadata": {
    "papermill": {
     "duration": 0.004188,
     "end_time": "2023-11-03T10:05:08.711826",
     "exception": false,
     "start_time": "2023-11-03T10:05:08.707638",
     "status": "completed"
    },
    "tags": []
   },
   "source": [
    "What do you notice that is different from what you saw with in-sample predictions (which are printed after the top code cell in this page).\n",
    "\n",
    "Do you remember why validation predictions differ from in-sample (or training) predictions? This is an important idea from the last lesson.\n",
    "\n",
    "## Step 4: Calculate the Mean Absolute Error in Validation Data\n"
   ]
  },
  {
   "cell_type": "code",
   "execution_count": 9,
   "id": "e70f55cb",
   "metadata": {
    "execution": {
     "iopub.execute_input": "2023-11-03T10:05:08.721896Z",
     "iopub.status.busy": "2023-11-03T10:05:08.721461Z",
     "iopub.status.idle": "2023-11-03T10:05:08.728546Z",
     "shell.execute_reply": "2023-11-03T10:05:08.727960Z"
    },
    "papermill": {
     "duration": 0.013795,
     "end_time": "2023-11-03T10:05:08.730110",
     "exception": false,
     "start_time": "2023-11-03T10:05:08.716315",
     "status": "completed"
    },
    "tags": []
   },
   "outputs": [
    {
     "data": {
      "application/javascript": [
       "parent.postMessage({\"jupyterEvent\": \"custom.exercise_interaction\", \"data\": {\"outcomeType\": 1, \"valueTowardsCompletion\": 0.25, \"interactionType\": 1, \"questionType\": 1, \"questionId\": \"4_MAE\", \"learnToolsVersion\": \"0.3.4\", \"failureMessage\": \"\", \"exceptionClass\": \"\", \"trace\": \"\"}}, \"*\")"
      ],
      "text/plain": [
       "<IPython.core.display.Javascript object>"
      ]
     },
     "metadata": {},
     "output_type": "display_data"
    },
    {
     "data": {
      "text/markdown": [
       "<span style=\"color:#33cc33\">Correct</span>"
      ],
      "text/plain": [
       "Correct"
      ]
     },
     "metadata": {},
     "output_type": "display_data"
    }
   ],
   "source": [
    "from sklearn.metrics import mean_absolute_error\n",
    "val_mae = mean_absolute_error(val_predictions, val_y)\n",
    "\n",
    "# uncomment following line to see the validation_mae\n",
    "#print(val_mae)\n",
    "\n",
    "# Check your answer\n",
    "step_4.check()"
   ]
  },
  {
   "cell_type": "code",
   "execution_count": 10,
   "id": "d46d86b8",
   "metadata": {
    "execution": {
     "iopub.execute_input": "2023-11-03T10:05:08.740868Z",
     "iopub.status.busy": "2023-11-03T10:05:08.740278Z",
     "iopub.status.idle": "2023-11-03T10:05:08.743743Z",
     "shell.execute_reply": "2023-11-03T10:05:08.743183Z"
    },
    "papermill": {
     "duration": 0.010505,
     "end_time": "2023-11-03T10:05:08.745332",
     "exception": false,
     "start_time": "2023-11-03T10:05:08.734827",
     "status": "completed"
    },
    "tags": []
   },
   "outputs": [],
   "source": [
    "# step_4.hint()\n",
    "# step_4.solution()"
   ]
  },
  {
   "cell_type": "markdown",
   "id": "6133d397",
   "metadata": {
    "papermill": {
     "duration": 0.00451,
     "end_time": "2023-11-03T10:05:08.754582",
     "exception": false,
     "start_time": "2023-11-03T10:05:08.750072",
     "status": "completed"
    },
    "tags": []
   },
   "source": [
    "Is that MAE good?  There isn't a general rule for what values are good that applies across applications. But you'll see how to use (and improve) this number in the next step.\n",
    "\n",
    "# Keep Going\n",
    "\n",
    "You are ready for **[Underfitting and Overfitting](https://www.kaggle.com/dansbecker/underfitting-and-overfitting).**\n"
   ]
  },
  {
   "cell_type": "markdown",
   "id": "006a012f",
   "metadata": {
    "papermill": {
     "duration": 0.004445,
     "end_time": "2023-11-03T10:05:08.763667",
     "exception": false,
     "start_time": "2023-11-03T10:05:08.759222",
     "status": "completed"
    },
    "tags": []
   },
   "source": [
    "---\n",
    "\n",
    "\n",
    "\n",
    "\n",
    "*Have questions or comments? Visit the [course discussion forum](https://www.kaggle.com/learn/intro-to-machine-learning/discussion) to chat with other learners.*"
   ]
  }
 ],
 "metadata": {
  "kernelspec": {
   "display_name": "Python 3",
   "language": "python",
   "name": "python3"
  },
  "language_info": {
   "codemirror_mode": {
    "name": "ipython",
    "version": 3
   },
   "file_extension": ".py",
   "mimetype": "text/x-python",
   "name": "python",
   "nbconvert_exporter": "python",
   "pygments_lexer": "ipython3",
   "version": "3.10.12"
  },
  "papermill": {
   "default_parameters": {},
   "duration": 4.506885,
   "end_time": "2023-11-03T10:05:09.185506",
   "environment_variables": {},
   "exception": null,
   "input_path": "__notebook__.ipynb",
   "output_path": "__notebook__.ipynb",
   "parameters": {},
   "start_time": "2023-11-03T10:05:04.678621",
   "version": "2.4.0"
  }
 },
 "nbformat": 4,
 "nbformat_minor": 5
}

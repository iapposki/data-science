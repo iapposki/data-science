{
 "cells": [
  {
   "cell_type": "markdown",
   "id": "405af0de",
   "metadata": {
    "papermill": {
     "duration": 0.004935,
     "end_time": "2023-11-06T07:21:47.921499",
     "exception": false,
     "start_time": "2023-11-06T07:21:47.916564",
     "status": "completed"
    },
    "tags": []
   },
   "source": [
    "**This notebook is an exercise in the [Introduction to Machine Learning](https://www.kaggle.com/learn/intro-to-machine-learning) course.  You can reference the tutorial at [this link](https://www.kaggle.com/dansbecker/underfitting-and-overfitting).**\n",
    "\n",
    "---\n"
   ]
  },
  {
   "cell_type": "markdown",
   "id": "c0e53b4e",
   "metadata": {
    "papermill": {
     "duration": 0.00446,
     "end_time": "2023-11-06T07:21:47.932377",
     "exception": false,
     "start_time": "2023-11-06T07:21:47.927917",
     "status": "completed"
    },
    "tags": []
   },
   "source": [
    "## Recap\n",
    "You've built your first model, and now it's time to optimize the size of the tree to make better predictions. Run this cell to set up your coding environment where the previous step left off."
   ]
  },
  {
   "cell_type": "code",
   "execution_count": 1,
   "id": "7e1d6337",
   "metadata": {
    "execution": {
     "iopub.execute_input": "2023-11-06T07:21:47.943637Z",
     "iopub.status.busy": "2023-11-06T07:21:47.943108Z",
     "iopub.status.idle": "2023-11-06T07:21:50.493491Z",
     "shell.execute_reply": "2023-11-06T07:21:50.492194Z"
    },
    "papermill": {
     "duration": 2.559981,
     "end_time": "2023-11-06T07:21:50.496673",
     "exception": false,
     "start_time": "2023-11-06T07:21:47.936692",
     "status": "completed"
    },
    "tags": []
   },
   "outputs": [
    {
     "name": "stdout",
     "output_type": "stream",
     "text": [
      "Validation MAE: 29,653\n",
      "\n",
      "Setup complete\n"
     ]
    }
   ],
   "source": [
    "# Code you have previously used to load data\n",
    "import pandas as pd\n",
    "from sklearn.metrics import mean_absolute_error\n",
    "from sklearn.model_selection import train_test_split\n",
    "from sklearn.tree import DecisionTreeRegressor\n",
    "\n",
    "\n",
    "# Path of the file to read\n",
    "iowa_file_path = '../input/home-data-for-ml-course/train.csv'\n",
    "\n",
    "home_data = pd.read_csv(iowa_file_path)\n",
    "# Create target object and call it y\n",
    "y = home_data.SalePrice\n",
    "# Create X\n",
    "features = ['LotArea', 'YearBuilt', '1stFlrSF', '2ndFlrSF', 'FullBath', 'BedroomAbvGr', 'TotRmsAbvGrd']\n",
    "X = home_data[features]\n",
    "\n",
    "# Split into validation and training data\n",
    "train_X, val_X, train_y, val_y = train_test_split(X, y, random_state=1)\n",
    "\n",
    "# Specify Model\n",
    "iowa_model = DecisionTreeRegressor(random_state=1)\n",
    "# Fit Model\n",
    "iowa_model.fit(train_X, train_y)\n",
    "\n",
    "# Make validation predictions and calculate mean absolute error\n",
    "val_predictions = iowa_model.predict(val_X)\n",
    "val_mae = mean_absolute_error(val_predictions, val_y)\n",
    "print(\"Validation MAE: {:,.0f}\".format(val_mae))\n",
    "\n",
    "# Set up code checking\n",
    "from learntools.core import binder\n",
    "binder.bind(globals())\n",
    "from learntools.machine_learning.ex5 import *\n",
    "print(\"\\nSetup complete\")"
   ]
  },
  {
   "cell_type": "markdown",
   "id": "3d8edd03",
   "metadata": {
    "papermill": {
     "duration": 0.006841,
     "end_time": "2023-11-06T07:21:50.509197",
     "exception": false,
     "start_time": "2023-11-06T07:21:50.502356",
     "status": "completed"
    },
    "tags": []
   },
   "source": [
    "# Exercises\n",
    "You could write the function `get_mae` yourself. For now, we'll supply it. This is the same function you read about in the previous lesson. Just run the cell below."
   ]
  },
  {
   "cell_type": "code",
   "execution_count": 2,
   "id": "fa48995b",
   "metadata": {
    "execution": {
     "iopub.execute_input": "2023-11-06T07:21:50.525936Z",
     "iopub.status.busy": "2023-11-06T07:21:50.525181Z",
     "iopub.status.idle": "2023-11-06T07:21:50.533535Z",
     "shell.execute_reply": "2023-11-06T07:21:50.531978Z"
    },
    "papermill": {
     "duration": 0.022086,
     "end_time": "2023-11-06T07:21:50.538167",
     "exception": false,
     "start_time": "2023-11-06T07:21:50.516081",
     "status": "completed"
    },
    "tags": []
   },
   "outputs": [],
   "source": [
    "def get_mae(max_leaf_nodes, train_X, val_X, train_y, val_y):\n",
    "    model = DecisionTreeRegressor(max_leaf_nodes=max_leaf_nodes, random_state=0)\n",
    "    model.fit(train_X, train_y)\n",
    "    preds_val = model.predict(val_X)\n",
    "    mae = mean_absolute_error(val_y, preds_val)\n",
    "    return(mae)"
   ]
  },
  {
   "cell_type": "markdown",
   "id": "9eeaea03",
   "metadata": {
    "papermill": {
     "duration": 0.00548,
     "end_time": "2023-11-06T07:21:50.549299",
     "exception": false,
     "start_time": "2023-11-06T07:21:50.543819",
     "status": "completed"
    },
    "tags": []
   },
   "source": [
    "## Step 1: Compare Different Tree Sizes\n",
    "Write a loop that tries the following values for *max_leaf_nodes* from a set of possible values.\n",
    "\n",
    "Call the *get_mae* function on each value of max_leaf_nodes. Store the output in some way that allows you to select the value of `max_leaf_nodes` that gives the most accurate model on your data."
   ]
  },
  {
   "cell_type": "code",
   "execution_count": 3,
   "id": "48eec5d0",
   "metadata": {
    "execution": {
     "iopub.execute_input": "2023-11-06T07:21:50.565538Z",
     "iopub.status.busy": "2023-11-06T07:21:50.564684Z",
     "iopub.status.idle": "2023-11-06T07:21:50.624388Z",
     "shell.execute_reply": "2023-11-06T07:21:50.623304Z"
    },
    "papermill": {
     "duration": 0.069483,
     "end_time": "2023-11-06T07:21:50.626821",
     "exception": false,
     "start_time": "2023-11-06T07:21:50.557338",
     "status": "completed"
    },
    "tags": []
   },
   "outputs": [
    {
     "name": "stdout",
     "output_type": "stream",
     "text": [
      "100\n"
     ]
    },
    {
     "data": {
      "application/javascript": [
       "parent.postMessage({\"jupyterEvent\": \"custom.exercise_interaction\", \"data\": {\"outcomeType\": 1, \"valueTowardsCompletion\": 0.5, \"interactionType\": 1, \"questionType\": 1, \"questionId\": \"1_BestTreeSize\", \"learnToolsVersion\": \"0.3.4\", \"failureMessage\": \"\", \"exceptionClass\": \"\", \"trace\": \"\"}}, \"*\")"
      ],
      "text/plain": [
       "<IPython.core.display.Javascript object>"
      ]
     },
     "metadata": {},
     "output_type": "display_data"
    },
    {
     "data": {
      "text/markdown": [
       "<span style=\"color:#33cc33\">Correct</span>"
      ],
      "text/plain": [
       "Correct"
      ]
     },
     "metadata": {},
     "output_type": "display_data"
    }
   ],
   "source": [
    "candidate_max_leaf_nodes = [5, 25, 50, 100, 250, 500]\n",
    "# Write loop to find the ideal tree size from candidate_max_leaf_nodes\n",
    "check = 10000000000\n",
    "for count in candidate_max_leaf_nodes:\n",
    "    mae = get_mae(count, train_X, val_X, train_y, val_y)\n",
    "    check = min(check, mae)\n",
    "    if check == mae: best = count\n",
    "# Store the best value of max_leaf_nodes (it will be either 5, 25, 50, 100, 250 or 500)\n",
    "\n",
    "best_tree_size = best\n",
    "print(best)\n",
    "\n",
    "# Check your answer\n",
    "step_1.check()"
   ]
  },
  {
   "cell_type": "code",
   "execution_count": 4,
   "id": "a883567f",
   "metadata": {
    "execution": {
     "iopub.execute_input": "2023-11-06T07:21:50.638795Z",
     "iopub.status.busy": "2023-11-06T07:21:50.638391Z",
     "iopub.status.idle": "2023-11-06T07:21:50.643277Z",
     "shell.execute_reply": "2023-11-06T07:21:50.642026Z"
    },
    "papermill": {
     "duration": 0.013869,
     "end_time": "2023-11-06T07:21:50.645609",
     "exception": false,
     "start_time": "2023-11-06T07:21:50.631740",
     "status": "completed"
    },
    "tags": []
   },
   "outputs": [],
   "source": [
    "# The lines below will show you a hint or the solution.\n",
    "# step_1.hint() \n",
    "# step_1.solution()"
   ]
  },
  {
   "cell_type": "markdown",
   "id": "1810279a",
   "metadata": {
    "papermill": {
     "duration": 0.004732,
     "end_time": "2023-11-06T07:21:50.655456",
     "exception": false,
     "start_time": "2023-11-06T07:21:50.650724",
     "status": "completed"
    },
    "tags": []
   },
   "source": [
    "## Step 2: Fit Model Using All Data\n",
    "You know the best tree size. If you were going to deploy this model in practice, you would make it even more accurate by using all of the data and keeping that tree size.  That is, you don't need to hold out the validation data now that you've made all your modeling decisions."
   ]
  },
  {
   "cell_type": "code",
   "execution_count": 5,
   "id": "b28957c7",
   "metadata": {
    "execution": {
     "iopub.execute_input": "2023-11-06T07:21:50.667506Z",
     "iopub.status.busy": "2023-11-06T07:21:50.667114Z",
     "iopub.status.idle": "2023-11-06T07:21:50.685512Z",
     "shell.execute_reply": "2023-11-06T07:21:50.684408Z"
    },
    "papermill": {
     "duration": 0.027202,
     "end_time": "2023-11-06T07:21:50.687722",
     "exception": false,
     "start_time": "2023-11-06T07:21:50.660520",
     "status": "completed"
    },
    "tags": []
   },
   "outputs": [
    {
     "data": {
      "application/javascript": [
       "parent.postMessage({\"jupyterEvent\": \"custom.exercise_interaction\", \"data\": {\"outcomeType\": 1, \"valueTowardsCompletion\": 0.5, \"interactionType\": 1, \"questionType\": 2, \"questionId\": \"2_FitModelWithAllData\", \"learnToolsVersion\": \"0.3.4\", \"failureMessage\": \"\", \"exceptionClass\": \"\", \"trace\": \"\"}}, \"*\")"
      ],
      "text/plain": [
       "<IPython.core.display.Javascript object>"
      ]
     },
     "metadata": {},
     "output_type": "display_data"
    },
    {
     "data": {
      "text/markdown": [
       "<span style=\"color:#33cc33\">Correct</span>"
      ],
      "text/plain": [
       "Correct"
      ]
     },
     "metadata": {},
     "output_type": "display_data"
    }
   ],
   "source": [
    "# Fill in argument to make optimal size and uncomment\n",
    "final_model = DecisionTreeRegressor(max_leaf_nodes=100, random_state=0)\n",
    "\n",
    "# fit the final model and uncomment the next two lines\n",
    "final_model.fit(X, y)\n",
    "\n",
    "# Check your answer\n",
    "step_2.check()"
   ]
  },
  {
   "cell_type": "code",
   "execution_count": 6,
   "id": "8d123ddb",
   "metadata": {
    "execution": {
     "iopub.execute_input": "2023-11-06T07:21:50.700300Z",
     "iopub.status.busy": "2023-11-06T07:21:50.699895Z",
     "iopub.status.idle": "2023-11-06T07:21:50.704324Z",
     "shell.execute_reply": "2023-11-06T07:21:50.703356Z"
    },
    "papermill": {
     "duration": 0.013345,
     "end_time": "2023-11-06T07:21:50.706646",
     "exception": false,
     "start_time": "2023-11-06T07:21:50.693301",
     "status": "completed"
    },
    "tags": []
   },
   "outputs": [],
   "source": [
    "# step_2.hint()\n",
    "# step_2.solution()"
   ]
  },
  {
   "cell_type": "markdown",
   "id": "17ed4e49",
   "metadata": {
    "papermill": {
     "duration": 0.006237,
     "end_time": "2023-11-06T07:21:50.718195",
     "exception": false,
     "start_time": "2023-11-06T07:21:50.711958",
     "status": "completed"
    },
    "tags": []
   },
   "source": [
    "You've tuned this model and improved your results. But we are still using Decision Tree models, which are not very sophisticated by modern machine learning standards. In the next step you will learn to use Random Forests to improve your models even more.\n",
    "\n",
    "# Keep Going\n",
    "\n",
    "You are ready for **[Random Forests](https://www.kaggle.com/dansbecker/random-forests).**\n"
   ]
  },
  {
   "cell_type": "markdown",
   "id": "9f1cc08e",
   "metadata": {
    "papermill": {
     "duration": 0.005633,
     "end_time": "2023-11-06T07:21:50.729547",
     "exception": false,
     "start_time": "2023-11-06T07:21:50.723914",
     "status": "completed"
    },
    "tags": []
   },
   "source": [
    "---\n",
    "\n",
    "\n",
    "\n",
    "\n",
    "*Have questions or comments? Visit the [course discussion forum](https://www.kaggle.com/learn/intro-to-machine-learning/discussion) to chat with other learners.*"
   ]
  }
 ],
 "metadata": {
  "kernelspec": {
   "display_name": "Python 3",
   "language": "python",
   "name": "python3"
  },
  "language_info": {
   "codemirror_mode": {
    "name": "ipython",
    "version": 3
   },
   "file_extension": ".py",
   "mimetype": "text/x-python",
   "name": "python",
   "nbconvert_exporter": "python",
   "pygments_lexer": "ipython3",
   "version": "3.10.12"
  },
  "papermill": {
   "default_parameters": {},
   "duration": 8.031704,
   "end_time": "2023-11-06T07:21:51.358364",
   "environment_variables": {},
   "exception": null,
   "input_path": "__notebook__.ipynb",
   "output_path": "__notebook__.ipynb",
   "parameters": {},
   "start_time": "2023-11-06T07:21:43.326660",
   "version": "2.4.0"
  }
 },
 "nbformat": 4,
 "nbformat_minor": 5
}

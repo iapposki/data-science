{
 "cells": [
  {
   "cell_type": "markdown",
   "id": "4d9eb042",
   "metadata": {
    "papermill": {
     "duration": 0.006072,
     "end_time": "2023-11-01T07:59:20.260107",
     "exception": false,
     "start_time": "2023-11-01T07:59:20.254035",
     "status": "completed"
    },
    "tags": []
   },
   "source": [
    "**This notebook is an exercise in the [Introduction to Machine Learning](https://www.kaggle.com/learn/intro-to-machine-learning) course.  You can reference the tutorial at [this link](https://www.kaggle.com/dansbecker/your-first-machine-learning-model).**\n",
    "\n",
    "---\n"
   ]
  },
  {
   "cell_type": "markdown",
   "id": "e86703b9",
   "metadata": {
    "papermill": {
     "duration": 0.004052,
     "end_time": "2023-11-01T07:59:20.268906",
     "exception": false,
     "start_time": "2023-11-01T07:59:20.264854",
     "status": "completed"
    },
    "tags": []
   },
   "source": [
    "## Recap\n",
    "So far, you have loaded your data and reviewed it with the following code. Run this cell to set up your coding environment where the previous step left off."
   ]
  },
  {
   "cell_type": "code",
   "execution_count": 1,
   "id": "3e400eb1",
   "metadata": {
    "execution": {
     "iopub.execute_input": "2023-11-01T07:59:20.279552Z",
     "iopub.status.busy": "2023-11-01T07:59:20.278926Z",
     "iopub.status.idle": "2023-11-01T07:59:22.477076Z",
     "shell.execute_reply": "2023-11-01T07:59:22.474779Z"
    },
    "papermill": {
     "duration": 2.206819,
     "end_time": "2023-11-01T07:59:22.479887",
     "exception": false,
     "start_time": "2023-11-01T07:59:20.273068",
     "status": "completed"
    },
    "tags": []
   },
   "outputs": [
    {
     "name": "stdout",
     "output_type": "stream",
     "text": [
      "Setup Complete\n"
     ]
    }
   ],
   "source": [
    "# Code you have previously used to load data\n",
    "import pandas as pd\n",
    "\n",
    "# Path of the file to read\n",
    "iowa_file_path = '../input/home-data-for-ml-course/train.csv'\n",
    "\n",
    "home_data = pd.read_csv(iowa_file_path)\n",
    "\n",
    "# Set up code checking\n",
    "from learntools.core import binder\n",
    "binder.bind(globals())\n",
    "from learntools.machine_learning.ex3 import *\n",
    "\n",
    "print(\"Setup Complete\")"
   ]
  },
  {
   "cell_type": "markdown",
   "id": "0b04a51f",
   "metadata": {
    "papermill": {
     "duration": 0.004584,
     "end_time": "2023-11-01T07:59:22.489893",
     "exception": false,
     "start_time": "2023-11-01T07:59:22.485309",
     "status": "completed"
    },
    "tags": []
   },
   "source": [
    "# Exercises\n",
    "\n",
    "## Step 1: Specify Prediction Target\n",
    "Select the target variable, which corresponds to the sales price. Save this to a new variable called `y`. You'll need to print a list of the columns to find the name of the column you need.\n"
   ]
  },
  {
   "cell_type": "code",
   "execution_count": 2,
   "id": "b8dcba58",
   "metadata": {
    "execution": {
     "iopub.execute_input": "2023-11-01T07:59:22.500461Z",
     "iopub.status.busy": "2023-11-01T07:59:22.500146Z",
     "iopub.status.idle": "2023-11-01T07:59:22.505839Z",
     "shell.execute_reply": "2023-11-01T07:59:22.504017Z"
    },
    "papermill": {
     "duration": 0.014121,
     "end_time": "2023-11-01T07:59:22.508516",
     "exception": false,
     "start_time": "2023-11-01T07:59:22.494395",
     "status": "completed"
    },
    "tags": []
   },
   "outputs": [],
   "source": [
    "# print the list of columns in the dataset to find the name of the prediction target\n"
   ]
  },
  {
   "cell_type": "code",
   "execution_count": 3,
   "id": "41f0a6e2",
   "metadata": {
    "execution": {
     "iopub.execute_input": "2023-11-01T07:59:22.519623Z",
     "iopub.status.busy": "2023-11-01T07:59:22.519274Z",
     "iopub.status.idle": "2023-11-01T07:59:22.534454Z",
     "shell.execute_reply": "2023-11-01T07:59:22.533291Z"
    },
    "papermill": {
     "duration": 0.023867,
     "end_time": "2023-11-01T07:59:22.536894",
     "exception": false,
     "start_time": "2023-11-01T07:59:22.513027",
     "status": "completed"
    },
    "tags": []
   },
   "outputs": [
    {
     "data": {
      "application/javascript": [
       "parent.postMessage({\"jupyterEvent\": \"custom.exercise_interaction\", \"data\": {\"outcomeType\": 1, \"valueTowardsCompletion\": 0.25, \"interactionType\": 1, \"questionType\": 2, \"questionId\": \"1_SetTarget\", \"learnToolsVersion\": \"0.3.4\", \"failureMessage\": \"\", \"exceptionClass\": \"\", \"trace\": \"\"}}, \"*\")"
      ],
      "text/plain": [
       "<IPython.core.display.Javascript object>"
      ]
     },
     "metadata": {},
     "output_type": "display_data"
    },
    {
     "data": {
      "text/markdown": [
       "<span style=\"color:#33cc33\">Correct</span>"
      ],
      "text/plain": [
       "Correct"
      ]
     },
     "metadata": {},
     "output_type": "display_data"
    }
   ],
   "source": [
    "y = home_data['SalePrice']\n",
    "\n",
    "# Check your answer\n",
    "step_1.check()"
   ]
  },
  {
   "cell_type": "code",
   "execution_count": 4,
   "id": "54de1cbc",
   "metadata": {
    "execution": {
     "iopub.execute_input": "2023-11-01T07:59:22.548374Z",
     "iopub.status.busy": "2023-11-01T07:59:22.548052Z",
     "iopub.status.idle": "2023-11-01T07:59:22.553050Z",
     "shell.execute_reply": "2023-11-01T07:59:22.551401Z"
    },
    "papermill": {
     "duration": 0.013044,
     "end_time": "2023-11-01T07:59:22.554965",
     "exception": false,
     "start_time": "2023-11-01T07:59:22.541921",
     "status": "completed"
    },
    "tags": []
   },
   "outputs": [],
   "source": [
    "# The lines below will show you a hint or the solution.\n",
    "# step_1.hint() \n",
    "# step_1.solution()"
   ]
  },
  {
   "cell_type": "markdown",
   "id": "787b7695",
   "metadata": {
    "papermill": {
     "duration": 0.004284,
     "end_time": "2023-11-01T07:59:22.564636",
     "exception": false,
     "start_time": "2023-11-01T07:59:22.560352",
     "status": "completed"
    },
    "tags": []
   },
   "source": [
    "## Step 2: Create X\n",
    "Now you will create a DataFrame called `X` holding the predictive features.\n",
    "\n",
    "Since you want only some columns from the original data, you'll first create a list with the names of the columns you want in `X`.\n",
    "\n",
    "You'll use just the following columns in the list (you can copy and paste the whole list to save some typing, though you'll still need to add quotes):\n",
    "  * LotArea\n",
    "  * YearBuilt\n",
    "  * 1stFlrSF\n",
    "  * 2ndFlrSF\n",
    "  * FullBath\n",
    "  * BedroomAbvGr\n",
    "  * TotRmsAbvGrd\n",
    "\n",
    "After you've created that list of features, use it to create the DataFrame that you'll use to fit the model."
   ]
  },
  {
   "cell_type": "code",
   "execution_count": 5,
   "id": "1aaf98a9",
   "metadata": {
    "execution": {
     "iopub.execute_input": "2023-11-01T07:59:22.575384Z",
     "iopub.status.busy": "2023-11-01T07:59:22.575075Z",
     "iopub.status.idle": "2023-11-01T07:59:22.591306Z",
     "shell.execute_reply": "2023-11-01T07:59:22.590302Z"
    },
    "papermill": {
     "duration": 0.024405,
     "end_time": "2023-11-01T07:59:22.593471",
     "exception": false,
     "start_time": "2023-11-01T07:59:22.569066",
     "status": "completed"
    },
    "tags": []
   },
   "outputs": [
    {
     "data": {
      "application/javascript": [
       "parent.postMessage({\"jupyterEvent\": \"custom.exercise_interaction\", \"data\": {\"outcomeType\": 1, \"valueTowardsCompletion\": 0.25, \"interactionType\": 1, \"questionType\": 2, \"questionId\": \"2_SelectPredictionData\", \"learnToolsVersion\": \"0.3.4\", \"failureMessage\": \"\", \"exceptionClass\": \"\", \"trace\": \"\"}}, \"*\")"
      ],
      "text/plain": [
       "<IPython.core.display.Javascript object>"
      ]
     },
     "metadata": {},
     "output_type": "display_data"
    },
    {
     "data": {
      "text/markdown": [
       "<span style=\"color:#33cc33\">Correct</span>"
      ],
      "text/plain": [
       "Correct"
      ]
     },
     "metadata": {},
     "output_type": "display_data"
    }
   ],
   "source": [
    "# Create the list of features below\n",
    "feature_names = ['LotArea', 'YearBuilt', '1stFlrSF', '2ndFlrSF', 'FullBath', 'BedroomAbvGr' ,'TotRmsAbvGrd']\n",
    "\n",
    "# Select data corresponding to features in feature_names\n",
    "X = home_data[feature_names]\n",
    "\n",
    "# Check your answer\n",
    "step_2.check()"
   ]
  },
  {
   "cell_type": "code",
   "execution_count": 6,
   "id": "d2c93689",
   "metadata": {
    "execution": {
     "iopub.execute_input": "2023-11-01T07:59:22.605006Z",
     "iopub.status.busy": "2023-11-01T07:59:22.604629Z",
     "iopub.status.idle": "2023-11-01T07:59:22.609174Z",
     "shell.execute_reply": "2023-11-01T07:59:22.607973Z"
    },
    "papermill": {
     "duration": 0.013176,
     "end_time": "2023-11-01T07:59:22.611633",
     "exception": false,
     "start_time": "2023-11-01T07:59:22.598457",
     "status": "completed"
    },
    "tags": []
   },
   "outputs": [],
   "source": [
    "# step_2.hint()\n",
    "# step_2.solution()"
   ]
  },
  {
   "cell_type": "markdown",
   "id": "a5027ca6",
   "metadata": {
    "papermill": {
     "duration": 0.004431,
     "end_time": "2023-11-01T07:59:22.621183",
     "exception": false,
     "start_time": "2023-11-01T07:59:22.616752",
     "status": "completed"
    },
    "tags": []
   },
   "source": [
    "## Review Data\n",
    "Before building a model, take a quick look at **X** to verify it looks sensible"
   ]
  },
  {
   "cell_type": "code",
   "execution_count": 7,
   "id": "6823ebda",
   "metadata": {
    "execution": {
     "iopub.execute_input": "2023-11-01T07:59:22.632264Z",
     "iopub.status.busy": "2023-11-01T07:59:22.631921Z",
     "iopub.status.idle": "2023-11-01T07:59:22.663204Z",
     "shell.execute_reply": "2023-11-01T07:59:22.661574Z"
    },
    "papermill": {
     "duration": 0.039126,
     "end_time": "2023-11-01T07:59:22.665075",
     "exception": false,
     "start_time": "2023-11-01T07:59:22.625949",
     "status": "completed"
    },
    "tags": []
   },
   "outputs": [
    {
     "name": "stdout",
     "output_type": "stream",
     "text": [
      "             LotArea    YearBuilt     1stFlrSF     2ndFlrSF     FullBath  \\\n",
      "count    1460.000000  1460.000000  1460.000000  1460.000000  1460.000000   \n",
      "mean    10516.828082  1971.267808  1162.626712   346.992466     1.565068   \n",
      "std      9981.264932    30.202904   386.587738   436.528436     0.550916   \n",
      "min      1300.000000  1872.000000   334.000000     0.000000     0.000000   \n",
      "25%      7553.500000  1954.000000   882.000000     0.000000     1.000000   \n",
      "50%      9478.500000  1973.000000  1087.000000     0.000000     2.000000   \n",
      "75%     11601.500000  2000.000000  1391.250000   728.000000     2.000000   \n",
      "max    215245.000000  2010.000000  4692.000000  2065.000000     3.000000   \n",
      "\n",
      "       BedroomAbvGr  TotRmsAbvGrd  \n",
      "count   1460.000000   1460.000000  \n",
      "mean       2.866438      6.517808  \n",
      "std        0.815778      1.625393  \n",
      "min        0.000000      2.000000  \n",
      "25%        2.000000      5.000000  \n",
      "50%        3.000000      6.000000  \n",
      "75%        3.000000      7.000000  \n",
      "max        8.000000     14.000000  \n",
      "   LotArea  YearBuilt  1stFlrSF  2ndFlrSF  FullBath  BedroomAbvGr  \\\n",
      "0     8450       2003       856       854         2             3   \n",
      "1     9600       1976      1262         0         2             3   \n",
      "2    11250       2001       920       866         2             3   \n",
      "3     9550       1915       961       756         1             3   \n",
      "4    14260       2000      1145      1053         2             4   \n",
      "\n",
      "   TotRmsAbvGrd  \n",
      "0             8  \n",
      "1             6  \n",
      "2             6  \n",
      "3             7  \n",
      "4             9  \n",
      "0       208500\n",
      "1       181500\n",
      "2       223500\n",
      "3       140000\n",
      "4       250000\n",
      "         ...  \n",
      "1455    175000\n",
      "1456    210000\n",
      "1457    266500\n",
      "1458    142125\n",
      "1459    147500\n",
      "Name: SalePrice, Length: 1460, dtype: int64\n"
     ]
    }
   ],
   "source": [
    "# Review data\n",
    "# print description or statistics from X\n",
    "print(X.describe())\n",
    "\n",
    "# print the top few lines\n",
    "print(X.head())\n",
    "print(y)"
   ]
  },
  {
   "cell_type": "markdown",
   "id": "410d0fad",
   "metadata": {
    "papermill": {
     "duration": 0.004438,
     "end_time": "2023-11-01T07:59:22.674519",
     "exception": false,
     "start_time": "2023-11-01T07:59:22.670081",
     "status": "completed"
    },
    "tags": []
   },
   "source": [
    "## Step 3: Specify and Fit Model\n",
    "Create a `DecisionTreeRegressor` and save it iowa_model. Ensure you've done the relevant import from sklearn to run this command.\n",
    "\n",
    "Then fit the model you just created using the data in `X` and `y` that you saved above."
   ]
  },
  {
   "cell_type": "code",
   "execution_count": 8,
   "id": "d3e7ea44",
   "metadata": {
    "execution": {
     "iopub.execute_input": "2023-11-01T07:59:22.685412Z",
     "iopub.status.busy": "2023-11-01T07:59:22.685068Z",
     "iopub.status.idle": "2023-11-01T07:59:22.702481Z",
     "shell.execute_reply": "2023-11-01T07:59:22.701202Z"
    },
    "papermill": {
     "duration": 0.025501,
     "end_time": "2023-11-01T07:59:22.704624",
     "exception": false,
     "start_time": "2023-11-01T07:59:22.679123",
     "status": "completed"
    },
    "tags": []
   },
   "outputs": [
    {
     "data": {
      "application/javascript": [
       "parent.postMessage({\"jupyterEvent\": \"custom.exercise_interaction\", \"data\": {\"outcomeType\": 1, \"valueTowardsCompletion\": 0.25, \"interactionType\": 1, \"questionType\": 2, \"questionId\": \"3_CreateModel\", \"learnToolsVersion\": \"0.3.4\", \"failureMessage\": \"\", \"exceptionClass\": \"\", \"trace\": \"\"}}, \"*\")"
      ],
      "text/plain": [
       "<IPython.core.display.Javascript object>"
      ]
     },
     "metadata": {},
     "output_type": "display_data"
    },
    {
     "data": {
      "text/markdown": [
       "<span style=\"color:#33cc33\">Correct</span>"
      ],
      "text/plain": [
       "Correct"
      ]
     },
     "metadata": {},
     "output_type": "display_data"
    }
   ],
   "source": [
    "from sklearn.tree import DecisionTreeRegressor\n",
    "#specify the model. \n",
    "#For model reproducibility, set a numeric value for random_state when specifying the model\n",
    "iowa_model = DecisionTreeRegressor(random_state=0)\n",
    "\n",
    "# Fit the model\n",
    "iowa_model.fit(X,y)\n",
    "\n",
    "# Check your answer\n",
    "step_3.check()"
   ]
  },
  {
   "cell_type": "code",
   "execution_count": 9,
   "id": "a4d62e18",
   "metadata": {
    "execution": {
     "iopub.execute_input": "2023-11-01T07:59:22.717030Z",
     "iopub.status.busy": "2023-11-01T07:59:22.716681Z",
     "iopub.status.idle": "2023-11-01T07:59:22.721281Z",
     "shell.execute_reply": "2023-11-01T07:59:22.719862Z"
    },
    "papermill": {
     "duration": 0.01399,
     "end_time": "2023-11-01T07:59:22.724017",
     "exception": false,
     "start_time": "2023-11-01T07:59:22.710027",
     "status": "completed"
    },
    "tags": []
   },
   "outputs": [],
   "source": [
    "# step_3.hint()\n",
    "# step_3.solution()"
   ]
  },
  {
   "cell_type": "markdown",
   "id": "d0b59c78",
   "metadata": {
    "papermill": {
     "duration": 0.004858,
     "end_time": "2023-11-01T07:59:22.734276",
     "exception": false,
     "start_time": "2023-11-01T07:59:22.729418",
     "status": "completed"
    },
    "tags": []
   },
   "source": [
    "## Step 4: Make Predictions\n",
    "Make predictions with the model's `predict` command using `X` as the data. Save the results to a variable called `predictions`."
   ]
  },
  {
   "cell_type": "code",
   "execution_count": 10,
   "id": "82e08fa8",
   "metadata": {
    "execution": {
     "iopub.execute_input": "2023-11-01T07:59:22.746414Z",
     "iopub.status.busy": "2023-11-01T07:59:22.746073Z",
     "iopub.status.idle": "2023-11-01T07:59:22.760500Z",
     "shell.execute_reply": "2023-11-01T07:59:22.759224Z"
    },
    "papermill": {
     "duration": 0.023279,
     "end_time": "2023-11-01T07:59:22.762718",
     "exception": false,
     "start_time": "2023-11-01T07:59:22.739439",
     "status": "completed"
    },
    "tags": []
   },
   "outputs": [
    {
     "name": "stdout",
     "output_type": "stream",
     "text": [
      "[208500. 181500. 223500. ... 266500. 142125. 147500.]\n"
     ]
    },
    {
     "data": {
      "application/javascript": [
       "parent.postMessage({\"jupyterEvent\": \"custom.exercise_interaction\", \"data\": {\"outcomeType\": 1, \"valueTowardsCompletion\": 0.25, \"interactionType\": 1, \"questionType\": 2, \"questionId\": \"4_MakePredictions\", \"learnToolsVersion\": \"0.3.4\", \"failureMessage\": \"\", \"exceptionClass\": \"\", \"trace\": \"\"}}, \"*\")"
      ],
      "text/plain": [
       "<IPython.core.display.Javascript object>"
      ]
     },
     "metadata": {},
     "output_type": "display_data"
    },
    {
     "data": {
      "text/markdown": [
       "<span style=\"color:#33cc33\">Correct</span>"
      ],
      "text/plain": [
       "Correct"
      ]
     },
     "metadata": {},
     "output_type": "display_data"
    }
   ],
   "source": [
    "predictions = iowa_model.predict(X)\n",
    "print(predictions)\n",
    "\n",
    "# Check your answer\n",
    "step_4.check()"
   ]
  },
  {
   "cell_type": "code",
   "execution_count": 11,
   "id": "add160bc",
   "metadata": {
    "execution": {
     "iopub.execute_input": "2023-11-01T07:59:22.775293Z",
     "iopub.status.busy": "2023-11-01T07:59:22.774959Z",
     "iopub.status.idle": "2023-11-01T07:59:22.778746Z",
     "shell.execute_reply": "2023-11-01T07:59:22.777842Z"
    },
    "papermill": {
     "duration": 0.012237,
     "end_time": "2023-11-01T07:59:22.780521",
     "exception": false,
     "start_time": "2023-11-01T07:59:22.768284",
     "status": "completed"
    },
    "tags": []
   },
   "outputs": [],
   "source": [
    "# step_4.hint()\n",
    "# step_4.solution()"
   ]
  },
  {
   "cell_type": "markdown",
   "id": "c92668c4",
   "metadata": {
    "papermill": {
     "duration": 0.005,
     "end_time": "2023-11-01T07:59:22.791103",
     "exception": false,
     "start_time": "2023-11-01T07:59:22.786103",
     "status": "completed"
    },
    "tags": []
   },
   "source": [
    "## Think About Your Results\n",
    "\n",
    "Use the `head` method to compare the top few predictions to the actual home values (in `y`) for those same homes. Anything surprising?\n"
   ]
  },
  {
   "cell_type": "code",
   "execution_count": 12,
   "id": "1a4dc9a0",
   "metadata": {
    "execution": {
     "iopub.execute_input": "2023-11-01T07:59:22.803707Z",
     "iopub.status.busy": "2023-11-01T07:59:22.803382Z",
     "iopub.status.idle": "2023-11-01T07:59:22.812538Z",
     "shell.execute_reply": "2023-11-01T07:59:22.811808Z"
    },
    "papermill": {
     "duration": 0.01808,
     "end_time": "2023-11-01T07:59:22.814444",
     "exception": false,
     "start_time": "2023-11-01T07:59:22.796364",
     "status": "completed"
    },
    "tags": []
   },
   "outputs": [
    {
     "name": "stdout",
     "output_type": "stream",
     "text": [
      "[208500. 181500. 223500. 140000. 250000. 143000. 307000. 200000. 129900.\n",
      " 118000.]\n"
     ]
    },
    {
     "data": {
      "text/plain": [
       "0    208500\n",
       "1    181500\n",
       "2    223500\n",
       "3    140000\n",
       "4    250000\n",
       "5    143000\n",
       "6    307000\n",
       "7    200000\n",
       "8    129900\n",
       "9    118000\n",
       "Name: SalePrice, dtype: int64"
      ]
     },
     "execution_count": 12,
     "metadata": {},
     "output_type": "execute_result"
    }
   ],
   "source": [
    "# You can write code in this cell\n",
    "print(predictions[:10])\n",
    "y.head(10)\n"
   ]
  },
  {
   "cell_type": "markdown",
   "id": "f45e8c25",
   "metadata": {
    "papermill": {
     "duration": 0.005165,
     "end_time": "2023-11-01T07:59:22.825385",
     "exception": false,
     "start_time": "2023-11-01T07:59:22.820220",
     "status": "completed"
    },
    "tags": []
   },
   "source": [
    "It's natural to ask how accurate the model's predictions will be and how you can improve that. That will be you're next step.\n",
    "\n",
    "# Keep Going\n",
    "\n",
    "You are ready for **[Model Validation](https://www.kaggle.com/dansbecker/model-validation).**\n"
   ]
  },
  {
   "cell_type": "markdown",
   "id": "002ddeeb",
   "metadata": {
    "papermill": {
     "duration": 0.006624,
     "end_time": "2023-11-01T07:59:22.837367",
     "exception": false,
     "start_time": "2023-11-01T07:59:22.830743",
     "status": "completed"
    },
    "tags": []
   },
   "source": [
    "---\n",
    "\n",
    "\n",
    "\n",
    "\n",
    "*Have questions or comments? Visit the [course discussion forum](https://www.kaggle.com/learn/intro-to-machine-learning/discussion) to chat with other learners.*"
   ]
  }
 ],
 "metadata": {
  "kernelspec": {
   "display_name": "Python 3",
   "language": "python",
   "name": "python3"
  },
  "language_info": {
   "codemirror_mode": {
    "name": "ipython",
    "version": 3
   },
   "file_extension": ".py",
   "mimetype": "text/x-python",
   "name": "python",
   "nbconvert_exporter": "python",
   "pygments_lexer": "ipython3",
   "version": "3.10.12"
  },
  "papermill": {
   "default_parameters": {},
   "duration": 6.046971,
   "end_time": "2023-11-01T07:59:23.363918",
   "environment_variables": {},
   "exception": null,
   "input_path": "__notebook__.ipynb",
   "output_path": "__notebook__.ipynb",
   "parameters": {},
   "start_time": "2023-11-01T07:59:17.316947",
   "version": "2.4.0"
  }
 },
 "nbformat": 4,
 "nbformat_minor": 5
}

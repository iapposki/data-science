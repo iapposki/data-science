{
 "cells": [
  {
   "cell_type": "markdown",
   "id": "c420b8e7",
   "metadata": {
    "papermill": {
     "duration": 0.006131,
     "end_time": "2023-10-13T11:20:03.637755",
     "exception": false,
     "start_time": "2023-10-13T11:20:03.631624",
     "status": "completed"
    },
    "tags": []
   },
   "source": [
    "**This notebook is an exercise in the [Pandas](https://www.kaggle.com/learn/pandas) course.  You can reference the tutorial at [this link](https://www.kaggle.com/residentmario/summary-functions-and-maps).**\n",
    "\n",
    "---\n"
   ]
  },
  {
   "cell_type": "markdown",
   "id": "82b821a6",
   "metadata": {
    "papermill": {
     "duration": 0.004786,
     "end_time": "2023-10-13T11:20:03.647495",
     "exception": false,
     "start_time": "2023-10-13T11:20:03.642709",
     "status": "completed"
    },
    "tags": []
   },
   "source": [
    "# Introduction\n",
    "\n",
    "Now you are ready to get a deeper understanding of your data.\n",
    "\n",
    "Run the following cell to load your data and some utility functions (including code to check your answers)."
   ]
  },
  {
   "cell_type": "code",
   "execution_count": 1,
   "id": "aaa9ddca",
   "metadata": {
    "execution": {
     "iopub.execute_input": "2023-10-13T11:20:03.659368Z",
     "iopub.status.busy": "2023-10-13T11:20:03.658970Z",
     "iopub.status.idle": "2023-10-13T11:20:09.855746Z",
     "shell.execute_reply": "2023-10-13T11:20:09.854516Z"
    },
    "papermill": {
     "duration": 6.206379,
     "end_time": "2023-10-13T11:20:09.858842",
     "exception": false,
     "start_time": "2023-10-13T11:20:03.652463",
     "status": "completed"
    },
    "tags": []
   },
   "outputs": [
    {
     "name": "stdout",
     "output_type": "stream",
     "text": [
      "Setup complete.\n"
     ]
    },
    {
     "data": {
      "text/html": [
       "<div>\n",
       "<style scoped>\n",
       "    .dataframe tbody tr th:only-of-type {\n",
       "        vertical-align: middle;\n",
       "    }\n",
       "\n",
       "    .dataframe tbody tr th {\n",
       "        vertical-align: top;\n",
       "    }\n",
       "\n",
       "    .dataframe thead th {\n",
       "        text-align: right;\n",
       "    }\n",
       "</style>\n",
       "<table border=\"1\" class=\"dataframe\">\n",
       "  <thead>\n",
       "    <tr style=\"text-align: right;\">\n",
       "      <th></th>\n",
       "      <th>country</th>\n",
       "      <th>description</th>\n",
       "      <th>designation</th>\n",
       "      <th>points</th>\n",
       "      <th>price</th>\n",
       "      <th>province</th>\n",
       "      <th>region_1</th>\n",
       "      <th>region_2</th>\n",
       "      <th>taster_name</th>\n",
       "      <th>taster_twitter_handle</th>\n",
       "      <th>title</th>\n",
       "      <th>variety</th>\n",
       "      <th>winery</th>\n",
       "    </tr>\n",
       "  </thead>\n",
       "  <tbody>\n",
       "    <tr>\n",
       "      <th>0</th>\n",
       "      <td>Italy</td>\n",
       "      <td>Aromas include tropical fruit, broom, brimston...</td>\n",
       "      <td>Vulkà Bianco</td>\n",
       "      <td>87</td>\n",
       "      <td>NaN</td>\n",
       "      <td>Sicily &amp; Sardinia</td>\n",
       "      <td>Etna</td>\n",
       "      <td>NaN</td>\n",
       "      <td>Kerin O’Keefe</td>\n",
       "      <td>@kerinokeefe</td>\n",
       "      <td>Nicosia 2013 Vulkà Bianco  (Etna)</td>\n",
       "      <td>White Blend</td>\n",
       "      <td>Nicosia</td>\n",
       "    </tr>\n",
       "    <tr>\n",
       "      <th>1</th>\n",
       "      <td>Portugal</td>\n",
       "      <td>This is ripe and fruity, a wine that is smooth...</td>\n",
       "      <td>Avidagos</td>\n",
       "      <td>87</td>\n",
       "      <td>15.0</td>\n",
       "      <td>Douro</td>\n",
       "      <td>NaN</td>\n",
       "      <td>NaN</td>\n",
       "      <td>Roger Voss</td>\n",
       "      <td>@vossroger</td>\n",
       "      <td>Quinta dos Avidagos 2011 Avidagos Red (Douro)</td>\n",
       "      <td>Portuguese Red</td>\n",
       "      <td>Quinta dos Avidagos</td>\n",
       "    </tr>\n",
       "    <tr>\n",
       "      <th>2</th>\n",
       "      <td>US</td>\n",
       "      <td>Tart and snappy, the flavors of lime flesh and...</td>\n",
       "      <td>NaN</td>\n",
       "      <td>87</td>\n",
       "      <td>14.0</td>\n",
       "      <td>Oregon</td>\n",
       "      <td>Willamette Valley</td>\n",
       "      <td>Willamette Valley</td>\n",
       "      <td>Paul Gregutt</td>\n",
       "      <td>@paulgwine</td>\n",
       "      <td>Rainstorm 2013 Pinot Gris (Willamette Valley)</td>\n",
       "      <td>Pinot Gris</td>\n",
       "      <td>Rainstorm</td>\n",
       "    </tr>\n",
       "    <tr>\n",
       "      <th>3</th>\n",
       "      <td>US</td>\n",
       "      <td>Pineapple rind, lemon pith and orange blossom ...</td>\n",
       "      <td>Reserve Late Harvest</td>\n",
       "      <td>87</td>\n",
       "      <td>13.0</td>\n",
       "      <td>Michigan</td>\n",
       "      <td>Lake Michigan Shore</td>\n",
       "      <td>NaN</td>\n",
       "      <td>Alexander Peartree</td>\n",
       "      <td>NaN</td>\n",
       "      <td>St. Julian 2013 Reserve Late Harvest Riesling ...</td>\n",
       "      <td>Riesling</td>\n",
       "      <td>St. Julian</td>\n",
       "    </tr>\n",
       "    <tr>\n",
       "      <th>4</th>\n",
       "      <td>US</td>\n",
       "      <td>Much like the regular bottling from 2012, this...</td>\n",
       "      <td>Vintner's Reserve Wild Child Block</td>\n",
       "      <td>87</td>\n",
       "      <td>65.0</td>\n",
       "      <td>Oregon</td>\n",
       "      <td>Willamette Valley</td>\n",
       "      <td>Willamette Valley</td>\n",
       "      <td>Paul Gregutt</td>\n",
       "      <td>@paulgwine</td>\n",
       "      <td>Sweet Cheeks 2012 Vintner's Reserve Wild Child...</td>\n",
       "      <td>Pinot Noir</td>\n",
       "      <td>Sweet Cheeks</td>\n",
       "    </tr>\n",
       "  </tbody>\n",
       "</table>\n",
       "</div>"
      ],
      "text/plain": [
       "    country                                        description  \\\n",
       "0     Italy  Aromas include tropical fruit, broom, brimston...   \n",
       "1  Portugal  This is ripe and fruity, a wine that is smooth...   \n",
       "2        US  Tart and snappy, the flavors of lime flesh and...   \n",
       "3        US  Pineapple rind, lemon pith and orange blossom ...   \n",
       "4        US  Much like the regular bottling from 2012, this...   \n",
       "\n",
       "                          designation  points  price           province  \\\n",
       "0                        Vulkà Bianco      87    NaN  Sicily & Sardinia   \n",
       "1                            Avidagos      87   15.0              Douro   \n",
       "2                                 NaN      87   14.0             Oregon   \n",
       "3                Reserve Late Harvest      87   13.0           Michigan   \n",
       "4  Vintner's Reserve Wild Child Block      87   65.0             Oregon   \n",
       "\n",
       "              region_1           region_2         taster_name  \\\n",
       "0                 Etna                NaN       Kerin O’Keefe   \n",
       "1                  NaN                NaN          Roger Voss   \n",
       "2    Willamette Valley  Willamette Valley        Paul Gregutt   \n",
       "3  Lake Michigan Shore                NaN  Alexander Peartree   \n",
       "4    Willamette Valley  Willamette Valley        Paul Gregutt   \n",
       "\n",
       "  taster_twitter_handle                                              title  \\\n",
       "0          @kerinokeefe                  Nicosia 2013 Vulkà Bianco  (Etna)   \n",
       "1            @vossroger      Quinta dos Avidagos 2011 Avidagos Red (Douro)   \n",
       "2           @paulgwine       Rainstorm 2013 Pinot Gris (Willamette Valley)   \n",
       "3                   NaN  St. Julian 2013 Reserve Late Harvest Riesling ...   \n",
       "4           @paulgwine   Sweet Cheeks 2012 Vintner's Reserve Wild Child...   \n",
       "\n",
       "          variety               winery  \n",
       "0     White Blend              Nicosia  \n",
       "1  Portuguese Red  Quinta dos Avidagos  \n",
       "2      Pinot Gris            Rainstorm  \n",
       "3        Riesling           St. Julian  \n",
       "4      Pinot Noir         Sweet Cheeks  "
      ]
     },
     "execution_count": 1,
     "metadata": {},
     "output_type": "execute_result"
    }
   ],
   "source": [
    "import pandas as pd\n",
    "pd.set_option(\"display.max_rows\", 5)\n",
    "reviews = pd.read_csv(\"../input/wine-reviews/winemag-data-130k-v2.csv\", index_col=0)\n",
    "\n",
    "from learntools.core import binder; binder.bind(globals())\n",
    "from learntools.pandas.summary_functions_and_maps import *\n",
    "print(\"Setup complete.\")\n",
    "\n",
    "reviews.head()"
   ]
  },
  {
   "cell_type": "markdown",
   "id": "f5dcac63",
   "metadata": {
    "papermill": {
     "duration": 0.005087,
     "end_time": "2023-10-13T11:20:09.869698",
     "exception": false,
     "start_time": "2023-10-13T11:20:09.864611",
     "status": "completed"
    },
    "tags": []
   },
   "source": [
    "# Exercises"
   ]
  },
  {
   "cell_type": "markdown",
   "id": "67e80831",
   "metadata": {
    "papermill": {
     "duration": 0.004857,
     "end_time": "2023-10-13T11:20:09.879779",
     "exception": false,
     "start_time": "2023-10-13T11:20:09.874922",
     "status": "completed"
    },
    "tags": []
   },
   "source": [
    "## 1.\n",
    "\n",
    "What is the median of the `points` column in the `reviews` DataFrame?"
   ]
  },
  {
   "cell_type": "code",
   "execution_count": 2,
   "id": "3cd47724",
   "metadata": {
    "execution": {
     "iopub.execute_input": "2023-10-13T11:20:09.892142Z",
     "iopub.status.busy": "2023-10-13T11:20:09.891704Z",
     "iopub.status.idle": "2023-10-13T11:20:09.900872Z",
     "shell.execute_reply": "2023-10-13T11:20:09.899860Z"
    },
    "papermill": {
     "duration": 0.017737,
     "end_time": "2023-10-13T11:20:09.902682",
     "exception": false,
     "start_time": "2023-10-13T11:20:09.884945",
     "status": "completed"
    },
    "tags": []
   },
   "outputs": [
    {
     "data": {
      "application/javascript": [
       "parent.postMessage({\"jupyterEvent\": \"custom.exercise_interaction\", \"data\": {\"outcomeType\": 1, \"valueTowardsCompletion\": 0.14285714285714285, \"interactionType\": 1, \"questionType\": 1, \"questionId\": \"1_MedianPoints\", \"learnToolsVersion\": \"0.3.4\", \"failureMessage\": \"\", \"exceptionClass\": \"\", \"trace\": \"\"}}, \"*\")"
      ],
      "text/plain": [
       "<IPython.core.display.Javascript object>"
      ]
     },
     "metadata": {},
     "output_type": "display_data"
    },
    {
     "data": {
      "text/markdown": [
       "<span style=\"color:#33cc33\">Correct</span>"
      ],
      "text/plain": [
       "Correct"
      ]
     },
     "metadata": {},
     "output_type": "display_data"
    }
   ],
   "source": [
    "median_points = reviews.points.median()\n",
    "\n",
    "\n",
    "# Check your answer\n",
    "q1.check()"
   ]
  },
  {
   "cell_type": "code",
   "execution_count": 3,
   "id": "7a7bdac8",
   "metadata": {
    "execution": {
     "iopub.execute_input": "2023-10-13T11:20:09.916124Z",
     "iopub.status.busy": "2023-10-13T11:20:09.915394Z",
     "iopub.status.idle": "2023-10-13T11:20:09.921633Z",
     "shell.execute_reply": "2023-10-13T11:20:09.920090Z"
    },
    "papermill": {
     "duration": 0.015881,
     "end_time": "2023-10-13T11:20:09.924161",
     "exception": false,
     "start_time": "2023-10-13T11:20:09.908280",
     "status": "completed"
    },
    "tags": []
   },
   "outputs": [],
   "source": [
    "#q1.hint()\n",
    "#q1.solution()"
   ]
  },
  {
   "cell_type": "markdown",
   "id": "c160524e",
   "metadata": {
    "papermill": {
     "duration": 0.009169,
     "end_time": "2023-10-13T11:20:09.941200",
     "exception": false,
     "start_time": "2023-10-13T11:20:09.932031",
     "status": "completed"
    },
    "tags": []
   },
   "source": [
    "## 2. \n",
    "What countries are represented in the dataset? (Your answer should not include any duplicates.)"
   ]
  },
  {
   "cell_type": "code",
   "execution_count": 4,
   "id": "e25f913a",
   "metadata": {
    "execution": {
     "iopub.execute_input": "2023-10-13T11:20:09.959576Z",
     "iopub.status.busy": "2023-10-13T11:20:09.958724Z",
     "iopub.status.idle": "2023-10-13T11:20:09.975574Z",
     "shell.execute_reply": "2023-10-13T11:20:09.973992Z"
    },
    "papermill": {
     "duration": 0.029055,
     "end_time": "2023-10-13T11:20:09.978538",
     "exception": false,
     "start_time": "2023-10-13T11:20:09.949483",
     "status": "completed"
    },
    "tags": []
   },
   "outputs": [
    {
     "data": {
      "application/javascript": [
       "parent.postMessage({\"jupyterEvent\": \"custom.exercise_interaction\", \"data\": {\"outcomeType\": 1, \"valueTowardsCompletion\": 0.14285714285714285, \"interactionType\": 1, \"questionType\": 2, \"questionId\": \"2_UniqueCountries\", \"learnToolsVersion\": \"0.3.4\", \"failureMessage\": \"\", \"exceptionClass\": \"\", \"trace\": \"\"}}, \"*\")"
      ],
      "text/plain": [
       "<IPython.core.display.Javascript object>"
      ]
     },
     "metadata": {},
     "output_type": "display_data"
    },
    {
     "data": {
      "text/markdown": [
       "<span style=\"color:#33cc33\">Correct</span>"
      ],
      "text/plain": [
       "Correct"
      ]
     },
     "metadata": {},
     "output_type": "display_data"
    }
   ],
   "source": [
    "countries = reviews.country.unique()\n",
    "\n",
    "# Check your answer\n",
    "q2.check()"
   ]
  },
  {
   "cell_type": "code",
   "execution_count": 5,
   "id": "b441c0ae",
   "metadata": {
    "execution": {
     "iopub.execute_input": "2023-10-13T11:20:09.991746Z",
     "iopub.status.busy": "2023-10-13T11:20:09.991171Z",
     "iopub.status.idle": "2023-10-13T11:20:09.994407Z",
     "shell.execute_reply": "2023-10-13T11:20:09.993761Z"
    },
    "papermill": {
     "duration": 0.012033,
     "end_time": "2023-10-13T11:20:09.996281",
     "exception": false,
     "start_time": "2023-10-13T11:20:09.984248",
     "status": "completed"
    },
    "tags": []
   },
   "outputs": [],
   "source": [
    "#q2.hint()\n",
    "#q2.solution()"
   ]
  },
  {
   "cell_type": "markdown",
   "id": "1c62673c",
   "metadata": {
    "papermill": {
     "duration": 0.005565,
     "end_time": "2023-10-13T11:20:10.007550",
     "exception": false,
     "start_time": "2023-10-13T11:20:10.001985",
     "status": "completed"
    },
    "tags": []
   },
   "source": [
    "## 3.\n",
    "How often does each country appear in the dataset? Create a Series `reviews_per_country` mapping countries to the count of reviews of wines from that country."
   ]
  },
  {
   "cell_type": "code",
   "execution_count": 6,
   "id": "568359f7",
   "metadata": {
    "execution": {
     "iopub.execute_input": "2023-10-13T11:20:10.021158Z",
     "iopub.status.busy": "2023-10-13T11:20:10.020440Z",
     "iopub.status.idle": "2023-10-13T11:20:10.044114Z",
     "shell.execute_reply": "2023-10-13T11:20:10.042846Z"
    },
    "papermill": {
     "duration": 0.033114,
     "end_time": "2023-10-13T11:20:10.046426",
     "exception": false,
     "start_time": "2023-10-13T11:20:10.013312",
     "status": "completed"
    },
    "tags": []
   },
   "outputs": [
    {
     "data": {
      "application/javascript": [
       "parent.postMessage({\"jupyterEvent\": \"custom.exercise_interaction\", \"data\": {\"outcomeType\": 1, \"valueTowardsCompletion\": 0.14285714285714285, \"interactionType\": 1, \"questionType\": 1, \"questionId\": \"3_ReviewsPerCountry\", \"learnToolsVersion\": \"0.3.4\", \"failureMessage\": \"\", \"exceptionClass\": \"\", \"trace\": \"\"}}, \"*\")"
      ],
      "text/plain": [
       "<IPython.core.display.Javascript object>"
      ]
     },
     "metadata": {},
     "output_type": "display_data"
    },
    {
     "data": {
      "text/markdown": [
       "<span style=\"color:#33cc33\">Correct</span>"
      ],
      "text/plain": [
       "Correct"
      ]
     },
     "metadata": {},
     "output_type": "display_data"
    }
   ],
   "source": [
    "reviews_per_country = reviews.country.value_counts()\n",
    "\n",
    "# Check your answer\n",
    "q3.check()"
   ]
  },
  {
   "cell_type": "code",
   "execution_count": 7,
   "id": "f4d88ee8",
   "metadata": {
    "execution": {
     "iopub.execute_input": "2023-10-13T11:20:10.061173Z",
     "iopub.status.busy": "2023-10-13T11:20:10.060579Z",
     "iopub.status.idle": "2023-10-13T11:20:10.067864Z",
     "shell.execute_reply": "2023-10-13T11:20:10.066656Z"
    },
    "papermill": {
     "duration": 0.018684,
     "end_time": "2023-10-13T11:20:10.071156",
     "exception": false,
     "start_time": "2023-10-13T11:20:10.052472",
     "status": "completed"
    },
    "tags": []
   },
   "outputs": [],
   "source": [
    "#q3.hint()\n",
    "#q3.solution()"
   ]
  },
  {
   "cell_type": "markdown",
   "id": "a19a037b",
   "metadata": {
    "papermill": {
     "duration": 0.007496,
     "end_time": "2023-10-13T11:20:10.087474",
     "exception": false,
     "start_time": "2023-10-13T11:20:10.079978",
     "status": "completed"
    },
    "tags": []
   },
   "source": [
    "## 4.\n",
    "Create variable `centered_price` containing a version of the `price` column with the mean price subtracted.\n",
    "\n",
    "(Note: this 'centering' transformation is a common preprocessing step before applying various machine learning algorithms.) "
   ]
  },
  {
   "cell_type": "code",
   "execution_count": 8,
   "id": "91fee935",
   "metadata": {
    "execution": {
     "iopub.execute_input": "2023-10-13T11:20:10.104188Z",
     "iopub.status.busy": "2023-10-13T11:20:10.103138Z",
     "iopub.status.idle": "2023-10-13T11:20:10.113071Z",
     "shell.execute_reply": "2023-10-13T11:20:10.112176Z"
    },
    "papermill": {
     "duration": 0.020545,
     "end_time": "2023-10-13T11:20:10.114874",
     "exception": false,
     "start_time": "2023-10-13T11:20:10.094329",
     "status": "completed"
    },
    "tags": []
   },
   "outputs": [
    {
     "data": {
      "application/javascript": [
       "parent.postMessage({\"jupyterEvent\": \"custom.exercise_interaction\", \"data\": {\"outcomeType\": 1, \"valueTowardsCompletion\": 0.14285714285714285, \"interactionType\": 1, \"questionType\": 1, \"questionId\": \"4_CenteredPrice\", \"learnToolsVersion\": \"0.3.4\", \"failureMessage\": \"\", \"exceptionClass\": \"\", \"trace\": \"\"}}, \"*\")"
      ],
      "text/plain": [
       "<IPython.core.display.Javascript object>"
      ]
     },
     "metadata": {},
     "output_type": "display_data"
    },
    {
     "data": {
      "text/markdown": [
       "<span style=\"color:#33cc33\">Correct</span>"
      ],
      "text/plain": [
       "Correct"
      ]
     },
     "metadata": {},
     "output_type": "display_data"
    }
   ],
   "source": [
    "centered_price = reviews.price - reviews.price.mean()\n",
    "\n",
    "# Check your answer\n",
    "q4.check()"
   ]
  },
  {
   "cell_type": "code",
   "execution_count": 9,
   "id": "f0d64214",
   "metadata": {
    "execution": {
     "iopub.execute_input": "2023-10-13T11:20:10.134058Z",
     "iopub.status.busy": "2023-10-13T11:20:10.133598Z",
     "iopub.status.idle": "2023-10-13T11:20:10.138263Z",
     "shell.execute_reply": "2023-10-13T11:20:10.137108Z"
    },
    "papermill": {
     "duration": 0.018137,
     "end_time": "2023-10-13T11:20:10.140259",
     "exception": false,
     "start_time": "2023-10-13T11:20:10.122122",
     "status": "completed"
    },
    "tags": []
   },
   "outputs": [],
   "source": [
    "#q4.hint()\n",
    "#q4.solution()"
   ]
  },
  {
   "cell_type": "markdown",
   "id": "f6f6519c",
   "metadata": {
    "papermill": {
     "duration": 0.005905,
     "end_time": "2023-10-13T11:20:10.152355",
     "exception": false,
     "start_time": "2023-10-13T11:20:10.146450",
     "status": "completed"
    },
    "tags": []
   },
   "source": [
    "## 5.\n",
    "I'm an economical wine buyer. Which wine is the \"best bargain\"? Create a variable `bargain_wine` with the title of the wine with the highest points-to-price ratio in the dataset."
   ]
  },
  {
   "cell_type": "code",
   "execution_count": 10,
   "id": "b123d43d",
   "metadata": {
    "execution": {
     "iopub.execute_input": "2023-10-13T11:20:10.166834Z",
     "iopub.status.busy": "2023-10-13T11:20:10.166425Z",
     "iopub.status.idle": "2023-10-13T11:20:10.182663Z",
     "shell.execute_reply": "2023-10-13T11:20:10.181297Z"
    },
    "papermill": {
     "duration": 0.026563,
     "end_time": "2023-10-13T11:20:10.185513",
     "exception": false,
     "start_time": "2023-10-13T11:20:10.158950",
     "status": "completed"
    },
    "tags": []
   },
   "outputs": [
    {
     "data": {
      "application/javascript": [
       "parent.postMessage({\"jupyterEvent\": \"custom.exercise_interaction\", \"data\": {\"outcomeType\": 1, \"valueTowardsCompletion\": 0.14285714285714285, \"interactionType\": 1, \"questionType\": 2, \"questionId\": \"5_BargainWine\", \"learnToolsVersion\": \"0.3.4\", \"failureMessage\": \"\", \"exceptionClass\": \"\", \"trace\": \"\"}}, \"*\")"
      ],
      "text/plain": [
       "<IPython.core.display.Javascript object>"
      ]
     },
     "metadata": {},
     "output_type": "display_data"
    },
    {
     "data": {
      "text/markdown": [
       "<span style=\"color:#33cc33\">Correct</span>"
      ],
      "text/plain": [
       "Correct"
      ]
     },
     "metadata": {},
     "output_type": "display_data"
    }
   ],
   "source": [
    "bargain_idx = (reviews.points/reviews.price).idxmax()\n",
    "bargain_wine = reviews.loc[bargain_idx, 'title']\n",
    "\n",
    "# Check your answer\n",
    "q5.check()"
   ]
  },
  {
   "cell_type": "code",
   "execution_count": 11,
   "id": "5107149c",
   "metadata": {
    "execution": {
     "iopub.execute_input": "2023-10-13T11:20:10.200900Z",
     "iopub.status.busy": "2023-10-13T11:20:10.200191Z",
     "iopub.status.idle": "2023-10-13T11:20:10.203750Z",
     "shell.execute_reply": "2023-10-13T11:20:10.203029Z"
    },
    "papermill": {
     "duration": 0.013485,
     "end_time": "2023-10-13T11:20:10.205613",
     "exception": false,
     "start_time": "2023-10-13T11:20:10.192128",
     "status": "completed"
    },
    "tags": []
   },
   "outputs": [],
   "source": [
    "# q5.hint()\n",
    "# q5.solution()"
   ]
  },
  {
   "cell_type": "markdown",
   "id": "1bb00c63",
   "metadata": {
    "papermill": {
     "duration": 0.005907,
     "end_time": "2023-10-13T11:20:10.218025",
     "exception": false,
     "start_time": "2023-10-13T11:20:10.212118",
     "status": "completed"
    },
    "tags": []
   },
   "source": [
    "## 6.\n",
    "There are only so many words you can use when describing a bottle of wine. Is a wine more likely to be \"tropical\" or \"fruity\"? Create a Series `descriptor_counts` counting how many times each of these two words appears in the `description` column in the dataset. (For simplicity, let's ignore the capitalized versions of these words.)"
   ]
  },
  {
   "cell_type": "code",
   "execution_count": 12,
   "id": "994f4507",
   "metadata": {
    "execution": {
     "iopub.execute_input": "2023-10-13T11:20:10.233513Z",
     "iopub.status.busy": "2023-10-13T11:20:10.232762Z",
     "iopub.status.idle": "2023-10-13T11:20:10.241372Z",
     "shell.execute_reply": "2023-10-13T11:20:10.239970Z"
    },
    "papermill": {
     "duration": 0.018943,
     "end_time": "2023-10-13T11:20:10.243479",
     "exception": false,
     "start_time": "2023-10-13T11:20:10.224536",
     "status": "completed"
    },
    "tags": []
   },
   "outputs": [
    {
     "data": {
      "application/javascript": [
       "parent.postMessage({\"jupyterEvent\": \"custom.exercise_interaction\", \"data\": {\"outcomeType\": 4, \"interactionType\": 1, \"questionType\": 1, \"questionId\": \"6_DescriptorCounts\", \"learnToolsVersion\": \"0.3.4\", \"valueTowardsCompletion\": 0.0, \"failureMessage\": \"\", \"exceptionClass\": \"\", \"trace\": \"\"}}, \"*\")"
      ],
      "text/plain": [
       "<IPython.core.display.Javascript object>"
      ]
     },
     "metadata": {},
     "output_type": "display_data"
    },
    {
     "data": {
      "text/markdown": [
       "<span style=\"color:#ccaa33\">Check:</span> When you've updated the starter code, `check()` will tell you whether your code is correct. You need to update the code that creates variable `descriptor_counts`"
      ],
      "text/plain": [
       "Check: When you've updated the starter code, `check()` will tell you whether your code is correct. You need to update the code that creates variable `descriptor_counts`"
      ]
     },
     "metadata": {},
     "output_type": "display_data"
    }
   ],
   "source": [
    "descriptor_counts = ____\n",
    "\n",
    "# Check your answer\n",
    "q6.check()"
   ]
  },
  {
   "cell_type": "code",
   "execution_count": 13,
   "id": "790a8dcd",
   "metadata": {
    "execution": {
     "iopub.execute_input": "2023-10-13T11:20:10.259961Z",
     "iopub.status.busy": "2023-10-13T11:20:10.258841Z",
     "iopub.status.idle": "2023-10-13T11:20:10.263174Z",
     "shell.execute_reply": "2023-10-13T11:20:10.262208Z"
    },
    "papermill": {
     "duration": 0.014222,
     "end_time": "2023-10-13T11:20:10.265083",
     "exception": false,
     "start_time": "2023-10-13T11:20:10.250861",
     "status": "completed"
    },
    "tags": []
   },
   "outputs": [],
   "source": [
    "#q6.hint()\n",
    "#q6.solution()"
   ]
  },
  {
   "cell_type": "markdown",
   "id": "0fcc3362",
   "metadata": {
    "papermill": {
     "duration": 0.006174,
     "end_time": "2023-10-13T11:20:10.277937",
     "exception": false,
     "start_time": "2023-10-13T11:20:10.271763",
     "status": "completed"
    },
    "tags": []
   },
   "source": [
    "## 7.\n",
    "We'd like to host these wine reviews on our website, but a rating system ranging from 80 to 100 points is too hard to understand - we'd like to translate them into simple star ratings. A score of 95 or higher counts as 3 stars, a score of at least 85 but less than 95 is 2 stars. Any other score is 1 star.\n",
    "\n",
    "Also, the Canadian Vintners Association bought a lot of ads on the site, so any wines from Canada should automatically get 3 stars, regardless of points.\n",
    "\n",
    "Create a series `star_ratings` with the number of stars corresponding to each review in the dataset."
   ]
  },
  {
   "cell_type": "code",
   "execution_count": 14,
   "id": "9b14747a",
   "metadata": {
    "execution": {
     "iopub.execute_input": "2023-10-13T11:20:10.292661Z",
     "iopub.status.busy": "2023-10-13T11:20:10.292030Z",
     "iopub.status.idle": "2023-10-13T11:20:10.299267Z",
     "shell.execute_reply": "2023-10-13T11:20:10.298535Z"
    },
    "papermill": {
     "duration": 0.017473,
     "end_time": "2023-10-13T11:20:10.301720",
     "exception": false,
     "start_time": "2023-10-13T11:20:10.284247",
     "status": "completed"
    },
    "tags": []
   },
   "outputs": [
    {
     "data": {
      "application/javascript": [
       "parent.postMessage({\"jupyterEvent\": \"custom.exercise_interaction\", \"data\": {\"outcomeType\": 4, \"interactionType\": 1, \"questionType\": 1, \"questionId\": \"7_StarRatings\", \"learnToolsVersion\": \"0.3.4\", \"valueTowardsCompletion\": 0.0, \"failureMessage\": \"\", \"exceptionClass\": \"\", \"trace\": \"\"}}, \"*\")"
      ],
      "text/plain": [
       "<IPython.core.display.Javascript object>"
      ]
     },
     "metadata": {},
     "output_type": "display_data"
    },
    {
     "data": {
      "text/markdown": [
       "<span style=\"color:#ccaa33\">Check:</span> When you've updated the starter code, `check()` will tell you whether your code is correct. You need to update the code that creates variable `star_ratings`"
      ],
      "text/plain": [
       "Check: When you've updated the starter code, `check()` will tell you whether your code is correct. You need to update the code that creates variable `star_ratings`"
      ]
     },
     "metadata": {},
     "output_type": "display_data"
    }
   ],
   "source": [
    "star_ratings = ____\n",
    "\n",
    "# Check your answer\n",
    "q7.check()"
   ]
  },
  {
   "cell_type": "code",
   "execution_count": 15,
   "id": "2331b506",
   "metadata": {
    "execution": {
     "iopub.execute_input": "2023-10-13T11:20:10.319959Z",
     "iopub.status.busy": "2023-10-13T11:20:10.319385Z",
     "iopub.status.idle": "2023-10-13T11:20:10.325348Z",
     "shell.execute_reply": "2023-10-13T11:20:10.324454Z"
    },
    "papermill": {
     "duration": 0.017287,
     "end_time": "2023-10-13T11:20:10.327594",
     "exception": false,
     "start_time": "2023-10-13T11:20:10.310307",
     "status": "completed"
    },
    "tags": []
   },
   "outputs": [],
   "source": [
    "#q7.hint()\n",
    "#q7.solution()"
   ]
  },
  {
   "cell_type": "markdown",
   "id": "d8b2f850",
   "metadata": {
    "papermill": {
     "duration": 0.006756,
     "end_time": "2023-10-13T11:20:10.341450",
     "exception": false,
     "start_time": "2023-10-13T11:20:10.334694",
     "status": "completed"
    },
    "tags": []
   },
   "source": [
    "# Keep going\n",
    "Continue to **[grouping and sorting](https://www.kaggle.com/residentmario/grouping-and-sorting)**."
   ]
  },
  {
   "cell_type": "markdown",
   "id": "1b7387ba",
   "metadata": {
    "papermill": {
     "duration": 0.007696,
     "end_time": "2023-10-13T11:20:10.357382",
     "exception": false,
     "start_time": "2023-10-13T11:20:10.349686",
     "status": "completed"
    },
    "tags": []
   },
   "source": [
    "---\n",
    "\n",
    "\n",
    "\n",
    "\n",
    "*Have questions or comments? Visit the [course discussion forum](https://www.kaggle.com/learn/pandas/discussion) to chat with other learners.*"
   ]
  }
 ],
 "metadata": {
  "kernelspec": {
   "display_name": "Python 3",
   "language": "python",
   "name": "python3"
  },
  "language_info": {
   "codemirror_mode": {
    "name": "ipython",
    "version": 3
   },
   "file_extension": ".py",
   "mimetype": "text/x-python",
   "name": "python",
   "nbconvert_exporter": "python",
   "pygments_lexer": "ipython3",
   "version": "3.10.12"
  },
  "papermill": {
   "default_parameters": {},
   "duration": 10.73861,
   "end_time": "2023-10-13T11:20:10.885453",
   "environment_variables": {},
   "exception": null,
   "input_path": "__notebook__.ipynb",
   "output_path": "__notebook__.ipynb",
   "parameters": {},
   "start_time": "2023-10-13T11:20:00.146843",
   "version": "2.4.0"
  }
 },
 "nbformat": 4,
 "nbformat_minor": 5
}
